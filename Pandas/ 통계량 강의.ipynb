{
 "cells": [
  {
   "cell_type": "code",
   "execution_count": 2,
   "id": "f9f7a421",
   "metadata": {},
   "outputs": [],
   "source": [
    "import numpy as np\n",
    "import pandas as pd\n",
    "import math\n",
    "from scipy.stats import *\n",
    "import scipy as sp\n",
    "\n",
    "# Jupyter Notebook의 출력을 소수점 이하 3자리로 제한\n",
    "%precision 3\n",
    "# Dataframe의 출력을 소수점 이하 3자리로 제한\n",
    "pd.set_option('precision', 3)\n"
   ]
  },
  {
   "cell_type": "code",
   "execution_count": 3,
   "id": "61886d6e",
   "metadata": {},
   "outputs": [],
   "source": [
    "from IPython.core.interactiveshell import InteractiveShell\n",
    "InteractiveShell.ast_node_interactivity=\"all\"\n"
   ]
  },
  {
   "cell_type": "code",
   "execution_count": 4,
   "id": "5e46b6b2",
   "metadata": {},
   "outputs": [
    {
     "data": {
      "text/plain": [
       "3.0"
      ]
     },
     "execution_count": 4,
     "metadata": {},
     "output_type": "execute_result"
    }
   ],
   "source": [
    "x=[1,2,3,4,5]\n",
    "np.mean(x)"
   ]
  },
  {
   "cell_type": "code",
   "execution_count": 8,
   "id": "d6406116",
   "metadata": {},
   "outputs": [
    {
     "data": {
      "text/plain": [
       "3.0"
      ]
     },
     "execution_count": 8,
     "metadata": {},
     "output_type": "execute_result"
    },
    {
     "data": {
      "text/plain": [
       "3.000"
      ]
     },
     "execution_count": 8,
     "metadata": {},
     "output_type": "execute_result"
    }
   ],
   "source": [
    "np.array(x).mean()\n",
    "pd.Series(x).mean()"
   ]
  },
  {
   "cell_type": "code",
   "execution_count": 22,
   "id": "73e4fc3d",
   "metadata": {},
   "outputs": [
    {
     "data": {
      "text/html": [
       "<div>\n",
       "<style scoped>\n",
       "    .dataframe tbody tr th:only-of-type {\n",
       "        vertical-align: middle;\n",
       "    }\n",
       "\n",
       "    .dataframe tbody tr th {\n",
       "        vertical-align: top;\n",
       "    }\n",
       "\n",
       "    .dataframe thead th {\n",
       "        text-align: right;\n",
       "    }\n",
       "</style>\n",
       "<table border=\"1\" class=\"dataframe\">\n",
       "  <thead>\n",
       "    <tr style=\"text-align: right;\">\n",
       "      <th></th>\n",
       "      <th>english</th>\n",
       "      <th>mathematics</th>\n",
       "    </tr>\n",
       "    <tr>\n",
       "      <th>student number</th>\n",
       "      <th></th>\n",
       "      <th></th>\n",
       "    </tr>\n",
       "  </thead>\n",
       "  <tbody>\n",
       "    <tr>\n",
       "      <th>1</th>\n",
       "      <td>42</td>\n",
       "      <td>65</td>\n",
       "    </tr>\n",
       "    <tr>\n",
       "      <th>2</th>\n",
       "      <td>69</td>\n",
       "      <td>80</td>\n",
       "    </tr>\n",
       "    <tr>\n",
       "      <th>3</th>\n",
       "      <td>56</td>\n",
       "      <td>63</td>\n",
       "    </tr>\n",
       "    <tr>\n",
       "      <th>4</th>\n",
       "      <td>41</td>\n",
       "      <td>63</td>\n",
       "    </tr>\n",
       "    <tr>\n",
       "      <th>5</th>\n",
       "      <td>57</td>\n",
       "      <td>76</td>\n",
       "    </tr>\n",
       "  </tbody>\n",
       "</table>\n",
       "</div>"
      ],
      "text/plain": [
       "                english  mathematics\n",
       "student number                      \n",
       "1                    42           65\n",
       "2                    69           80\n",
       "3                    56           63\n",
       "4                    41           63\n",
       "5                    57           76"
      ]
     },
     "execution_count": 22,
     "metadata": {},
     "output_type": "execute_result"
    }
   ],
   "source": [
    "df=pd.read_csv('c:\\workspace\\data\\ch2_scores_em.csv',index_col='student number')\n",
    "\n",
    "#df의 처음 5행 표시\n",
    "df.head()"
   ]
  },
  {
   "cell_type": "code",
   "execution_count": 23,
   "id": "a3df688d",
   "metadata": {},
   "outputs": [
    {
     "data": {
      "text/plain": [
       "(50, 2)"
      ]
     },
     "execution_count": 23,
     "metadata": {},
     "output_type": "execute_result"
    }
   ],
   "source": [
    "df.shape"
   ]
  },
  {
   "cell_type": "code",
   "execution_count": 24,
   "id": "32b4a7d1",
   "metadata": {},
   "outputs": [
    {
     "data": {
      "text/plain": [
       "58.380"
      ]
     },
     "execution_count": 24,
     "metadata": {},
     "output_type": "execute_result"
    }
   ],
   "source": [
    "#sum(),len() 함수를 이용하여 산술평균 계산\n",
    "#영어 과목의 평균 계산\n",
    "sum(df['english'])/len(df['english'])"
   ]
  },
  {
   "cell_type": "code",
   "execution_count": 25,
   "id": "28fcecbb",
   "metadata": {},
   "outputs": [
    {
     "data": {
      "text/plain": [
       "58.380"
      ]
     },
     "execution_count": 25,
     "metadata": {},
     "output_type": "execute_result"
    }
   ],
   "source": [
    "#numpy의 mean()함수 이용하여 산술평균 계산\n",
    "np.mean(df['english'])"
   ]
  },
  {
   "cell_type": "code",
   "execution_count": null,
   "id": "f157b733",
   "metadata": {},
   "outputs": [],
   "source": [
    "#pandas의 데이터프레임에서 mean()함수 이용하여 "
   ]
  },
  {
   "cell_type": "code",
   "execution_count": 19,
   "id": "1116325b",
   "metadata": {},
   "outputs": [],
   "source": [
    "data = [2,8,3]"
   ]
  },
  {
   "cell_type": "code",
   "execution_count": 27,
   "id": "627f4baf",
   "metadata": {},
   "outputs": [
    {
     "data": {
      "text/plain": [
       "4.333333333333333"
      ]
     },
     "execution_count": 27,
     "metadata": {},
     "output_type": "execute_result"
    }
   ],
   "source": [
    "#산술 평균\n",
    "np.mean(data)"
   ]
  },
  {
   "cell_type": "code",
   "execution_count": 30,
   "id": "c296252e",
   "metadata": {},
   "outputs": [
    {
     "data": {
      "text/plain": [
       "array([0.013, 0.008])"
      ]
     },
     "execution_count": 30,
     "metadata": {},
     "output_type": "execute_result"
    },
    {
     "data": {
      "text/plain": [
       "95.99999999999999"
      ]
     },
     "execution_count": 30,
     "metadata": {},
     "output_type": "execute_result"
    }
   ],
   "source": [
    "#조화평균 계산\n",
    "data = np.array([80,120])\n",
    "1/data\n",
    "len(data)/np.sum(1/data)"
   ]
  },
  {
   "cell_type": "code",
   "execution_count": 29,
   "id": "d2704480",
   "metadata": {},
   "outputs": [
    {
     "data": {
      "text/plain": [
       "95.99999999999999"
      ]
     },
     "execution_count": 29,
     "metadata": {},
     "output_type": "execute_result"
    }
   ],
   "source": [
    "#scipy.stat.hmean(a[,axis,dtype]) 이용하여 조화평균 계산\n",
    "hmean(data)"
   ]
  },
  {
   "cell_type": "code",
   "execution_count": 31,
   "id": "d90ab121",
   "metadata": {},
   "outputs": [
    {
     "data": {
      "text/plain": [
       "2.5"
      ]
     },
     "execution_count": 31,
     "metadata": {},
     "output_type": "execute_result"
    },
    {
     "data": {
      "text/plain": [
       "4.0"
      ]
     },
     "execution_count": 31,
     "metadata": {},
     "output_type": "execute_result"
    }
   ],
   "source": [
    "np.average(np.arange(1,5))\n",
    "np.average(np.arange(1,11),weights=np.arange(10,0,-1))"
   ]
  },
  {
   "cell_type": "code",
   "execution_count": 32,
   "id": "65f248eb",
   "metadata": {},
   "outputs": [
    {
     "data": {
      "text/plain": [
       "5.5"
      ]
     },
     "execution_count": 32,
     "metadata": {},
     "output_type": "execute_result"
    }
   ],
   "source": [
    "np.mean(np.arange(1,11))"
   ]
  },
  {
   "cell_type": "code",
   "execution_count": 34,
   "id": "eb4b2d3c",
   "metadata": {},
   "outputs": [
    {
     "data": {
      "text/plain": [
       "array([42, 69, 56, 41, 57, 48, 65, 49, 65, 58, 70, 47, 51, 64, 62, 70, 71,\n",
       "       68, 73, 37, 65, 65, 61, 52, 57, 57, 75, 61, 47, 54, 66, 54, 54, 42,\n",
       "       37, 79, 56, 62, 62, 55, 63, 57, 57, 67, 55, 45, 66, 55, 64, 66],\n",
       "      dtype=int64)"
      ]
     },
     "execution_count": 34,
     "metadata": {},
     "output_type": "execute_result"
    }
   ],
   "source": [
    "#예제 데이터\n",
    "scores=np.array(df['english'])\n",
    "scores"
   ]
  },
  {
   "cell_type": "code",
   "execution_count": 36,
   "id": "dc5c1726",
   "metadata": {},
   "outputs": [
    {
     "data": {
      "text/plain": [
       "array([37, 37, 41, 42, 42, 45, 47, 47, 48, 49, 51, 52, 54, 54, 54, 55, 55,\n",
       "       55, 56, 56, 57, 57, 57, 57, 57, 58, 61, 61, 62, 62, 62, 63, 64, 64,\n",
       "       65, 65, 65, 65, 66, 66, 66, 67, 68, 69, 70, 70, 71, 73, 75, 79],\n",
       "      dtype=int64)"
      ]
     },
     "execution_count": 36,
     "metadata": {},
     "output_type": "execute_result"
    }
   ],
   "source": [
    "#순서 통계량\n",
    "sorted_scores=np.sort(scores)\n",
    "sorted_scores"
   ]
  },
  {
   "cell_type": "code",
   "execution_count": 37,
   "id": "a9a347ae",
   "metadata": {},
   "outputs": [
    {
     "data": {
      "text/plain": [
       "57.5"
      ]
     },
     "execution_count": 37,
     "metadata": {},
     "output_type": "execute_result"
    }
   ],
   "source": [
    "#median 계산식\n",
    "n=len(sorted_scores)\n",
    "if n%2==0:\n",
    "    x1=sorted_scores[n//2-1]\n",
    "    x2=sorted_scores[n//2]\n",
    "    median=(x1+x2)/2\n",
    "else:\n",
    "    median=sorted_scores[(n+1)//2-1]\n",
    "median"
   ]
  },
  {
   "cell_type": "code",
   "execution_count": 38,
   "id": "065b2904",
   "metadata": {},
   "outputs": [
    {
     "data": {
      "text/plain": [
       "(57, 58)"
      ]
     },
     "execution_count": 38,
     "metadata": {},
     "output_type": "execute_result"
    }
   ],
   "source": [
    "sorted_scores[24],sorted_scores[25]"
   ]
  },
  {
   "cell_type": "code",
   "execution_count": 39,
   "id": "32d32547",
   "metadata": {},
   "outputs": [
    {
     "data": {
      "text/plain": [
       "57.5"
      ]
     },
     "execution_count": 39,
     "metadata": {},
     "output_type": "execute_result"
    }
   ],
   "source": [
    "#numpy의 median() 함수\n",
    "np.median(scores)"
   ]
  },
  {
   "cell_type": "code",
   "execution_count": 40,
   "id": "623bce4b",
   "metadata": {},
   "outputs": [
    {
     "data": {
      "text/plain": [
       "57.500"
      ]
     },
     "execution_count": 40,
     "metadata": {},
     "output_type": "execute_result"
    }
   ],
   "source": [
    "#pandas.DataFrame의 median() 함수\n",
    "df['english'].median()"
   ]
  },
  {
   "cell_type": "code",
   "execution_count": 43,
   "id": "ed561a18",
   "metadata": {},
   "outputs": [
    {
     "data": {
      "text/plain": [
       "array([2894314.237, 2218254.925, 2048248.734, 1068253.648, 1861305.899,\n",
       "       1822620.51 , 1958629.259, 1686499.662, 1978090.916, 1761390.985])"
      ]
     },
     "execution_count": 43,
     "metadata": {},
     "output_type": "execute_result"
    }
   ],
   "source": [
    "np.random.seed(3)\n",
    "income=np.random.normal(2000000,500000,100)\n",
    "income[:10]"
   ]
  },
  {
   "cell_type": "code",
   "execution_count": 44,
   "id": "3c6b3a49",
   "metadata": {},
   "outputs": [
    {
     "data": {
      "text/plain": [
       "1945681.4627969689"
      ]
     },
     "execution_count": 44,
     "metadata": {},
     "output_type": "execute_result"
    }
   ],
   "source": [
    "#평균 소득\n",
    "np.mean(income)"
   ]
  },
  {
   "cell_type": "code",
   "execution_count": 45,
   "id": "553f647c",
   "metadata": {},
   "outputs": [],
   "source": [
    "income = np.append(income, 10**9)"
   ]
  },
  {
   "cell_type": "code",
   "execution_count": 46,
   "id": "01c61d17",
   "metadata": {},
   "outputs": [
    {
     "data": {
      "text/plain": [
       "11827407.38890789"
      ]
     },
     "execution_count": 46,
     "metadata": {},
     "output_type": "execute_result"
    }
   ],
   "source": [
    "#평균 소득\n",
    "np.mean(income)"
   ]
  },
  {
   "cell_type": "code",
   "execution_count": 47,
   "id": "71358b2f",
   "metadata": {},
   "outputs": [
    {
     "data": {
      "text/plain": [
       "1919743.318406538"
      ]
     },
     "execution_count": 47,
     "metadata": {},
     "output_type": "execute_result"
    }
   ],
   "source": [
    "#중앙값\n",
    "np.median(income)"
   ]
  },
  {
   "cell_type": "code",
   "execution_count": 48,
   "id": "b4205f26",
   "metadata": {},
   "outputs": [
    {
     "data": {
      "text/plain": [
       "1941471.0812132563"
      ]
     },
     "execution_count": 48,
     "metadata": {},
     "output_type": "execute_result"
    }
   ],
   "source": [
    "#scipy.stats.trim_mean(a,proportiontocut[,axis])이용\n",
    "trim_mean(income, 0.2)"
   ]
  },
  {
   "cell_type": "code",
   "execution_count": 49,
   "id": "3176f530",
   "metadata": {},
   "outputs": [
    {
     "data": {
      "text/plain": [
       "array(['C', 'A', 'B', 'A', 'A', 'A', 'B', 'B', 'C', 'B'], dtype='<U1')"
      ]
     },
     "execution_count": 49,
     "metadata": {},
     "output_type": "execute_result"
    },
    {
     "data": {
      "text/plain": [
       "1000"
      ]
     },
     "execution_count": 49,
     "metadata": {},
     "output_type": "execute_result"
    }
   ],
   "source": [
    "np.random.seed(3)\n",
    "data=np.random.choice(['A','B','C'],1000)\n",
    "#A,B,C라는 요소로 이루어진 데이터\n",
    "data[:10]\n",
    "len(data)"
   ]
  },
  {
   "cell_type": "code",
   "execution_count": 50,
   "id": "7d2be8c1",
   "metadata": {},
   "outputs": [
    {
     "data": {
      "text/plain": [
       "ModeResult(mode=array(['A'], dtype='<U1'), count=array([350]))"
      ]
     },
     "execution_count": 50,
     "metadata": {},
     "output_type": "execute_result"
    }
   ],
   "source": [
    "mode(data)"
   ]
  },
  {
   "cell_type": "code",
   "execution_count": 51,
   "id": "998d4dc7",
   "metadata": {},
   "outputs": [
    {
     "data": {
      "text/plain": [
       "array(['A'], dtype='<U1')"
      ]
     },
     "execution_count": 51,
     "metadata": {},
     "output_type": "execute_result"
    }
   ],
   "source": [
    "#최빈값\n",
    "mode(data).mode"
   ]
  },
  {
   "cell_type": "code",
   "execution_count": 52,
   "id": "ab01021a",
   "metadata": {},
   "outputs": [
    {
     "data": {
      "text/plain": [
       "array([350])"
      ]
     },
     "execution_count": 52,
     "metadata": {},
     "output_type": "execute_result"
    }
   ],
   "source": [
    "#최빈값의 빈도\n",
    "mode(data).count"
   ]
  },
  {
   "cell_type": "code",
   "execution_count": 53,
   "id": "9c590f4b",
   "metadata": {},
   "outputs": [
    {
     "data": {
      "text/plain": [
       "A    350\n",
       "B    328\n",
       "C    322\n",
       "dtype: int64"
      ]
     },
     "execution_count": 53,
     "metadata": {},
     "output_type": "execute_result"
    }
   ],
   "source": [
    "pd.Series(data).value_counts()"
   ]
  },
  {
   "cell_type": "code",
   "execution_count": 55,
   "id": "e1177ab1",
   "metadata": {},
   "outputs": [
    {
     "data": {
      "text/plain": [
       "'A'"
      ]
     },
     "execution_count": 55,
     "metadata": {},
     "output_type": "execute_result"
    },
    {
     "data": {
      "text/plain": [
       "350"
      ]
     },
     "execution_count": 55,
     "metadata": {},
     "output_type": "execute_result"
    }
   ],
   "source": [
    "pd.Series(data).value_counts().index[0]\n",
    "pd.Series(data).value_counts()[0]"
   ]
  },
  {
   "cell_type": "code",
   "execution_count": 67,
   "id": "7d0cfc4e",
   "metadata": {},
   "outputs": [
    {
     "data": {
      "text/plain": [
       "array([ 78.287, 119.947, 105.66 ,  69.874,  88.428, 133.029,  51.466,\n",
       "        91.422, 125.319,  82.665])"
      ]
     },
     "execution_count": 67,
     "metadata": {},
     "output_type": "execute_result"
    }
   ],
   "source": [
    "np.random.seed(123)\n",
    "data=np.random.normal(100,20,size=1000)\n",
    "data[:10]"
   ]
  },
  {
   "cell_type": "code",
   "execution_count": 68,
   "id": "e963aff6",
   "metadata": {},
   "outputs": [
    {
     "data": {
      "text/plain": [
       "(35.37889984161376, 171.43158436052622)"
      ]
     },
     "execution_count": 68,
     "metadata": {},
     "output_type": "execute_result"
    }
   ],
   "source": [
    "sorted(data)[0],sorted(data)[-1]"
   ]
  },
  {
   "cell_type": "code",
   "execution_count": 69,
   "id": "763bff3b",
   "metadata": {},
   "outputs": [
    {
     "data": {
      "text/plain": [
       "86.30886819268538"
      ]
     },
     "execution_count": 69,
     "metadata": {},
     "output_type": "execute_result"
    }
   ],
   "source": [
    "#제1사분위수(하사분위수,Q1)\n",
    "np.percentile(data,25)"
   ]
  },
  {
   "cell_type": "code",
   "execution_count": 70,
   "id": "576e48a4",
   "metadata": {},
   "outputs": [
    {
     "data": {
      "text/plain": [
       "113.37731495435875"
      ]
     },
     "execution_count": 70,
     "metadata": {},
     "output_type": "execute_result"
    }
   ],
   "source": [
    "#제3사분위수(상사분위수,Q3)\n",
    "np.percentile(data,75)"
   ]
  },
  {
   "cell_type": "code",
   "execution_count": 73,
   "id": "db7b8859",
   "metadata": {},
   "outputs": [
    {
     "data": {
      "text/plain": [
       "{'whiskers': [<matplotlib.lines.Line2D at 0x2130fd1dfa0>,\n",
       "  <matplotlib.lines.Line2D at 0x2130fd3e2b0>],\n",
       " 'caps': [<matplotlib.lines.Line2D at 0x2130fd3e640>,\n",
       "  <matplotlib.lines.Line2D at 0x2130fd3e9d0>],\n",
       " 'boxes': [<matplotlib.lines.Line2D at 0x2130fd1db50>],\n",
       " 'medians': [<matplotlib.lines.Line2D at 0x2130fd3ed60>],\n",
       " 'fliers': [<matplotlib.lines.Line2D at 0x2130fd49130>],\n",
       " 'means': []}"
      ]
     },
     "execution_count": 73,
     "metadata": {},
     "output_type": "execute_result"
    },
    {
     "data": {
      "image/png": "[encoded data removed]",
      "text/plain": [
       "<Figure size 432x288 with 1 Axes>"
      ]
     },
     "metadata": {
      "needs_background": "light"
     },
     "output_type": "display_data"
    }
   ],
   "source": [
    "import matplotlib.pyplot as plt\n",
    "plt.boxplot(data)"
   ]
  },
  {
   "cell_type": "code",
   "execution_count": 74,
   "id": "34df80c7",
   "metadata": {},
   "outputs": [
    {
     "data": {
      "text/plain": [
       "DescribeResult(nobs=1000, minmax=(35.37889984161376, 171.43158436052622), mean=99.20871727838417, variance=401.03130940853094, skewness=-0.029040113501245676, kurtosis=-0.02543852877769215)"
      ]
     },
     "execution_count": 74,
     "metadata": {},
     "output_type": "execute_result"
    },
    {
     "data": {
      "text/plain": [
       "DescribeResult(nobs=50, minmax=(37, 79), mean=58.38, variance=96.03632653061224, skewness=-0.31679325324962426, kurtosis=-0.38870454364589113)"
      ]
     },
     "execution_count": 74,
     "metadata": {},
     "output_type": "execute_result"
    }
   ],
   "source": [
    "describe(data)\n",
    "describe(df['english'])#표본데이터의 기술 통계량"
   ]
  },
  {
   "cell_type": "code",
   "execution_count": 76,
   "id": "bd118bb5",
   "metadata": {},
   "outputs": [
    {
     "data": {
      "text/plain": [
       "count    50.00\n",
       "mean     58.38\n",
       "std       9.80\n",
       "min      37.00\n",
       "25%      54.00\n",
       "50%      57.50\n",
       "75%      65.00\n",
       "max      79.00\n",
       "Name: english, dtype: float64"
      ]
     },
     "execution_count": 76,
     "metadata": {},
     "output_type": "execute_result"
    }
   ],
   "source": [
    "df['english'].describe()"
   ]
  },
  {
   "cell_type": "code",
   "execution_count": 77,
   "id": "194c36c1",
   "metadata": {},
   "outputs": [
    {
     "data": {
      "text/plain": [
       "DescribeResult(nobs=50, minmax=(37, 79), mean=58.38, variance=94.1156, skewness=-0.31679325324962426, kurtosis=-0.38870454364589113)"
      ]
     },
     "execution_count": 77,
     "metadata": {},
     "output_type": "execute_result"
    }
   ],
   "source": [
    "describe(df['english'],ddof=0) #모집단 데이터에 대한 기술통계량"
   ]
  },
  {
   "cell_type": "code",
   "execution_count": 79,
   "id": "8cf8af28",
   "metadata": {},
   "outputs": [],
   "source": [
    "import numpy as np\n",
    "import pandas as pd\n",
    "from scipy.stats import*"
   ]
  },
  {
   "cell_type": "code",
   "execution_count": 80,
   "id": "b1e09d24",
   "metadata": {},
   "outputs": [],
   "source": [
    "import numpy as np\n",
    "# numpy float 출력옵션 변경\n",
    "# np.set_printoptions(precision=3)\n",
    "# np.set_printoptions(precision=20, suppress=True)\n",
    "# pd.options.display.float_format = '{:.2f}'.format\n",
    "np.set_printoptions(formatter={'float_kind': lambda x: \"{0:0.3f}\".format(x)})\n"
   ]
  },
  {
   "cell_type": "code",
   "execution_count": 81,
   "id": "5fcaff3c",
   "metadata": {},
   "outputs": [],
   "source": [
    "from IPython.core.interactiveshell import InteractiveShell\n",
    "InteractiveShell.ast_node_interactivity=\"all\"\n"
   ]
  },
  {
   "cell_type": "code",
   "execution_count": 82,
   "id": "0ab711f9",
   "metadata": {},
   "outputs": [
    {
     "data": {
      "text/plain": [
       "array([78.287, 119.947, 105.660, 69.874, 88.428, 133.029, 51.466, 91.422,\n",
       "       125.319, 82.665])"
      ]
     },
     "execution_count": 82,
     "metadata": {},
     "output_type": "execute_result"
    }
   ],
   "source": [
    "np.random.seed(123)\n",
    "data=np.random.normal(100,20,size=1000)\n",
    "data[:10]"
   ]
  },
  {
   "cell_type": "code",
   "execution_count": 83,
   "id": "0ef19ef1",
   "metadata": {},
   "outputs": [
    {
     "data": {
      "text/plain": [
       "(35.37889984161376, 171.43158436052622)"
      ]
     },
     "execution_count": 83,
     "metadata": {},
     "output_type": "execute_result"
    }
   ],
   "source": [
    "np.min(data),np.max(data)"
   ]
  },
  {
   "cell_type": "code",
   "execution_count": 85,
   "id": "701f3d13",
   "metadata": {},
   "outputs": [
    {
     "data": {
      "text/plain": [
       "136.05268451891246"
      ]
     },
     "execution_count": 85,
     "metadata": {},
     "output_type": "execute_result"
    }
   ],
   "source": [
    "np.max(data)-np.min(data)"
   ]
  },
  {
   "cell_type": "code",
   "execution_count": 86,
   "id": "920bd97b",
   "metadata": {},
   "outputs": [
    {
     "data": {
      "text/plain": [
       "136.05268451891246"
      ]
     },
     "execution_count": 86,
     "metadata": {},
     "output_type": "execute_result"
    }
   ],
   "source": [
    "np.ptp(data)"
   ]
  },
  {
   "cell_type": "code",
   "execution_count": 87,
   "id": "16b50e36",
   "metadata": {},
   "outputs": [
    {
     "data": {
      "text/plain": [
       "103.40524210106999"
      ]
     },
     "execution_count": 87,
     "metadata": {},
     "output_type": "execute_result"
    }
   ],
   "source": [
    "#중간 범위 계산\n",
    "(np.max(data)+np.min(data))/2"
   ]
  },
  {
   "cell_type": "code",
   "execution_count": 88,
   "id": "3f803d08",
   "metadata": {},
   "outputs": [
    {
     "data": {
      "text/plain": [
       "27.06844676167337"
      ]
     },
     "execution_count": 88,
     "metadata": {},
     "output_type": "execute_result"
    }
   ],
   "source": [
    "np.quantile(data,0.75)-np.quantile(data,0.25)"
   ]
  },
  {
   "cell_type": "code",
   "execution_count": 89,
   "id": "f83d7e28",
   "metadata": {},
   "outputs": [
    {
     "data": {
      "text/plain": [
       "27.06844676167337"
      ]
     },
     "execution_count": 89,
     "metadata": {},
     "output_type": "execute_result"
    }
   ],
   "source": [
    "iqr(data)"
   ]
  },
  {
   "cell_type": "code",
   "execution_count": 91,
   "id": "89e6e7bd",
   "metadata": {},
   "outputs": [
    {
     "data": {
      "text/plain": [
       "array([-20.921, 20.738, 6.451, -29.335, -10.781, 33.820, -47.742, -7.787,\n",
       "       26.110, -16.544, -12.786, -1.103, 30.619, -11.987, -8.088, -7.896,\n",
       "       44.910, 44.527, 20.872, 8.515, 15.539, 30.606, -17.925, 24.308,\n",
       "       -24.286, -11.964, 18.933, -27.782, -2.010, -16.444, -4.321,\n",
       "       -55.180, -34.639, -13.206, 19.341, -2.681, 0.848, 14.556, -16.799,\n",
       "       6.464, -15.316, -33.762, -7.027, 12.267, 7.563, 0.555, 48.639,\n",
       "       9.050, 20.366, 45.554, -25.090, -19.984, 35.666, -15.170, 1.385,\n",
       "       22.178, 18.605, 35.889, 30.704, 22.179, -14.663, 16.689, 7.077,\n",
       "       -25.734, 29.137, 16.936, 1.701, -3.871, -23.175, 4.782, 10.160,\n",
       "       -15.832, 24.035, -21.153, -41.671, 21.586, -7.276, -1.729, -15.959,\n",
       "       -31.328, 25.896, -12.986, 34.010, 16.937, -5.504, -20.927, -13.858,\n",
       "       -23.459, 42.534, 4.080, 23.795, -24.556, 4.412, 24.349, -5.909,\n",
       "       21.414, -20.900, -26.478, 8.379, -6.792, 13.632, -38.766, 15.037,\n",
       "       52.757, 0.299, 1.474, 4.382, -36.448, 9.314, -31.317, -7.762,\n",
       "       25.649, -13.913, 10.816, 21.046, 6.366, -26.628, -5.858, 39.980,\n",
       "       -39.710, -4.724, -10.251, 3.206, 15.756, 32.965, -4.613, 17.038,\n",
       "       10.786, 10.278, -10.487, -19.155, -21.210, -14.337, 7.225, 16.010,\n",
       "       7.261, -10.188, 36.911, 31.169, -6.289, -15.677, 3.396, 26.137,\n",
       "       7.447, 11.922, -3.450, 9.917, 31.682, -4.002, 3.657, 5.868, 6.466,\n",
       "       -27.446, -36.746, -19.602, 4.150, 11.868, -9.822, 28.336, -2.072,\n",
       "       1.198, -3.088, 3.472, 14.881, 14.104, -17.177, 31.265, -21.109,\n",
       "       2.376, -4.697, -20.189, -0.711, -14.025, 2.249, 8.853, 30.230,\n",
       "       6.939, -11.433, -7.041, 3.591, 2.660, 29.983, 28.698, -6.387,\n",
       "       -10.182, -50.350, -10.187, -18.770, -6.305, 8.623, 4.335, 0.192,\n",
       "       4.783, -1.731, 4.732, -63.830, -4.595, -1.426, -6.034, -3.568,\n",
       "       14.857, -11.171, 44.805, 14.557, 0.665, -3.342, -0.939, -17.515,\n",
       "       -1.113, 6.365, 12.382, 12.385, -4.706, -27.530, -12.591, 33.035,\n",
       "       18.712, 8.184, -14.435, 0.864, -24.322, -10.247, -4.113, -6.442,\n",
       "       19.923, -27.583, -16.517, -26.702, -23.956, 3.272, -31.218, 15.869,\n",
       "       -4.145, 2.167, 7.243, -7.892, 21.441, -3.096, 12.673, -3.191,\n",
       "       6.609, 6.385, 5.791, -18.695, 9.509, -5.588, 13.401, -42.259,\n",
       "       -28.511, 8.060, 38.050, 17.492, -12.858, -33.050, 15.645, -0.820,\n",
       "       12.605, 3.097, 1.384, 59.964, 0.669, -2.394, -1.638, -10.879,\n",
       "       20.594, -6.284, 13.510, 6.483, 25.171, 9.195, -23.476, -25.738,\n",
       "       28.959, -11.383, -25.621, -12.601, 26.084, -27.613, -16.539,\n",
       "       -12.545, -24.233, -22.895, -29.571, -8.432, -6.307, -12.859,\n",
       "       -32.283, 25.858, -25.790, 6.352, -20.704, 14.158, 19.908, -16.761,\n",
       "       -37.683, 14.707, 38.307, 9.105, 4.002, 17.186, 16.092, -15.788,\n",
       "       -12.392, 13.014, -2.089, 27.123, -13.296, 15.803, 7.644, -1.737,\n",
       "       24.309, 14.393, -19.308, 13.596, 28.291, -1.818, -4.182, -12.602,\n",
       "       0.519, 14.515, -15.562, -26.136, -6.724, -26.803, 11.256, -7.743,\n",
       "       -34.317, -6.181, -3.061, 9.774, -2.116, 38.166, -9.583, -0.457,\n",
       "       -1.267, -4.861, 3.640, 11.616, 27.593, -30.594, -9.416, -8.164,\n",
       "       19.548, -6.342, -37.112, 2.546, 0.117, 4.386, -20.012, 35.172,\n",
       "       -5.686, -2.975, -17.209, -17.829, -23.663, -7.075, -18.360, 41.921,\n",
       "       -36.979, -21.775, -7.237, 14.261, -7.484, 14.311, -18.945, 1.977,\n",
       "       35.672, -18.564, 9.183, 4.930, -44.239, -10.988, 23.414, 3.493,\n",
       "       -23.454, 14.607, -8.791, 7.992, 8.330, -21.583, 16.588, -19.359,\n",
       "       -25.324, -16.865, -6.131, 2.979, -14.660, 15.688, 5.821, -13.105,\n",
       "       18.571, 24.013, -1.182, -3.508, -34.684, -7.359, -5.039, 5.699,\n",
       "       -2.577, 5.672, 31.473, -9.807, -9.028, -25.392, 0.618, 20.328,\n",
       "       -34.230, -12.526, 1.510, 17.793, 8.449, 7.301, -3.695, 10.429,\n",
       "       21.077, -33.389, 15.362, -1.184, -9.808, -48.070, -26.816, 34.752,\n",
       "       -12.980, -20.904, -8.337, -14.112, 3.278, 31.131, -10.941, 3.877,\n",
       "       -22.153, 31.195, 4.572, -20.845, 18.877, 24.791, 4.020, -31.997,\n",
       "       36.495, 6.994, 24.200, -10.227, -7.181, 3.000, 23.059, 3.651,\n",
       "       -24.345, 6.031, 33.382, 2.107, 3.379, -24.460, -27.268, -11.963,\n",
       "       -5.739, 2.872, 4.110, 32.829, 1.965, 22.080, 0.005, 29.769,\n",
       "       -36.617, -11.183, 20.452, -2.641, 19.422, 8.493, 19.709, 13.053,\n",
       "       14.264, 30.640, 20.521, 20.667, 1.200, -10.846, -12.400, 15.810,\n",
       "       -47.978, -25.352, -18.474, -4.161, -51.837, 25.966, 12.795, 40.483,\n",
       "       22.036, 21.399, 45.805, -10.628, -29.278, -3.856, -15.709, -4.346,\n",
       "       -20.213, 12.149, 11.051, 0.253, 7.023, -2.050, 15.832, 2.184,\n",
       "       -4.518, 19.383, 26.008, 27.540, -19.014, -9.898, -33.239, -3.980,\n",
       "       9.114, -1.865, 39.408, -7.326, -20.979, 12.161, 3.790, 11.784,\n",
       "       6.867, 5.667, -41.655, -13.731, -11.015, -6.168, -8.177, 9.048,\n",
       "       12.809, -21.842, 14.527, 12.507, 10.107, -27.567, 9.603, 2.443,\n",
       "       20.009, 36.478, 32.553, 3.044, 0.754, 13.430, -21.510, -28.222,\n",
       "       -8.659, 25.203, -5.831, 30.843, -54.971, -30.953, -1.682, 18.555,\n",
       "       -0.601, -1.122, -1.644, -34.467, 23.953, -12.864, 22.582, -0.619,\n",
       "       22.154, 7.656, -1.342, 5.317, -28.668, 0.912, 35.112, 26.955,\n",
       "       -18.909, 10.905, 5.751, 17.135, 2.674, -3.879, 27.404, 5.119,\n",
       "       25.901, 20.279, -5.698, -2.549, 39.388, 4.621, -14.381, -23.210,\n",
       "       20.274, 3.997, -15.051, 14.283, 3.986, -32.418, 12.565, 27.455,\n",
       "       51.988, 1.489, 5.444, 32.923, 4.166, 6.298, -11.821, -27.096,\n",
       "       19.045, -24.680, 23.604, -14.972, 6.096, -6.654, 24.283, 6.808,\n",
       "       39.973, -20.882, 9.069, 1.738, 6.390, 32.710, 12.498, -22.159,\n",
       "       11.461, -7.521, -8.676, 21.708, -11.256, -6.803, 1.439, 19.715,\n",
       "       12.423, -3.897, -4.652, -22.411, -14.405, -12.296, -2.195, 40.527,\n",
       "       -12.718, -5.125, -40.257, 12.803, -30.758, -17.341, 21.638,\n",
       "       -41.307, 2.710, 16.810, 31.300, -17.611, -11.689, 36.880, 0.290,\n",
       "       -13.934, -13.558, -18.660, -8.002, 22.556, 18.547, -22.694, 5.083,\n",
       "       -7.252, 16.440, -2.336, 8.222, -2.381, -42.950, 1.731, -24.644,\n",
       "       15.734, -12.805, -11.309, 0.613, 12.347, -2.604, 33.635, 33.768,\n",
       "       35.101, -3.895, -28.848, 25.193, -7.536, 1.555, 13.358, -31.297,\n",
       "       33.374, 18.291, 7.837, 18.610, 11.930, 3.128, -5.364, -13.992,\n",
       "       6.536, 8.015, 22.455, 4.804, -16.273, -30.733, -1.760, 0.242,\n",
       "       -1.171, -29.819, 22.281, 22.244, -15.674, 16.911, 19.848, 1.560,\n",
       "       -18.179, 33.059, 8.410, -4.229, 16.248, 33.235, -9.152, 14.620,\n",
       "       39.654, -21.540, -10.194, -11.166, -2.375, -3.408, 6.807, -15.616,\n",
       "       -11.662, 6.817, 3.890, 18.273, 8.978, 16.228, -22.068, -6.877,\n",
       "       37.759, 8.633, 15.739, 6.246, 9.298, -3.827, 72.223, -7.132, 0.025,\n",
       "       -47.705, 22.917, -10.254, -0.425, -9.770, -1.982, -4.894, -0.070,\n",
       "       -0.265, -2.293, -2.566, 26.962, 18.420, 18.540, -13.858, 25.928,\n",
       "       23.424, -10.277, 31.268, -12.873, -36.049, 22.822, -1.599, 20.330,\n",
       "       -14.293, -24.444, 25.429, -27.354, -30.429, -37.720, -55.098,\n",
       "       -19.991, -42.597, 0.079, -43.937, -21.094, 47.433, 7.694, 1.847,\n",
       "       -31.624, -4.121, 1.753, -31.312, 3.315, 24.616, -6.174, -3.153,\n",
       "       -40.051, -27.193, 21.945, -12.440, -17.803, -13.060, -0.358,\n",
       "       -22.377, 3.322, -26.409, 16.271, -20.350, 27.197, 0.591, -16.122,\n",
       "       19.020, -26.699, -10.150, 0.790, -1.632, -39.380, -17.622, 4.156,\n",
       "       -25.607, 26.120, 10.695, -9.494, -3.615, 38.023, 19.511, 8.396,\n",
       "       -27.519, 33.384, 21.839, -2.177, -10.203, -2.967, -23.247, -8.624,\n",
       "       16.054, -35.361, -5.490, 3.066, 2.863, -22.787, -22.852, 22.575,\n",
       "       -23.699, 20.964, -8.856, 22.387, -7.630, -22.538, 17.922, 0.443,\n",
       "       29.763, 18.635, -3.797, -8.202, 1.259, 4.595, -16.844, 17.630,\n",
       "       -7.156, -7.669, -10.022, 5.412, -13.050, 3.491, 56.123, -0.281,\n",
       "       -7.889, -32.563, 1.796, -21.393, -6.720, 3.823, -33.829, 3.941,\n",
       "       6.882, -25.151, -7.055, -35.822, 32.301, 7.403, -2.800, -2.477,\n",
       "       23.420, -1.092, 7.408, 31.164, -6.132, -21.061, -15.699, 29.365,\n",
       "       2.620, -9.255, 20.264, 20.750, -8.722, -18.647, -30.619, -35.086,\n",
       "       -4.508, -17.073, 37.961, 1.962, -38.052, 29.166, 4.025, 14.891,\n",
       "       14.432, 6.722, 11.258, 5.566, -21.336, 8.126, 21.269, -3.410,\n",
       "       11.817, 9.183, 37.104, -4.264, -5.049, -1.547, -1.257, -44.661,\n",
       "       -12.061, 6.789, 0.626, -15.196, -12.504, -6.321, -15.240, -9.470,\n",
       "       -9.997, 18.699, 21.119, 19.463, 9.325, -13.375, 19.988, -5.494,\n",
       "       1.252, 27.556, 2.471, 5.737, -27.464, 10.531, -18.809, 21.030,\n",
       "       -2.901, -43.932, -6.369, -3.769, 10.501, 14.202, -5.764, 21.049,\n",
       "       -62.550, -13.488, -21.456, -24.292, 19.985, 17.375, -14.724,\n",
       "       24.352, 2.821, -7.642, -13.067, -14.774, 10.247, 13.794, 5.561,\n",
       "       -40.213, 6.718, 12.099, -12.593, 1.656, -36.486, -23.808, -5.693,\n",
       "       -5.404, 7.825, -22.947, -6.033, -9.004, 11.351, 29.212, 35.210,\n",
       "       -30.578, -0.169, -21.459, -0.504, 9.250, 2.421, -0.189, 30.452,\n",
       "       15.211, -4.662, 1.276, 18.209, 12.987, -7.710, -34.714, -22.902,\n",
       "       3.711, -34.939, -2.257, -8.280, 20.776, -25.570, -37.844, -7.602,\n",
       "       13.487, 22.190, -17.395, 10.197, -21.437])"
      ]
     },
     "execution_count": 91,
     "metadata": {},
     "output_type": "execute_result"
    }
   ],
   "source": [
    "data-np.mean(data)"
   ]
  },
  {
   "cell_type": "code",
   "execution_count": 93,
   "id": "e306424f",
   "metadata": {},
   "outputs": [
    {
     "data": {
      "text/plain": [
       "-7.815970093361102e-12"
      ]
     },
     "execution_count": 93,
     "metadata": {},
     "output_type": "execute_result"
    }
   ],
   "source": [
    "#편차의 합은 항상 0\n",
    "(data-np.mean(data)).sum()"
   ]
  },
  {
   "cell_type": "code",
   "execution_count": 95,
   "id": "2fb0f2d7",
   "metadata": {},
   "outputs": [
    {
     "data": {
      "text/plain": [
       "2.5"
      ]
     },
     "execution_count": 95,
     "metadata": {},
     "output_type": "execute_result"
    },
    {
     "data": {
      "text/plain": [
       "2.0"
      ]
     },
     "execution_count": 95,
     "metadata": {},
     "output_type": "execute_result"
    },
    {
     "data": {
      "text/plain": [
       "2.0"
      ]
     },
     "execution_count": 95,
     "metadata": {},
     "output_type": "execute_result"
    }
   ],
   "source": [
    "x=[1,2,3,4,5]\n",
    "\n",
    "#표본분산\n",
    "np.var(x,ddof=1)\n",
    "\n",
    "#모분산\n",
    "np.var(x)\n",
    "\n",
    "#모분산\n",
    "np.array(x).var(ddof=0)"
   ]
  },
  {
   "cell_type": "code",
   "execution_count": 96,
   "id": "3c633924",
   "metadata": {},
   "outputs": [
    {
     "data": {
      "text/plain": [
       "1.5811388300841898"
      ]
     },
     "execution_count": 96,
     "metadata": {},
     "output_type": "execute_result"
    },
    {
     "data": {
      "text/plain": [
       "1.4142135623730951"
      ]
     },
     "execution_count": 96,
     "metadata": {},
     "output_type": "execute_result"
    },
    {
     "data": {
      "text/plain": [
       "1.4142135623730951"
      ]
     },
     "execution_count": 96,
     "metadata": {},
     "output_type": "execute_result"
    },
    {
     "data": {
      "text/plain": [
       "1.414"
      ]
     },
     "execution_count": 96,
     "metadata": {},
     "output_type": "execute_result"
    }
   ],
   "source": [
    "x=[1,2,3,4,5]\n",
    "\n",
    "#표본 표준편차(S)\n",
    "np.std(x,ddof=1)\n",
    "\n",
    "#모표준편차(sigma)\n",
    "np.std(x)\n",
    "np.array(x).std()\n",
    "pd.Series(x).std(ddof=0)\n"
   ]
  },
  {
   "cell_type": "code",
   "execution_count": 99,
   "id": "84fbe312",
   "metadata": {},
   "outputs": [
    {
     "name": "stdout",
     "output_type": "stream",
     "text": [
      "평균\n"
     ]
    },
    {
     "data": {
      "text/plain": [
       "72.0"
      ]
     },
     "execution_count": 99,
     "metadata": {},
     "output_type": "execute_result"
    },
    {
     "data": {
      "text/plain": [
       "49.0"
      ]
     },
     "execution_count": 99,
     "metadata": {},
     "output_type": "execute_result"
    },
    {
     "name": "stdout",
     "output_type": "stream",
     "text": [
      "표본 표준편차\n"
     ]
    },
    {
     "data": {
      "text/plain": [
       "4.242640687119285"
      ]
     },
     "execution_count": 99,
     "metadata": {},
     "output_type": "execute_result"
    },
    {
     "data": {
      "text/plain": [
       "3.22490309931942"
      ]
     },
     "execution_count": 99,
     "metadata": {},
     "output_type": "execute_result"
    }
   ],
   "source": [
    "men=[72,74,77,68,66,75]\n",
    "women=[45,48,52,53,46,50]\n",
    "\n",
    "print('평균')\n",
    "np.mean(men)\n",
    "np.mean(women)\n",
    "print('표본 표준편차')\n",
    "np.std(men,ddof=1)\n",
    "np.std(women,ddof=1)"
   ]
  },
  {
   "cell_type": "code",
   "execution_count": 104,
   "id": "e97cd59d",
   "metadata": {},
   "outputs": [
    {
     "name": "stdout",
     "output_type": "stream",
     "text": [
      "남자CV: 0.05892556509887895\n",
      "여자CV: 0.06581434896570246\n"
     ]
    }
   ],
   "source": [
    "print('남자CV:',np.std(men,ddof=1)/np.mean(men))\n",
    "print('여자CV:',np.std(women,ddof=1)/np.mean(women))"
   ]
  },
  {
   "cell_type": "code",
   "execution_count": 105,
   "id": "64894d18",
   "metadata": {},
   "outputs": [
    {
     "ename": "SyntaxError",
     "evalue": "invalid syntax (Temp/ipykernel_68364/323722759.py, line 1)",
     "output_type": "error",
     "traceback": [
      "\u001b[1;36m  File \u001b[1;32m\"C:\\Users\\낙원이\\AppData\\Local\\Temp/ipykernel_68364/323722759.py\"\u001b[1;36m, line \u001b[1;32m1\u001b[0m\n\u001b[1;33m    print('남자CV':,variation(men))\u001b[0m\n\u001b[1;37m                ^\u001b[0m\n\u001b[1;31mSyntaxError\u001b[0m\u001b[1;31m:\u001b[0m invalid syntax\n"
     ]
    }
   ],
   "source": [
    "print('남자CV':,variation(men))\n",
    "print('여자CV':,variation(women))"
   ]
  },
  {
   "cell_type": "code",
   "execution_count": 107,
   "id": "1cd8ef42",
   "metadata": {},
   "outputs": [
    {
     "data": {
      "text/html": [
       "<div>\n",
       "<style scoped>\n",
       "    .dataframe tbody tr th:only-of-type {\n",
       "        vertical-align: middle;\n",
       "    }\n",
       "\n",
       "    .dataframe tbody tr th {\n",
       "        vertical-align: top;\n",
       "    }\n",
       "\n",
       "    .dataframe thead th {\n",
       "        text-align: right;\n",
       "    }\n",
       "</style>\n",
       "<table border=\"1\" class=\"dataframe\">\n",
       "  <thead>\n",
       "    <tr style=\"text-align: right;\">\n",
       "      <th></th>\n",
       "      <th>english</th>\n",
       "      <th>mathematics</th>\n",
       "    </tr>\n",
       "    <tr>\n",
       "      <th>student number</th>\n",
       "      <th></th>\n",
       "      <th></th>\n",
       "    </tr>\n",
       "  </thead>\n",
       "  <tbody>\n",
       "    <tr>\n",
       "      <th>1</th>\n",
       "      <td>42</td>\n",
       "      <td>65</td>\n",
       "    </tr>\n",
       "    <tr>\n",
       "      <th>2</th>\n",
       "      <td>69</td>\n",
       "      <td>80</td>\n",
       "    </tr>\n",
       "    <tr>\n",
       "      <th>3</th>\n",
       "      <td>56</td>\n",
       "      <td>63</td>\n",
       "    </tr>\n",
       "    <tr>\n",
       "      <th>4</th>\n",
       "      <td>41</td>\n",
       "      <td>63</td>\n",
       "    </tr>\n",
       "    <tr>\n",
       "      <th>5</th>\n",
       "      <td>57</td>\n",
       "      <td>76</td>\n",
       "    </tr>\n",
       "  </tbody>\n",
       "</table>\n",
       "</div>"
      ],
      "text/plain": [
       "                english  mathematics\n",
       "student number                      \n",
       "1                    42           65\n",
       "2                    69           80\n",
       "3                    56           63\n",
       "4                    41           63\n",
       "5                    57           76"
      ]
     },
     "execution_count": 107,
     "metadata": {},
     "output_type": "execute_result"
    }
   ],
   "source": [
    "df=pd.read_csv('./data/ch2_scores_em.csv',index_col=\"student number\")\n",
    "df.head()"
   ]
  },
  {
   "cell_type": "code",
   "execution_count": 108,
   "id": "ee7a61c5",
   "metadata": {},
   "outputs": [
    {
     "data": {
      "text/plain": [
       "count    50.00\n",
       "mean     58.38\n",
       "std       9.80\n",
       "min      37.00\n",
       "25%      54.00\n",
       "50%      57.50\n",
       "75%      65.00\n",
       "max      79.00\n",
       "Name: english, dtype: float64"
      ]
     },
     "execution_count": 108,
     "metadata": {},
     "output_type": "execute_result"
    }
   ],
   "source": [
    "df['english'].describe()"
   ]
  },
  {
   "cell_type": "code",
   "execution_count": 110,
   "id": "fc749536",
   "metadata": {},
   "outputs": [
    {
     "data": {
      "text/plain": [
       "count    50.000\n",
       "mean     78.880\n",
       "std       8.414\n",
       "min      57.000\n",
       "25%      76.000\n",
       "50%      80.000\n",
       "75%      84.000\n",
       "max      94.000\n",
       "Name: mathematics, dtype: float64"
      ]
     },
     "execution_count": 110,
     "metadata": {},
     "output_type": "execute_result"
    }
   ],
   "source": [
    "df['mathematics'].describe()"
   ]
  },
  {
   "cell_type": "code",
   "execution_count": 113,
   "id": "898d00cc",
   "metadata": {},
   "outputs": [
    {
     "name": "stdout",
     "output_type": "stream",
     "text": [
      "-2.1816743772942324 2.104121873704727\n",
      "-2.600313324789425 1.796925844187209\n"
     ]
    }
   ],
   "source": [
    "z1=(df['english']-df['english'].mean())/df['english'].std()\n",
    "z2=(df['mathematics']-df['mathematics'].mean())/df['mathematics'].std()\n",
    "\n",
    "print(z1.min(), z1.max())\n",
    "print(z2.min(), z2.max())"
   ]
  },
  {
   "cell_type": "code",
   "execution_count": 115,
   "id": "ec19a88b",
   "metadata": {},
   "outputs": [
    {
     "data": {
      "text/plain": [
       "(-0.000, 1.000)"
      ]
     },
     "execution_count": 115,
     "metadata": {},
     "output_type": "execute_result"
    }
   ],
   "source": [
    "z1.mean(), z1.std()"
   ]
  },
  {
   "cell_type": "code",
   "execution_count": 124,
   "id": "7364bec5",
   "metadata": {},
   "outputs": [
    {
     "name": "stdout",
     "output_type": "stream",
     "text": [
      "eng: 0.0 1.0\n",
      "math: 0.0 1.0\n"
     ]
    }
   ],
   "source": [
    "s1=(df['english']-df['english'].min())/(df['english'].max()-df['english'].min())\n",
    "s2=(df['mathematics']-df['mathematics'].min())/(df['mathematics'].max()-df['mathematics'].min())\n",
    "\n",
    "print('eng:',s1.min(),s1.max())\n",
    "print('math:',s2.min(),s2.max())"
   ]
  },
  {
   "cell_type": "code",
   "execution_count": 130,
   "id": "57d0a0a8",
   "metadata": {},
   "outputs": [
    {
     "data": {
      "text/html": [
       "<div>\n",
       "<style scoped>\n",
       "    .dataframe tbody tr th:only-of-type {\n",
       "        vertical-align: middle;\n",
       "    }\n",
       "\n",
       "    .dataframe tbody tr th {\n",
       "        vertical-align: top;\n",
       "    }\n",
       "\n",
       "    .dataframe thead th {\n",
       "        text-align: right;\n",
       "    }\n",
       "</style>\n",
       "<table border=\"1\" class=\"dataframe\">\n",
       "  <thead>\n",
       "    <tr style=\"text-align: right;\">\n",
       "      <th></th>\n",
       "      <th>english</th>\n",
       "      <th>mathematics</th>\n",
       "    </tr>\n",
       "    <tr>\n",
       "      <th>student number</th>\n",
       "      <th></th>\n",
       "      <th></th>\n",
       "    </tr>\n",
       "  </thead>\n",
       "  <tbody>\n",
       "    <tr>\n",
       "      <th>1</th>\n",
       "      <td>0.119</td>\n",
       "      <td>0.216</td>\n",
       "    </tr>\n",
       "    <tr>\n",
       "      <th>2</th>\n",
       "      <td>0.762</td>\n",
       "      <td>0.622</td>\n",
       "    </tr>\n",
       "    <tr>\n",
       "      <th>3</th>\n",
       "      <td>0.452</td>\n",
       "      <td>0.162</td>\n",
       "    </tr>\n",
       "    <tr>\n",
       "      <th>4</th>\n",
       "      <td>0.095</td>\n",
       "      <td>0.162</td>\n",
       "    </tr>\n",
       "    <tr>\n",
       "      <th>5</th>\n",
       "      <td>0.476</td>\n",
       "      <td>0.514</td>\n",
       "    </tr>\n",
       "  </tbody>\n",
       "</table>\n",
       "</div>"
      ],
      "text/plain": [
       "                english  mathematics\n",
       "student number                      \n",
       "1                 0.119        0.216\n",
       "2                 0.762        0.622\n",
       "3                 0.452        0.162\n",
       "4                 0.095        0.162\n",
       "5                 0.476        0.514"
      ]
     },
     "execution_count": 130,
     "metadata": {},
     "output_type": "execute_result"
    }
   ],
   "source": [
    "from sklearn.preprocessing import MinMaxScaler\n",
    "\n",
    "scaler = MinMaxScaler()\n",
    "S = scaler.fit_transform(df)\n",
    "pd.DataFrame(S,columns=df.columns, index=df.index).head()"
   ]
  },
  {
   "cell_type": "code",
   "execution_count": 131,
   "id": "fe3772b7",
   "metadata": {},
   "outputs": [
    {
     "data": {
      "text/html": [
       "<div>\n",
       "<style scoped>\n",
       "    .dataframe tbody tr th:only-of-type {\n",
       "        vertical-align: middle;\n",
       "    }\n",
       "\n",
       "    .dataframe tbody tr th {\n",
       "        vertical-align: top;\n",
       "    }\n",
       "\n",
       "    .dataframe thead th {\n",
       "        text-align: right;\n",
       "    }\n",
       "</style>\n",
       "<table border=\"1\" class=\"dataframe\">\n",
       "  <thead>\n",
       "    <tr style=\"text-align: right;\">\n",
       "      <th></th>\n",
       "      <th>english</th>\n",
       "      <th>mathematics</th>\n",
       "    </tr>\n",
       "    <tr>\n",
       "      <th>student number</th>\n",
       "      <th></th>\n",
       "      <th></th>\n",
       "    </tr>\n",
       "  </thead>\n",
       "  <tbody>\n",
       "    <tr>\n",
       "      <th>1</th>\n",
       "      <td>42</td>\n",
       "      <td>65</td>\n",
       "    </tr>\n",
       "    <tr>\n",
       "      <th>2</th>\n",
       "      <td>69</td>\n",
       "      <td>80</td>\n",
       "    </tr>\n",
       "    <tr>\n",
       "      <th>3</th>\n",
       "      <td>56</td>\n",
       "      <td>63</td>\n",
       "    </tr>\n",
       "    <tr>\n",
       "      <th>4</th>\n",
       "      <td>41</td>\n",
       "      <td>63</td>\n",
       "    </tr>\n",
       "    <tr>\n",
       "      <th>5</th>\n",
       "      <td>57</td>\n",
       "      <td>76</td>\n",
       "    </tr>\n",
       "  </tbody>\n",
       "</table>\n",
       "</div>"
      ],
      "text/plain": [
       "                english  mathematics\n",
       "student number                      \n",
       "1                    42           65\n",
       "2                    69           80\n",
       "3                    56           63\n",
       "4                    41           63\n",
       "5                    57           76"
      ]
     },
     "execution_count": 131,
     "metadata": {},
     "output_type": "execute_result"
    }
   ],
   "source": [
    "df.head()"
   ]
  },
  {
   "cell_type": "code",
   "execution_count": 132,
   "id": "758cf587",
   "metadata": {},
   "outputs": [],
   "source": [
    "import numpy as np\n",
    "import pandas as pd\n",
    "from scipy.stats import *"
   ]
  },
  {
   "cell_type": "code",
   "execution_count": 133,
   "id": "ecf9be28",
   "metadata": {},
   "outputs": [],
   "source": [
    "from matplotlib import pyplot as plt\n",
    "%matplotlib inline\n",
    "\n",
    "x1=[1]*30+[2]*20+[3]*20+[4]*15+[5]*15\n",
    "x2=[1]*15+[2]*20+[3]*30+[4]*20+[5]*15\n",
    "x3=[1]*15+[2]*15+[3]*20+[4]*20+[5]*30"
   ]
  },
  {
   "cell_type": "code",
   "execution_count": 134,
   "id": "8906288e",
   "metadata": {},
   "outputs": [
    {
     "data": {
      "text/plain": [
       "[1, 1, 1, 1, 1, 1, 1, 1, 1, 1]"
      ]
     },
     "execution_count": 134,
     "metadata": {},
     "output_type": "execute_result"
    }
   ],
   "source": [
    "x1[:10]"
   ]
  },
  {
   "cell_type": "code",
   "execution_count": 135,
   "id": "70160094",
   "metadata": {},
   "outputs": [
    {
     "data": {
      "text/plain": [
       "1    30\n",
       "2    20\n",
       "3    20\n",
       "4    15\n",
       "5    15\n",
       "dtype: int64"
      ]
     },
     "execution_count": 135,
     "metadata": {},
     "output_type": "execute_result"
    }
   ],
   "source": [
    "pd.Series(x1).value_counts(sort=False)"
   ]
  },
  {
   "cell_type": "code",
   "execution_count": 137,
   "id": "94c99635",
   "metadata": {},
   "outputs": [
    {
     "data": {
      "text/plain": [
       "<AxesSubplot:>"
      ]
     },
     "execution_count": 137,
     "metadata": {},
     "output_type": "execute_result"
    },
    {
     "data": {
      "image/png": "[encoded data removed]",
      "text/plain": [
       "<Figure size 432x288 with 1 Axes>"
      ]
     },
     "metadata": {
      "needs_background": "light"
     },
     "output_type": "display_data"
    }
   ],
   "source": [
    "pd.Series(x1).value_counts(sort=False).plot(kind='bar')"
   ]
  },
  {
   "cell_type": "code",
   "execution_count": 138,
   "id": "dd86b88c",
   "metadata": {},
   "outputs": [
    {
     "data": {
      "text/plain": [
       "<AxesSubplot:>"
      ]
     },
     "execution_count": 138,
     "metadata": {},
     "output_type": "execute_result"
    },
    {
     "data": {
      "image/png": "[encoded data removed]",
      "text/plain": [
       "<Figure size 432x288 with 1 Axes>"
      ]
     },
     "metadata": {
      "needs_background": "light"
     },
     "output_type": "display_data"
    }
   ],
   "source": [
    "pd.Series(x2).value_counts(sort=False).plot(kind='bar')"
   ]
  },
  {
   "cell_type": "code",
   "execution_count": 139,
   "id": "a6375862",
   "metadata": {},
   "outputs": [
    {
     "data": {
      "text/plain": [
       "<AxesSubplot:>"
      ]
     },
     "execution_count": 139,
     "metadata": {},
     "output_type": "execute_result"
    },
    {
     "data": {
      "image/png": "[encoded data removed]",
      "text/plain": [
       "<Figure size 432x288 with 1 Axes>"
      ]
     },
     "metadata": {
      "needs_background": "light"
     },
     "output_type": "display_data"
    }
   ],
   "source": [
    "pd.Series(x3).value_counts(sort=False).plot(kind='bar')"
   ]
  },
  {
   "cell_type": "code",
   "execution_count": 140,
   "id": "916a3276",
   "metadata": {},
   "outputs": [
    {
     "name": "stdout",
     "output_type": "stream",
     "text": [
      "오른쪽으로 꼬리가 긴 분포의 왜도: 0.3192801008486361\n",
      "좌우대칭 분포 왜도: 0.0\n",
      "왼쪽으로 꼬리가 긴 분포의 왜도: -0.31928010084863606\n"
     ]
    }
   ],
   "source": [
    "print(\"오른쪽으로 꼬리가 긴 분포의 왜도:\", skew(x1))\n",
    "print(\"좌우대칭 분포 왜도:\", skew(x2))\n",
    "print(\"왼쪽으로 꼬리가 긴 분포의 왜도:\", skew(x3))"
   ]
  },
  {
   "cell_type": "code",
   "execution_count": 141,
   "id": "e3db6dce",
   "metadata": {},
   "outputs": [],
   "source": [
    "x1=[1]*20+[2]*20+[3]*20+[4]*20+[5]*20\n",
    "x2=[1]*10+[2]*20+[3]*40+[4]*20+[5]*10\n",
    "x3=[1]*5+[2]*15+[3]*60+[4]*15+[5]*5"
   ]
  },
  {
   "cell_type": "code",
   "execution_count": 142,
   "id": "c80cd3f7",
   "metadata": {},
   "outputs": [
    {
     "name": "stdout",
     "output_type": "stream",
     "text": [
      "전혀 뾰족하지 않을때 (평평할때) 첨도: -1.3\n",
      "조금 뾰족할때 첨도: -0.5\n",
      "매우 뾰족할때 첨도: 0.8775510204081636\n"
     ]
    }
   ],
   "source": [
    "print(\"전혀 뾰족하지 않을때 (평평할때) 첨도:\", kurtosis(x1))\n",
    "print(\"조금 뾰족할때 첨도:\", kurtosis(x2))\n",
    "print(\"매우 뾰족할때 첨도:\", kurtosis(x3))"
   ]
  },
  {
   "cell_type": "code",
   "execution_count": 144,
   "id": "c1c3848e",
   "metadata": {},
   "outputs": [
    {
     "data": {
      "text/plain": [
       "count    50.00\n",
       "mean     58.38\n",
       "std       9.80\n",
       "min      37.00\n",
       "25%      54.00\n",
       "50%      57.50\n",
       "75%      65.00\n",
       "max      79.00\n",
       "Name: english, dtype: float64"
      ]
     },
     "execution_count": 144,
     "metadata": {},
     "output_type": "execute_result"
    }
   ],
   "source": [
    "#50명의 영어점수 array\n",
    "eng=df['english']\n",
    "#Series로 변환하여 describe를 표시\n",
    "eng.describe()"
   ]
  },
  {
   "cell_type": "code",
   "execution_count": 151,
   "id": "7ded737d",
   "metadata": {},
   "outputs": [
    {
     "data": {
      "text/plain": [
       "array([ 0,  0,  0,  2,  8, 16, 18,  6,  0,  0], dtype=int64)"
      ]
     },
     "execution_count": 151,
     "metadata": {},
     "output_type": "execute_result"
    }
   ],
   "source": [
    "freq,_=np.histogram(eng, bins=10, range=(0,100))\n",
    "\n",
    "freq"
   ]
  },
  {
   "cell_type": "code",
   "execution_count": 159,
   "id": "22820c5c",
   "metadata": {},
   "outputs": [],
   "source": [
    "#0~10, 10~20, ...이라는 문자열의 리스트를 작성\n",
    "freq_class=[f'{i}~{i+10}' for i in range(0,100,10)]\n",
    "\n",
    "#freq_class를 인덱스로 DataFrame을 작성\n",
    "freq_dist_df=pd.DataFrame({'frequency':freq},index=pd.Index(freq_class, name='class'))\n"
   ]
  },
  {
   "cell_type": "code",
   "execution_count": 156,
   "id": "08fde540",
   "metadata": {},
   "outputs": [
    {
     "data": {
      "text/plain": [
       "[5, 15, 25, 35, 45, 55, 65, 75, 85, 95]"
      ]
     },
     "execution_count": 156,
     "metadata": {},
     "output_type": "execute_result"
    }
   ],
   "source": [
    "class_value=[(i+(i+10))//2 for i in range(0,100,10)]\n",
    "class_value"
   ]
  },
  {
   "cell_type": "raw",
   "id": "70315d3e",
   "metadata": {},
   "source": []
  },
  {
   "cell_type": "code",
   "execution_count": 162,
   "id": "9a80ca38",
   "metadata": {},
   "outputs": [
    {
     "data": {
      "text/plain": [
       "array([0.000, 0.000, 0.000, 0.040, 0.200, 0.520, 0.880, 1.000, 1.000,\n",
       "       1.000])"
      ]
     },
     "execution_count": 162,
     "metadata": {},
     "output_type": "execute_result"
    }
   ],
   "source": [
    "cum_rel_freq=np.cumsum(rel_freq)\n",
    "cum_rel_freq"
   ]
  },
  {
   "cell_type": "code",
   "execution_count": 166,
   "id": "f735f5c6",
   "metadata": {},
   "outputs": [
    {
     "data": {
      "text/html": [
       "<div>\n",
       "<style scoped>\n",
       "    .dataframe tbody tr th:only-of-type {\n",
       "        vertical-align: middle;\n",
       "    }\n",
       "\n",
       "    .dataframe tbody tr th {\n",
       "        vertical-align: top;\n",
       "    }\n",
       "\n",
       "    .dataframe thead th {\n",
       "        text-align: right;\n",
       "    }\n",
       "</style>\n",
       "<table border=\"1\" class=\"dataframe\">\n",
       "  <thead>\n",
       "    <tr style=\"text-align: right;\">\n",
       "      <th></th>\n",
       "      <th>frequency</th>\n",
       "      <th>relative freq.</th>\n",
       "      <th>cum.relative freq.</th>\n",
       "    </tr>\n",
       "    <tr>\n",
       "      <th>class</th>\n",
       "      <th></th>\n",
       "      <th></th>\n",
       "      <th></th>\n",
       "    </tr>\n",
       "  </thead>\n",
       "  <tbody>\n",
       "    <tr>\n",
       "      <th>0~10</th>\n",
       "      <td>0</td>\n",
       "      <td>0.00</td>\n",
       "      <td>0.00</td>\n",
       "    </tr>\n",
       "    <tr>\n",
       "      <th>10~20</th>\n",
       "      <td>0</td>\n",
       "      <td>0.00</td>\n",
       "      <td>0.00</td>\n",
       "    </tr>\n",
       "    <tr>\n",
       "      <th>20~30</th>\n",
       "      <td>0</td>\n",
       "      <td>0.00</td>\n",
       "      <td>0.00</td>\n",
       "    </tr>\n",
       "    <tr>\n",
       "      <th>30~40</th>\n",
       "      <td>2</td>\n",
       "      <td>0.04</td>\n",
       "      <td>0.04</td>\n",
       "    </tr>\n",
       "    <tr>\n",
       "      <th>40~50</th>\n",
       "      <td>8</td>\n",
       "      <td>0.16</td>\n",
       "      <td>0.20</td>\n",
       "    </tr>\n",
       "    <tr>\n",
       "      <th>50~60</th>\n",
       "      <td>16</td>\n",
       "      <td>0.32</td>\n",
       "      <td>0.52</td>\n",
       "    </tr>\n",
       "    <tr>\n",
       "      <th>60~70</th>\n",
       "      <td>18</td>\n",
       "      <td>0.36</td>\n",
       "      <td>0.88</td>\n",
       "    </tr>\n",
       "    <tr>\n",
       "      <th>70~80</th>\n",
       "      <td>6</td>\n",
       "      <td>0.12</td>\n",
       "      <td>1.00</td>\n",
       "    </tr>\n",
       "    <tr>\n",
       "      <th>80~90</th>\n",
       "      <td>0</td>\n",
       "      <td>0.00</td>\n",
       "      <td>1.00</td>\n",
       "    </tr>\n",
       "    <tr>\n",
       "      <th>90~100</th>\n",
       "      <td>0</td>\n",
       "      <td>0.00</td>\n",
       "      <td>1.00</td>\n",
       "    </tr>\n",
       "  </tbody>\n",
       "</table>\n",
       "</div>"
      ],
      "text/plain": [
       "        frequency  relative freq.  cum.relative freq.\n",
       "class                                                \n",
       "0~10            0            0.00                0.00\n",
       "10~20           0            0.00                0.00\n",
       "20~30           0            0.00                0.00\n",
       "30~40           2            0.04                0.04\n",
       "40~50           8            0.16                0.20\n",
       "50~60          16            0.32                0.52\n",
       "60~70          18            0.36                0.88\n",
       "70~80           6            0.12                1.00\n",
       "80~90           0            0.00                1.00\n",
       "90~100          0            0.00                1.00"
      ]
     },
     "execution_count": 166,
     "metadata": {},
     "output_type": "execute_result"
    }
   ],
   "source": [
    "#도수 분포표 확장\n",
    "freq_dist_df['relative freq.']=rel_freq\n",
    "freq_dist_df['relative freq.']=rel_freq\n",
    "freq_dist_df['cum.relative freq.']=cum_rel_freq\n",
    "freq_dist_df"
   ]
  },
  {
   "cell_type": "code",
   "execution_count": 167,
   "id": "d798e30f",
   "metadata": {},
   "outputs": [
    {
     "data": {
      "text/html": [
       "<div>\n",
       "<style scoped>\n",
       "    .dataframe tbody tr th:only-of-type {\n",
       "        vertical-align: middle;\n",
       "    }\n",
       "\n",
       "    .dataframe tbody tr th {\n",
       "        vertical-align: top;\n",
       "    }\n",
       "\n",
       "    .dataframe thead th {\n",
       "        text-align: right;\n",
       "    }\n",
       "</style>\n",
       "<table border=\"1\" class=\"dataframe\">\n",
       "  <thead>\n",
       "    <tr style=\"text-align: right;\">\n",
       "      <th></th>\n",
       "      <th>Attendance</th>\n",
       "      <th>Obtained Marks</th>\n",
       "    </tr>\n",
       "  </thead>\n",
       "  <tbody>\n",
       "    <tr>\n",
       "      <th>0</th>\n",
       "      <td>60</td>\n",
       "      <td>90</td>\n",
       "    </tr>\n",
       "    <tr>\n",
       "      <th>1</th>\n",
       "      <td>100</td>\n",
       "      <td>75</td>\n",
       "    </tr>\n",
       "    <tr>\n",
       "      <th>2</th>\n",
       "      <td>80</td>\n",
       "      <td>82</td>\n",
       "    </tr>\n",
       "    <tr>\n",
       "      <th>3</th>\n",
       "      <td>78</td>\n",
       "      <td>64</td>\n",
       "    </tr>\n",
       "    <tr>\n",
       "      <th>4</th>\n",
       "      <td>95</td>\n",
       "      <td>45</td>\n",
       "    </tr>\n",
       "  </tbody>\n",
       "</table>\n",
       "</div>"
      ],
      "text/plain": [
       "   Attendance  Obtained Marks\n",
       "0          60              90\n",
       "1         100              75\n",
       "2          80              82\n",
       "3          78              64\n",
       "4          95              45"
      ]
     },
     "execution_count": 167,
     "metadata": {},
     "output_type": "execute_result"
    }
   ],
   "source": [
    "import pandas as pd\n",
    "\n",
    "dataframe=pd.DataFrame({'Attendance': {0: 60, 1: 100, 2: 80,3: 78,4: 95},\n",
    "                        'Obtained Marks': {0: 90, 1: 75, 2: 82, 3: 64, 4: 45}})\n",
    "dataframe\n"
   ]
  },
  {
   "cell_type": "code",
   "execution_count": 169,
   "id": "f40b364d",
   "metadata": {},
   "outputs": [
    {
     "data": {
      "text/plain": [
       "Attendance        1\n",
       "Obtained Marks    0\n",
       "dtype: int64"
      ]
     },
     "execution_count": 169,
     "metadata": {},
     "output_type": "execute_result"
    }
   ],
   "source": [
    "series = dataframe.idxmax()\n",
    "series"
   ]
  },
  {
   "cell_type": "code",
   "execution_count": 170,
   "id": "762feb11",
   "metadata": {},
   "outputs": [
    {
     "data": {
      "text/plain": [
       "Attendance        0\n",
       "Obtained Marks    4\n",
       "dtype: int64"
      ]
     },
     "execution_count": 170,
     "metadata": {},
     "output_type": "execute_result"
    }
   ],
   "source": [
    "series = dataframe.idxmin()\n",
    "series"
   ]
  },
  {
   "cell_type": "code",
   "execution_count": 174,
   "id": "ed5d04c5",
   "metadata": {},
   "outputs": [
    {
     "ename": "KeyError",
     "evalue": "'class value'",
     "output_type": "error",
     "traceback": [
      "\u001b[1;31m---------------------------------------------------------------------------\u001b[0m",
      "\u001b[1;31mKeyError\u001b[0m                                  Traceback (most recent call last)",
      "\u001b[1;32mC:\\anaconda3\\lib\\site-packages\\pandas\\core\\indexes\\base.py\u001b[0m in \u001b[0;36mget_loc\u001b[1;34m(self, key, method, tolerance)\u001b[0m\n\u001b[0;32m   3360\u001b[0m             \u001b[1;32mtry\u001b[0m\u001b[1;33m:\u001b[0m\u001b[1;33m\u001b[0m\u001b[1;33m\u001b[0m\u001b[0m\n\u001b[1;32m-> 3361\u001b[1;33m                 \u001b[1;32mreturn\u001b[0m \u001b[0mself\u001b[0m\u001b[1;33m.\u001b[0m\u001b[0m_engine\u001b[0m\u001b[1;33m.\u001b[0m\u001b[0mget_loc\u001b[0m\u001b[1;33m(\u001b[0m\u001b[0mcasted_key\u001b[0m\u001b[1;33m)\u001b[0m\u001b[1;33m\u001b[0m\u001b[1;33m\u001b[0m\u001b[0m\n\u001b[0m\u001b[0;32m   3362\u001b[0m             \u001b[1;32mexcept\u001b[0m \u001b[0mKeyError\u001b[0m \u001b[1;32mas\u001b[0m \u001b[0merr\u001b[0m\u001b[1;33m:\u001b[0m\u001b[1;33m\u001b[0m\u001b[1;33m\u001b[0m\u001b[0m\n",
      "\u001b[1;32mC:\\anaconda3\\lib\\site-packages\\pandas\\_libs\\index.pyx\u001b[0m in \u001b[0;36mpandas._libs.index.IndexEngine.get_loc\u001b[1;34m()\u001b[0m\n",
      "\u001b[1;32mC:\\anaconda3\\lib\\site-packages\\pandas\\_libs\\index.pyx\u001b[0m in \u001b[0;36mpandas._libs.index.IndexEngine.get_loc\u001b[1;34m()\u001b[0m\n",
      "\u001b[1;32mpandas\\_libs\\hashtable_class_helper.pxi\u001b[0m in \u001b[0;36mpandas._libs.hashtable.PyObjectHashTable.get_item\u001b[1;34m()\u001b[0m\n",
      "\u001b[1;32mpandas\\_libs\\hashtable_class_helper.pxi\u001b[0m in \u001b[0;36mpandas._libs.hashtable.PyObjectHashTable.get_item\u001b[1;34m()\u001b[0m\n",
      "\u001b[1;31mKeyError\u001b[0m: 'class value'",
      "\nThe above exception was the direct cause of the following exception:\n",
      "\u001b[1;31mKeyError\u001b[0m                                  Traceback (most recent call last)",
      "\u001b[1;32m~\\AppData\\Local\\Temp/ipykernel_68364/2554766299.py\u001b[0m in \u001b[0;36m<module>\u001b[1;34m\u001b[0m\n\u001b[1;32m----> 1\u001b[1;33m \u001b[0mfreq_dist_df\u001b[0m\u001b[1;33m.\u001b[0m\u001b[0mloc\u001b[0m\u001b[1;33m[\u001b[0m\u001b[0mfreq_dist_df\u001b[0m\u001b[1;33m[\u001b[0m\u001b[1;34m'frequency'\u001b[0m\u001b[1;33m]\u001b[0m\u001b[1;33m.\u001b[0m\u001b[0midxmax\u001b[0m\u001b[1;33m(\u001b[0m\u001b[1;33m)\u001b[0m\u001b[1;33m,\u001b[0m \u001b[1;34m'class value'\u001b[0m\u001b[1;33m]\u001b[0m\u001b[1;33m\u001b[0m\u001b[1;33m\u001b[0m\u001b[0m\n\u001b[0m",
      "\u001b[1;32mC:\\anaconda3\\lib\\site-packages\\pandas\\core\\indexing.py\u001b[0m in \u001b[0;36m__getitem__\u001b[1;34m(self, key)\u001b[0m\n\u001b[0;32m    923\u001b[0m                 \u001b[1;32mwith\u001b[0m \u001b[0msuppress\u001b[0m\u001b[1;33m(\u001b[0m\u001b[0mKeyError\u001b[0m\u001b[1;33m,\u001b[0m \u001b[0mIndexError\u001b[0m\u001b[1;33m)\u001b[0m\u001b[1;33m:\u001b[0m\u001b[1;33m\u001b[0m\u001b[1;33m\u001b[0m\u001b[0m\n\u001b[0;32m    924\u001b[0m                     \u001b[1;32mreturn\u001b[0m \u001b[0mself\u001b[0m\u001b[1;33m.\u001b[0m\u001b[0mobj\u001b[0m\u001b[1;33m.\u001b[0m\u001b[0m_get_value\u001b[0m\u001b[1;33m(\u001b[0m\u001b[1;33m*\u001b[0m\u001b[0mkey\u001b[0m\u001b[1;33m,\u001b[0m \u001b[0mtakeable\u001b[0m\u001b[1;33m=\u001b[0m\u001b[0mself\u001b[0m\u001b[1;33m.\u001b[0m\u001b[0m_takeable\u001b[0m\u001b[1;33m)\u001b[0m\u001b[1;33m\u001b[0m\u001b[1;33m\u001b[0m\u001b[0m\n\u001b[1;32m--> 925\u001b[1;33m             \u001b[1;32mreturn\u001b[0m \u001b[0mself\u001b[0m\u001b[1;33m.\u001b[0m\u001b[0m_getitem_tuple\u001b[0m\u001b[1;33m(\u001b[0m\u001b[0mkey\u001b[0m\u001b[1;33m)\u001b[0m\u001b[1;33m\u001b[0m\u001b[1;33m\u001b[0m\u001b[0m\n\u001b[0m\u001b[0;32m    926\u001b[0m         \u001b[1;32melse\u001b[0m\u001b[1;33m:\u001b[0m\u001b[1;33m\u001b[0m\u001b[1;33m\u001b[0m\u001b[0m\n\u001b[0;32m    927\u001b[0m             \u001b[1;31m# we by definition only have the 0th axis\u001b[0m\u001b[1;33m\u001b[0m\u001b[1;33m\u001b[0m\u001b[0m\n",
      "\u001b[1;32mC:\\anaconda3\\lib\\site-packages\\pandas\\core\\indexing.py\u001b[0m in \u001b[0;36m_getitem_tuple\u001b[1;34m(self, tup)\u001b[0m\n\u001b[0;32m   1098\u001b[0m     \u001b[1;32mdef\u001b[0m \u001b[0m_getitem_tuple\u001b[0m\u001b[1;33m(\u001b[0m\u001b[0mself\u001b[0m\u001b[1;33m,\u001b[0m \u001b[0mtup\u001b[0m\u001b[1;33m:\u001b[0m \u001b[0mtuple\u001b[0m\u001b[1;33m)\u001b[0m\u001b[1;33m:\u001b[0m\u001b[1;33m\u001b[0m\u001b[1;33m\u001b[0m\u001b[0m\n\u001b[0;32m   1099\u001b[0m         \u001b[1;32mwith\u001b[0m \u001b[0msuppress\u001b[0m\u001b[1;33m(\u001b[0m\u001b[0mIndexingError\u001b[0m\u001b[1;33m)\u001b[0m\u001b[1;33m:\u001b[0m\u001b[1;33m\u001b[0m\u001b[1;33m\u001b[0m\u001b[0m\n\u001b[1;32m-> 1100\u001b[1;33m             \u001b[1;32mreturn\u001b[0m \u001b[0mself\u001b[0m\u001b[1;33m.\u001b[0m\u001b[0m_getitem_lowerdim\u001b[0m\u001b[1;33m(\u001b[0m\u001b[0mtup\u001b[0m\u001b[1;33m)\u001b[0m\u001b[1;33m\u001b[0m\u001b[1;33m\u001b[0m\u001b[0m\n\u001b[0m\u001b[0;32m   1101\u001b[0m \u001b[1;33m\u001b[0m\u001b[0m\n\u001b[0;32m   1102\u001b[0m         \u001b[1;31m# no multi-index, so validate all of the indexers\u001b[0m\u001b[1;33m\u001b[0m\u001b[1;33m\u001b[0m\u001b[0m\n",
      "\u001b[1;32mC:\\anaconda3\\lib\\site-packages\\pandas\\core\\indexing.py\u001b[0m in \u001b[0;36m_getitem_lowerdim\u001b[1;34m(self, tup)\u001b[0m\n\u001b[0;32m    860\u001b[0m                     \u001b[1;32mreturn\u001b[0m \u001b[0msection\u001b[0m\u001b[1;33m\u001b[0m\u001b[1;33m\u001b[0m\u001b[0m\n\u001b[0;32m    861\u001b[0m                 \u001b[1;31m# This is an elided recursive call to iloc/loc\u001b[0m\u001b[1;33m\u001b[0m\u001b[1;33m\u001b[0m\u001b[0m\n\u001b[1;32m--> 862\u001b[1;33m                 \u001b[1;32mreturn\u001b[0m \u001b[0mgetattr\u001b[0m\u001b[1;33m(\u001b[0m\u001b[0msection\u001b[0m\u001b[1;33m,\u001b[0m \u001b[0mself\u001b[0m\u001b[1;33m.\u001b[0m\u001b[0mname\u001b[0m\u001b[1;33m)\u001b[0m\u001b[1;33m[\u001b[0m\u001b[0mnew_key\u001b[0m\u001b[1;33m]\u001b[0m\u001b[1;33m\u001b[0m\u001b[1;33m\u001b[0m\u001b[0m\n\u001b[0m\u001b[0;32m    863\u001b[0m \u001b[1;33m\u001b[0m\u001b[0m\n\u001b[0;32m    864\u001b[0m         \u001b[1;32mraise\u001b[0m \u001b[0mIndexingError\u001b[0m\u001b[1;33m(\u001b[0m\u001b[1;34m\"not applicable\"\u001b[0m\u001b[1;33m)\u001b[0m\u001b[1;33m\u001b[0m\u001b[1;33m\u001b[0m\u001b[0m\n",
      "\u001b[1;32mC:\\anaconda3\\lib\\site-packages\\pandas\\core\\indexing.py\u001b[0m in \u001b[0;36m__getitem__\u001b[1;34m(self, key)\u001b[0m\n\u001b[0;32m    929\u001b[0m \u001b[1;33m\u001b[0m\u001b[0m\n\u001b[0;32m    930\u001b[0m             \u001b[0mmaybe_callable\u001b[0m \u001b[1;33m=\u001b[0m \u001b[0mcom\u001b[0m\u001b[1;33m.\u001b[0m\u001b[0mapply_if_callable\u001b[0m\u001b[1;33m(\u001b[0m\u001b[0mkey\u001b[0m\u001b[1;33m,\u001b[0m \u001b[0mself\u001b[0m\u001b[1;33m.\u001b[0m\u001b[0mobj\u001b[0m\u001b[1;33m)\u001b[0m\u001b[1;33m\u001b[0m\u001b[1;33m\u001b[0m\u001b[0m\n\u001b[1;32m--> 931\u001b[1;33m             \u001b[1;32mreturn\u001b[0m \u001b[0mself\u001b[0m\u001b[1;33m.\u001b[0m\u001b[0m_getitem_axis\u001b[0m\u001b[1;33m(\u001b[0m\u001b[0mmaybe_callable\u001b[0m\u001b[1;33m,\u001b[0m \u001b[0maxis\u001b[0m\u001b[1;33m=\u001b[0m\u001b[0maxis\u001b[0m\u001b[1;33m)\u001b[0m\u001b[1;33m\u001b[0m\u001b[1;33m\u001b[0m\u001b[0m\n\u001b[0m\u001b[0;32m    932\u001b[0m \u001b[1;33m\u001b[0m\u001b[0m\n\u001b[0;32m    933\u001b[0m     \u001b[1;32mdef\u001b[0m \u001b[0m_is_scalar_access\u001b[0m\u001b[1;33m(\u001b[0m\u001b[0mself\u001b[0m\u001b[1;33m,\u001b[0m \u001b[0mkey\u001b[0m\u001b[1;33m:\u001b[0m \u001b[0mtuple\u001b[0m\u001b[1;33m)\u001b[0m\u001b[1;33m:\u001b[0m\u001b[1;33m\u001b[0m\u001b[1;33m\u001b[0m\u001b[0m\n",
      "\u001b[1;32mC:\\anaconda3\\lib\\site-packages\\pandas\\core\\indexing.py\u001b[0m in \u001b[0;36m_getitem_axis\u001b[1;34m(self, key, axis)\u001b[0m\n\u001b[0;32m   1162\u001b[0m         \u001b[1;31m# fall thru to straight lookup\u001b[0m\u001b[1;33m\u001b[0m\u001b[1;33m\u001b[0m\u001b[0m\n\u001b[0;32m   1163\u001b[0m         \u001b[0mself\u001b[0m\u001b[1;33m.\u001b[0m\u001b[0m_validate_key\u001b[0m\u001b[1;33m(\u001b[0m\u001b[0mkey\u001b[0m\u001b[1;33m,\u001b[0m \u001b[0maxis\u001b[0m\u001b[1;33m)\u001b[0m\u001b[1;33m\u001b[0m\u001b[1;33m\u001b[0m\u001b[0m\n\u001b[1;32m-> 1164\u001b[1;33m         \u001b[1;32mreturn\u001b[0m \u001b[0mself\u001b[0m\u001b[1;33m.\u001b[0m\u001b[0m_get_label\u001b[0m\u001b[1;33m(\u001b[0m\u001b[0mkey\u001b[0m\u001b[1;33m,\u001b[0m \u001b[0maxis\u001b[0m\u001b[1;33m=\u001b[0m\u001b[0maxis\u001b[0m\u001b[1;33m)\u001b[0m\u001b[1;33m\u001b[0m\u001b[1;33m\u001b[0m\u001b[0m\n\u001b[0m\u001b[0;32m   1165\u001b[0m \u001b[1;33m\u001b[0m\u001b[0m\n\u001b[0;32m   1166\u001b[0m     \u001b[1;32mdef\u001b[0m \u001b[0m_get_slice_axis\u001b[0m\u001b[1;33m(\u001b[0m\u001b[0mself\u001b[0m\u001b[1;33m,\u001b[0m \u001b[0mslice_obj\u001b[0m\u001b[1;33m:\u001b[0m \u001b[0mslice\u001b[0m\u001b[1;33m,\u001b[0m \u001b[0maxis\u001b[0m\u001b[1;33m:\u001b[0m \u001b[0mint\u001b[0m\u001b[1;33m)\u001b[0m\u001b[1;33m:\u001b[0m\u001b[1;33m\u001b[0m\u001b[1;33m\u001b[0m\u001b[0m\n",
      "\u001b[1;32mC:\\anaconda3\\lib\\site-packages\\pandas\\core\\indexing.py\u001b[0m in \u001b[0;36m_get_label\u001b[1;34m(self, label, axis)\u001b[0m\n\u001b[0;32m   1111\u001b[0m     \u001b[1;32mdef\u001b[0m \u001b[0m_get_label\u001b[0m\u001b[1;33m(\u001b[0m\u001b[0mself\u001b[0m\u001b[1;33m,\u001b[0m \u001b[0mlabel\u001b[0m\u001b[1;33m,\u001b[0m \u001b[0maxis\u001b[0m\u001b[1;33m:\u001b[0m \u001b[0mint\u001b[0m\u001b[1;33m)\u001b[0m\u001b[1;33m:\u001b[0m\u001b[1;33m\u001b[0m\u001b[1;33m\u001b[0m\u001b[0m\n\u001b[0;32m   1112\u001b[0m         \u001b[1;31m# GH#5667 this will fail if the label is not present in the axis.\u001b[0m\u001b[1;33m\u001b[0m\u001b[1;33m\u001b[0m\u001b[0m\n\u001b[1;32m-> 1113\u001b[1;33m         \u001b[1;32mreturn\u001b[0m \u001b[0mself\u001b[0m\u001b[1;33m.\u001b[0m\u001b[0mobj\u001b[0m\u001b[1;33m.\u001b[0m\u001b[0mxs\u001b[0m\u001b[1;33m(\u001b[0m\u001b[0mlabel\u001b[0m\u001b[1;33m,\u001b[0m \u001b[0maxis\u001b[0m\u001b[1;33m=\u001b[0m\u001b[0maxis\u001b[0m\u001b[1;33m)\u001b[0m\u001b[1;33m\u001b[0m\u001b[1;33m\u001b[0m\u001b[0m\n\u001b[0m\u001b[0;32m   1114\u001b[0m \u001b[1;33m\u001b[0m\u001b[0m\n\u001b[0;32m   1115\u001b[0m     \u001b[1;32mdef\u001b[0m \u001b[0m_handle_lowerdim_multi_index_axis0\u001b[0m\u001b[1;33m(\u001b[0m\u001b[0mself\u001b[0m\u001b[1;33m,\u001b[0m \u001b[0mtup\u001b[0m\u001b[1;33m:\u001b[0m \u001b[0mtuple\u001b[0m\u001b[1;33m)\u001b[0m\u001b[1;33m:\u001b[0m\u001b[1;33m\u001b[0m\u001b[1;33m\u001b[0m\u001b[0m\n",
      "\u001b[1;32mC:\\anaconda3\\lib\\site-packages\\pandas\\core\\generic.py\u001b[0m in \u001b[0;36mxs\u001b[1;34m(self, key, axis, level, drop_level)\u001b[0m\n\u001b[0;32m   3774\u001b[0m                 \u001b[1;32mraise\u001b[0m \u001b[0mTypeError\u001b[0m\u001b[1;33m(\u001b[0m\u001b[1;34mf\"Expected label or tuple of labels, got {key}\"\u001b[0m\u001b[1;33m)\u001b[0m \u001b[1;32mfrom\u001b[0m \u001b[0me\u001b[0m\u001b[1;33m\u001b[0m\u001b[1;33m\u001b[0m\u001b[0m\n\u001b[0;32m   3775\u001b[0m         \u001b[1;32melse\u001b[0m\u001b[1;33m:\u001b[0m\u001b[1;33m\u001b[0m\u001b[1;33m\u001b[0m\u001b[0m\n\u001b[1;32m-> 3776\u001b[1;33m             \u001b[0mloc\u001b[0m \u001b[1;33m=\u001b[0m \u001b[0mindex\u001b[0m\u001b[1;33m.\u001b[0m\u001b[0mget_loc\u001b[0m\u001b[1;33m(\u001b[0m\u001b[0mkey\u001b[0m\u001b[1;33m)\u001b[0m\u001b[1;33m\u001b[0m\u001b[1;33m\u001b[0m\u001b[0m\n\u001b[0m\u001b[0;32m   3777\u001b[0m \u001b[1;33m\u001b[0m\u001b[0m\n\u001b[0;32m   3778\u001b[0m             \u001b[1;32mif\u001b[0m \u001b[0misinstance\u001b[0m\u001b[1;33m(\u001b[0m\u001b[0mloc\u001b[0m\u001b[1;33m,\u001b[0m \u001b[0mnp\u001b[0m\u001b[1;33m.\u001b[0m\u001b[0mndarray\u001b[0m\u001b[1;33m)\u001b[0m\u001b[1;33m:\u001b[0m\u001b[1;33m\u001b[0m\u001b[1;33m\u001b[0m\u001b[0m\n",
      "\u001b[1;32mC:\\anaconda3\\lib\\site-packages\\pandas\\core\\indexes\\base.py\u001b[0m in \u001b[0;36mget_loc\u001b[1;34m(self, key, method, tolerance)\u001b[0m\n\u001b[0;32m   3361\u001b[0m                 \u001b[1;32mreturn\u001b[0m \u001b[0mself\u001b[0m\u001b[1;33m.\u001b[0m\u001b[0m_engine\u001b[0m\u001b[1;33m.\u001b[0m\u001b[0mget_loc\u001b[0m\u001b[1;33m(\u001b[0m\u001b[0mcasted_key\u001b[0m\u001b[1;33m)\u001b[0m\u001b[1;33m\u001b[0m\u001b[1;33m\u001b[0m\u001b[0m\n\u001b[0;32m   3362\u001b[0m             \u001b[1;32mexcept\u001b[0m \u001b[0mKeyError\u001b[0m \u001b[1;32mas\u001b[0m \u001b[0merr\u001b[0m\u001b[1;33m:\u001b[0m\u001b[1;33m\u001b[0m\u001b[1;33m\u001b[0m\u001b[0m\n\u001b[1;32m-> 3363\u001b[1;33m                 \u001b[1;32mraise\u001b[0m \u001b[0mKeyError\u001b[0m\u001b[1;33m(\u001b[0m\u001b[0mkey\u001b[0m\u001b[1;33m)\u001b[0m \u001b[1;32mfrom\u001b[0m \u001b[0merr\u001b[0m\u001b[1;33m\u001b[0m\u001b[1;33m\u001b[0m\u001b[0m\n\u001b[0m\u001b[0;32m   3364\u001b[0m \u001b[1;33m\u001b[0m\u001b[0m\n\u001b[0;32m   3365\u001b[0m         \u001b[1;32mif\u001b[0m \u001b[0mis_scalar\u001b[0m\u001b[1;33m(\u001b[0m\u001b[0mkey\u001b[0m\u001b[1;33m)\u001b[0m \u001b[1;32mand\u001b[0m \u001b[0misna\u001b[0m\u001b[1;33m(\u001b[0m\u001b[0mkey\u001b[0m\u001b[1;33m)\u001b[0m \u001b[1;32mand\u001b[0m \u001b[1;32mnot\u001b[0m \u001b[0mself\u001b[0m\u001b[1;33m.\u001b[0m\u001b[0mhasnans\u001b[0m\u001b[1;33m:\u001b[0m\u001b[1;33m\u001b[0m\u001b[1;33m\u001b[0m\u001b[0m\n",
      "\u001b[1;31mKeyError\u001b[0m: 'class value'"
     ]
    }
   ],
   "source": [
    "freq_dist_df.loc[freq_dist_df['frequency'].idxmax(), 'class value']"
   ]
  },
  {
   "cell_type": "code",
   "execution_count": 175,
   "id": "1b0115e8",
   "metadata": {},
   "outputs": [
    {
     "data": {
      "text/plain": [
       "array([ 1,  2,  3,  4,  5,  6,  7,  8,  9, 10, 11])"
      ]
     },
     "execution_count": 175,
     "metadata": {},
     "output_type": "execute_result"
    }
   ],
   "source": [
    "x=np.arange(1,12,1)\n",
    "x"
   ]
  },
  {
   "cell_type": "code",
   "execution_count": 179,
   "id": "90cf98ac",
   "metadata": {},
   "outputs": [
    {
     "name": "stdout",
     "output_type": "stream",
     "text": [
      "2.0\n",
      "2.0\n"
     ]
    }
   ],
   "source": [
    "print(np.percentile(x,10)) #백분위수\n",
    "print(np.quantile(x,0.1)) #-0~1사이의 값으로 입력"
   ]
  },
  {
   "cell_type": "code",
   "execution_count": 180,
   "id": "d6ab3076",
   "metadata": {},
   "outputs": [
    {
     "name": "stdout",
     "output_type": "stream",
     "text": [
      "3.5\n",
      "3.5\n"
     ]
    }
   ],
   "source": [
    "print(np.percentile(x,25)) #25%\n",
    "print(np.quantile(x,0.25)) #하사분위수"
   ]
  },
  {
   "cell_type": "code",
   "execution_count": 181,
   "id": "bed7c2f1",
   "metadata": {},
   "outputs": [],
   "source": [
    "import matplotlib.pyplot as plt"
   ]
  },
  {
   "cell_type": "code",
   "execution_count": 184,
   "id": "6ada5f2b",
   "metadata": {},
   "outputs": [
    {
     "data": {
      "text/plain": [
       "(array([0.000, 0.000, 0.000, 0.000, 0.000, 0.000, 0.000, 0.000, 0.000,\n",
       "        2.000, 3.000, 3.000, 3.000, 7.000, 8.000, 6.000, 10.000, 5.000,\n",
       "        2.000, 1.000, 0.000, 0.000, 0.000, 0.000, 0.000]),\n",
       " array([0.000, 4.000, 8.000, 12.000, 16.000, 20.000, 24.000, 28.000,\n",
       "        32.000, 36.000, 40.000, 44.000, 48.000, 52.000, 56.000, 60.000,\n",
       "        64.000, 68.000, 72.000, 76.000, 80.000, 84.000, 88.000, 92.000,\n",
       "        96.000, 100.000]),\n",
       " <BarContainer object of 25 artists>)"
      ]
     },
     "execution_count": 184,
     "metadata": {},
     "output_type": "execute_result"
    },
    {
     "data": {
      "image/png": "[encoded data removed]",
      "text/plain": [
       "<Figure size 432x288 with 1 Axes>"
      ]
     },
     "metadata": {
      "needs_background": "light"
     },
     "output_type": "display_data"
    }
   ],
   "source": [
    "plt.hist(eng,bins=25,range=(0,100))\n",
    "plt.show()"
   ]
  },
  {
   "cell_type": "code",
   "execution_count": 185,
   "id": "fd63d759",
   "metadata": {},
   "outputs": [
    {
     "data": {
      "text/plain": [
       "(array([0.000, 0.000, 0.000, 2.000, 8.000, 16.000, 18.000, 6.000, 0.000,\n",
       "        0.000]),\n",
       " array([0.000, 10.000, 20.000, 30.000, 40.000, 50.000, 60.000, 70.000,\n",
       "        80.000, 90.000, 100.000]),\n",
       " <BarContainer object of 10 artists>)"
      ]
     },
     "execution_count": 185,
     "metadata": {},
     "output_type": "execute_result"
    },
    {
     "data": {
      "image/png": "[encoded data removed]",
      "text/plain": [
       "<Figure size 432x288 with 1 Axes>"
      ]
     },
     "metadata": {
      "needs_background": "light"
     },
     "output_type": "display_data"
    }
   ],
   "source": [
    "plt.hist(eng,bins=10,range=(0,100))\n",
    "plt.show()"
   ]
  },
  {
   "cell_type": "code",
   "execution_count": 187,
   "id": "571083bf",
   "metadata": {},
   "outputs": [
    {
     "data": {
      "text/plain": [
       "{'whiskers': [<matplotlib.lines.Line2D at 0x213109bae20>,\n",
       "  <matplotlib.lines.Line2D at 0x213109c9190>],\n",
       " 'caps': [<matplotlib.lines.Line2D at 0x213109c94c0>,\n",
       "  <matplotlib.lines.Line2D at 0x213109c9850>],\n",
       " 'boxes': [<matplotlib.lines.Line2D at 0x213109baa90>],\n",
       " 'medians': [<matplotlib.lines.Line2D at 0x213109c9af0>],\n",
       " 'fliers': [<matplotlib.lines.Line2D at 0x213109c9e50>],\n",
       " 'means': []}"
      ]
     },
     "execution_count": 187,
     "metadata": {},
     "output_type": "execute_result"
    },
    {
     "data": {
      "image/png": "[encoded data removed]",
      "text/plain": [
       "<Figure size 432x288 with 1 Axes>"
      ]
     },
     "metadata": {
      "needs_background": "light"
     },
     "output_type": "display_data"
    }
   ],
   "source": [
    "plt.boxplot(eng,labels=['English'])\n",
    "plt.show()"
   ]
  },
  {
   "cell_type": "code",
   "execution_count": 188,
   "id": "aaab7423",
   "metadata": {},
   "outputs": [
    {
     "data": {
      "text/plain": [
       "'%.3f'"
      ]
     },
     "execution_count": 188,
     "metadata": {},
     "output_type": "execute_result"
    }
   ],
   "source": [
    "import numpy as np\n",
    "import pandas as pd\n",
    "\n",
    "%precision 3\n",
    "pd.set_option('precision', 3)\n"
   ]
  },
  {
   "cell_type": "code",
   "execution_count": 189,
   "id": "51675694",
   "metadata": {},
   "outputs": [
    {
     "data": {
      "text/plain": [
       "<matplotlib.collections.PathCollection at 0x213109de670>"
      ]
     },
     "execution_count": 189,
     "metadata": {},
     "output_type": "execute_result"
    },
    {
     "data": {
      "text/plain": [
       "Text(0.5, 0, 'english score')"
      ]
     },
     "execution_count": 189,
     "metadata": {},
     "output_type": "execute_result"
    },
    {
     "data": {
      "text/plain": [
       "Text(0, 0.5, 'mathematics score')"
      ]
     },
     "execution_count": 189,
     "metadata": {},
     "output_type": "execute_result"
    },
    {
     "data": {
      "text/plain": [
       "<matplotlib.lines.Line2D at 0x213109735e0>"
      ]
     },
     "execution_count": 189,
     "metadata": {},
     "output_type": "execute_result"
    },
    {
     "data": {
      "text/plain": [
       "<matplotlib.lines.Line2D at 0x21310892c70>"
      ]
     },
     "execution_count": 189,
     "metadata": {},
     "output_type": "execute_result"
    },
    {
     "data": {
      "image/png": "[encoded data removed]",
      "text/plain": [
       "<Figure size 432x288 with 1 Axes>"
      ]
     },
     "metadata": {
      "needs_background": "light"
     },
     "output_type": "display_data"
    }
   ],
   "source": [
    "plt.scatter(df['english'], df['mathematics'])\n",
    "plt.xlabel('english score')\n",
    "plt.ylabel('mathematics score')\n",
    "\n",
    "plt.axhline(y=df['mathematics'].mean(), color='r',\n",
    "            linewidth=1,linestyle=':')\n",
    "plt.axvline(x=df['english'].mean(), color='r',\n",
    "            linewidth=1,linestyle=':')\n",
    "plt.show()\n"
   ]
  },
  {
   "cell_type": "code",
   "execution_count": 190,
   "id": "cdfe587b",
   "metadata": {},
   "outputs": [
    {
     "data": {
      "text/html": [
       "<div>\n",
       "<style scoped>\n",
       "    .dataframe tbody tr th:only-of-type {\n",
       "        vertical-align: middle;\n",
       "    }\n",
       "\n",
       "    .dataframe tbody tr th {\n",
       "        vertical-align: top;\n",
       "    }\n",
       "\n",
       "    .dataframe thead th {\n",
       "        text-align: right;\n",
       "    }\n",
       "</style>\n",
       "<table border=\"1\" class=\"dataframe\">\n",
       "  <thead>\n",
       "    <tr style=\"text-align: right;\">\n",
       "      <th></th>\n",
       "      <th>english</th>\n",
       "      <th>mathematics</th>\n",
       "      <th>eng_dev.</th>\n",
       "      <th>math_dev.</th>\n",
       "      <th>productOfDev.</th>\n",
       "    </tr>\n",
       "    <tr>\n",
       "      <th>student number</th>\n",
       "      <th></th>\n",
       "      <th></th>\n",
       "      <th></th>\n",
       "      <th></th>\n",
       "      <th></th>\n",
       "    </tr>\n",
       "  </thead>\n",
       "  <tbody>\n",
       "    <tr>\n",
       "      <th>1</th>\n",
       "      <td>42</td>\n",
       "      <td>65</td>\n",
       "      <td>-16.38</td>\n",
       "      <td>-13.88</td>\n",
       "      <td>227.354</td>\n",
       "    </tr>\n",
       "    <tr>\n",
       "      <th>2</th>\n",
       "      <td>69</td>\n",
       "      <td>80</td>\n",
       "      <td>10.62</td>\n",
       "      <td>1.12</td>\n",
       "      <td>11.894</td>\n",
       "    </tr>\n",
       "    <tr>\n",
       "      <th>3</th>\n",
       "      <td>56</td>\n",
       "      <td>63</td>\n",
       "      <td>-2.38</td>\n",
       "      <td>-15.88</td>\n",
       "      <td>37.794</td>\n",
       "    </tr>\n",
       "    <tr>\n",
       "      <th>4</th>\n",
       "      <td>41</td>\n",
       "      <td>63</td>\n",
       "      <td>-17.38</td>\n",
       "      <td>-15.88</td>\n",
       "      <td>275.994</td>\n",
       "    </tr>\n",
       "    <tr>\n",
       "      <th>5</th>\n",
       "      <td>57</td>\n",
       "      <td>76</td>\n",
       "      <td>-1.38</td>\n",
       "      <td>-2.88</td>\n",
       "      <td>3.974</td>\n",
       "    </tr>\n",
       "  </tbody>\n",
       "</table>\n",
       "</div>"
      ],
      "text/plain": [
       "                english  mathematics  eng_dev.  math_dev.  productOfDev.\n",
       "student number                                                          \n",
       "1                    42           65    -16.38     -13.88        227.354\n",
       "2                    69           80     10.62       1.12         11.894\n",
       "3                    56           63     -2.38     -15.88         37.794\n",
       "4                    41           63    -17.38     -15.88        275.994\n",
       "5                    57           76     -1.38      -2.88          3.974"
      ]
     },
     "execution_count": 190,
     "metadata": {},
     "output_type": "execute_result"
    }
   ],
   "source": [
    "summary_df = df.copy()\n",
    "summary_df['eng_dev.'] =\\\n",
    "    summary_df['english'] - summary_df['english'].mean()\n",
    "summary_df['math_dev.'] =\\\n",
    "    summary_df['mathematics'] - summary_df['mathematics'].mean()\n",
    "summary_df['productOfDev.'] =\\\n",
    "    summary_df['eng_dev.'] * summary_df['math_dev.']\n",
    "summary_df.head()\n"
   ]
  },
  {
   "cell_type": "code",
   "execution_count": 196,
   "id": "4fc1b296",
   "metadata": {},
   "outputs": [
    {
     "data": {
      "text/plain": [
       "58.486"
      ]
     },
     "execution_count": 196,
     "metadata": {},
     "output_type": "execute_result"
    }
   ],
   "source": [
    "summary_df['productOfDev.'].mean()\n",
    "\n"
   ]
  },
  {
   "cell_type": "code",
   "execution_count": null,
   "id": "56322172",
   "metadata": {},
   "outputs": [],
   "source": []
  },
  {
   "cell_type": "code",
   "execution_count": 197,
   "id": "cf937eb4",
   "metadata": {},
   "outputs": [
    {
     "ename": "NameError",
     "evalue": "name 'cov_mat' is not defined",
     "output_type": "error",
     "traceback": [
      "\u001b[1;31m---------------------------------------------------------------------------\u001b[0m",
      "\u001b[1;31mNameError\u001b[0m                                 Traceback (most recent call last)",
      "\u001b[1;32m~\\AppData\\Local\\Temp/ipykernel_68364/910490798.py\u001b[0m in \u001b[0;36m<module>\u001b[1;34m\u001b[0m\n\u001b[1;32m----> 1\u001b[1;33m \u001b[0mcov_mat\u001b[0m\u001b[1;33m[\u001b[0m\u001b[1;36m1\u001b[0m\u001b[1;33m,\u001b[0m\u001b[1;36m1\u001b[0m\u001b[1;33m]\u001b[0m\u001b[1;33m\u001b[0m\u001b[1;33m\u001b[0m\u001b[0m\n\u001b[0m",
      "\u001b[1;31mNameError\u001b[0m: name 'cov_mat' is not defined"
     ]
    }
   ],
   "source": [
    "cov_mat[1,1]"
   ]
  },
  {
   "cell_type": "code",
   "execution_count": 193,
   "id": "787b3ec7",
   "metadata": {},
   "outputs": [
    {
     "data": {
      "text/plain": [
       "array([[94.116, 58.486],\n",
       "       [58.486, 69.386]])"
      ]
     },
     "execution_count": 193,
     "metadata": {},
     "output_type": "execute_result"
    }
   ],
   "source": [
    "np.cov(df['english'],df['mathematics'],ddof=0)"
   ]
  },
  {
   "cell_type": "code",
   "execution_count": null,
   "id": "7d24ea79",
   "metadata": {},
   "outputs": [],
   "source": [
    "cov_mat=np.cov(df['english'])"
   ]
  },
  {
   "cell_type": "code",
   "execution_count": 194,
   "id": "2d3336ef",
   "metadata": {},
   "outputs": [
    {
     "ename": "NameError",
     "evalue": "name 'cov_mat' is not defined",
     "output_type": "error",
     "traceback": [
      "\u001b[1;31m---------------------------------------------------------------------------\u001b[0m",
      "\u001b[1;31mNameError\u001b[0m                                 Traceback (most recent call last)",
      "\u001b[1;32m~\\AppData\\Local\\Temp/ipykernel_68364/3538229821.py\u001b[0m in \u001b[0;36m<module>\u001b[1;34m\u001b[0m\n\u001b[1;32m----> 1\u001b[1;33m \u001b[0mcov_mat\u001b[0m\u001b[1;33m[\u001b[0m\u001b[1;36m0.1\u001b[0m\u001b[1;33m]\u001b[0m\u001b[1;33m,\u001b[0m\u001b[0mcov_mat\u001b[0m\u001b[1;33m[\u001b[0m\u001b[1;36m1\u001b[0m\u001b[1;33m,\u001b[0m\u001b[1;36m0\u001b[0m\u001b[1;33m]\u001b[0m\u001b[1;33m\u001b[0m\u001b[1;33m\u001b[0m\u001b[0m\n\u001b[0m",
      "\u001b[1;31mNameError\u001b[0m: name 'cov_mat' is not defined"
     ]
    }
   ],
   "source": [
    "cov_mat[0.1],cov_mat[1,0]"
   ]
  },
  {
   "cell_type": "code",
   "execution_count": 201,
   "id": "f526beec",
   "metadata": {},
   "outputs": [
    {
     "ename": "NameError",
     "evalue": "name 'cov_mat' is not defined",
     "output_type": "error",
     "traceback": [
      "\u001b[1;31m---------------------------------------------------------------------------\u001b[0m",
      "\u001b[1;31mNameError\u001b[0m                                 Traceback (most recent call last)",
      "\u001b[1;32m~\\AppData\\Local\\Temp/ipykernel_68364/2510961185.py\u001b[0m in \u001b[0;36m<module>\u001b[1;34m\u001b[0m\n\u001b[1;32m----> 1\u001b[1;33m \u001b[0mcov_mat\u001b[0m\u001b[1;33m[\u001b[0m\u001b[1;36m0\u001b[0m\u001b[1;33m,\u001b[0m\u001b[1;36m0\u001b[0m\u001b[1;33m]\u001b[0m\u001b[1;33m\u001b[0m\u001b[1;33m\u001b[0m\u001b[0m\n\u001b[0m",
      "\u001b[1;31mNameError\u001b[0m: name 'cov_mat' is not defined"
     ]
    }
   ],
   "source": [
    "cov_mat[0,0]"
   ]
  },
  {
   "cell_type": "code",
   "execution_count": 200,
   "id": "9bc46548",
   "metadata": {},
   "outputs": [
    {
     "ename": "NameError",
     "evalue": "name 'cov' is not defined",
     "output_type": "error",
     "traceback": [
      "\u001b[1;31m---------------------------------------------------------------------------\u001b[0m",
      "\u001b[1;31mNameError\u001b[0m                                 Traceback (most recent call last)",
      "\u001b[1;32m~\\AppData\\Local\\Temp/ipykernel_68364/2691035014.py\u001b[0m in \u001b[0;36m<module>\u001b[1;34m\u001b[0m\n\u001b[1;32m----> 1\u001b[1;33m \u001b[0mcov\u001b[0m\u001b[1;33m[\u001b[0m\u001b[0mmat\u001b[0m\u001b[1;33m[\u001b[0m\u001b[1;36m1\u001b[0m\u001b[1;33m,\u001b[0m\u001b[1;36m1\u001b[0m\u001b[1;33m]\u001b[0m\u001b[1;33m]\u001b[0m\u001b[1;33m\u001b[0m\u001b[1;33m\u001b[0m\u001b[0m\n\u001b[0m",
      "\u001b[1;31mNameError\u001b[0m: name 'cov' is not defined"
     ]
    }
   ],
   "source": [
    "cov[mat[1,1]]"
   ]
  },
  {
   "cell_type": "code",
   "execution_count": 199,
   "id": "d1c2393a",
   "metadata": {},
   "outputs": [
    {
     "data": {
      "text/plain": [
       "(94.116, 69.386)"
      ]
     },
     "execution_count": 199,
     "metadata": {},
     "output_type": "execute_result"
    }
   ],
   "source": [
    "np.var(df['english'],ddof=0),np.var(df['mathematics'],ddof=0)"
   ]
  },
  {
   "cell_type": "code",
   "execution_count": 198,
   "id": "388f811c",
   "metadata": {},
   "outputs": [
    {
     "data": {
      "text/plain": [
       "0.7237414863069244"
      ]
     },
     "execution_count": 198,
     "metadata": {},
     "output_type": "execute_result"
    }
   ],
   "source": [
    "np.cov(df['english'], df['mathematics'], ddof=0)[0, 1] /\\\n",
    "    (np.std(df['english']) * np.std(df['mathematics']))\n"
   ]
  },
  {
   "cell_type": "code",
   "execution_count": 205,
   "id": "4b9c295a",
   "metadata": {},
   "outputs": [
    {
     "ename": "SyntaxError",
     "evalue": "unmatched ')' (Temp/ipykernel_68364/678638482.py, line 1)",
     "output_type": "error",
     "traceback": [
      "\u001b[1;36m  File \u001b[1;32m\"C:\\Users\\낙원이\\AppData\\Local\\Temp/ipykernel_68364/678638482.py\"\u001b[1;36m, line \u001b[1;32m1\u001b[0m\n\u001b[1;33m    np.corrcoef(df['english']),df['mathematics'])\u001b[0m\n\u001b[1;37m                                                ^\u001b[0m\n\u001b[1;31mSyntaxError\u001b[0m\u001b[1;31m:\u001b[0m unmatched ')'\n"
     ]
    }
   ],
   "source": [
    "np.corrcoef(df['english']),df['mathematics'])"
   ]
  },
  {
   "cell_type": "code",
   "execution_count": 204,
   "id": "2330f012",
   "metadata": {},
   "outputs": [
    {
     "data": {
      "text/html": [
       "<div>\n",
       "<style scoped>\n",
       "    .dataframe tbody tr th:only-of-type {\n",
       "        vertical-align: middle;\n",
       "    }\n",
       "\n",
       "    .dataframe tbody tr th {\n",
       "        vertical-align: top;\n",
       "    }\n",
       "\n",
       "    .dataframe thead th {\n",
       "        text-align: right;\n",
       "    }\n",
       "</style>\n",
       "<table border=\"1\" class=\"dataframe\">\n",
       "  <thead>\n",
       "    <tr style=\"text-align: right;\">\n",
       "      <th></th>\n",
       "      <th>english</th>\n",
       "      <th>mathematics</th>\n",
       "    </tr>\n",
       "  </thead>\n",
       "  <tbody>\n",
       "    <tr>\n",
       "      <th>english</th>\n",
       "      <td>1.000</td>\n",
       "      <td>0.724</td>\n",
       "    </tr>\n",
       "    <tr>\n",
       "      <th>mathematics</th>\n",
       "      <td>0.724</td>\n",
       "      <td>1.000</td>\n",
       "    </tr>\n",
       "  </tbody>\n",
       "</table>\n",
       "</div>"
      ],
      "text/plain": [
       "             english  mathematics\n",
       "english        1.000        0.724\n",
       "mathematics    0.724        1.000"
      ]
     },
     "execution_count": 204,
     "metadata": {},
     "output_type": "execute_result"
    }
   ],
   "source": [
    "df.corr()"
   ]
  },
  {
   "cell_type": "code",
   "execution_count": 206,
   "id": "939da572",
   "metadata": {},
   "outputs": [
    {
     "data": {
      "text/plain": [
       "<matplotlib.collections.PathCollection at 0x21311a70d00>"
      ]
     },
     "execution_count": 206,
     "metadata": {},
     "output_type": "execute_result"
    },
    {
     "data": {
      "text/plain": [
       "Text(0.5, 0, 'english')"
      ]
     },
     "execution_count": 206,
     "metadata": {},
     "output_type": "execute_result"
    },
    {
     "data": {
      "text/plain": [
       "Text(0, 0.5, 'mathematics')"
      ]
     },
     "execution_count": 206,
     "metadata": {},
     "output_type": "execute_result"
    },
    {
     "data": {
      "image/png": "[encoded data removed]",
      "text/plain": [
       "<Figure size 432x288 with 1 Axes>"
      ]
     },
     "metadata": {
      "needs_background": "light"
     },
     "output_type": "display_data"
    }
   ],
   "source": [
    "# 산점도\n",
    "plt.scatter(df['english'],df['mathematics'] )\n",
    "plt.xlabel('english')\n",
    "plt.ylabel('mathematics')\n",
    "plt.show()\n"
   ]
  },
  {
   "cell_type": "code",
   "execution_count": 207,
   "id": "20659b22",
   "metadata": {},
   "outputs": [
    {
     "data": {
      "text/plain": [
       "Text(0.5, 0, 'english')"
      ]
     },
     "execution_count": 207,
     "metadata": {},
     "output_type": "execute_result"
    },
    {
     "data": {
      "text/plain": [
       "Text(0, 0.5, 'mathematics')"
      ]
     },
     "execution_count": 207,
     "metadata": {},
     "output_type": "execute_result"
    },
    {
     "data": {
      "text/plain": [
       "<matplotlib.collections.PathCollection at 0x213109739a0>"
      ]
     },
     "execution_count": 207,
     "metadata": {},
     "output_type": "execute_result"
    },
    {
     "data": {
      "text/plain": [
       "[<matplotlib.lines.Line2D at 0x21312184af0>]"
      ]
     },
     "execution_count": 207,
     "metadata": {},
     "output_type": "execute_result"
    },
    {
     "data": {
      "text/plain": [
       "<matplotlib.legend.Legend at 0x21312176790>"
      ]
     },
     "execution_count": 207,
     "metadata": {},
     "output_type": "execute_result"
    },
    {
     "data": {
      "image/png": "[encoded data removed]",
      "text/plain": [
       "<Figure size 432x288 with 1 Axes>"
      ]
     },
     "metadata": {
      "needs_background": "light"
     },
     "output_type": "display_data"
    }
   ],
   "source": [
    "# 계수β_0와β_1를 구한다(기울기와 절편)\n",
    "poly_fit = np.polyfit(df['english'],df['mathematics'], 1)\n",
    "\n",
    "# β_0+β_1 x를 반환하는 함수를 작성\n",
    "poly_1d = np.poly1d(poly_fit)\n",
    "\n",
    "# 직선을 그리기 위한 x좌표\n",
    "xs = np.linspace(df['english'].min(), df['english'].max())\n",
    "\n",
    "# xs에 대응하는 y좌표\n",
    "ys = poly_1d(xs)\n",
    "\n",
    "plt.xlabel('english')\n",
    "plt.ylabel('mathematics')\n",
    "plt.scatter(df['english'],df['mathematics'], label='score')\n",
    "plt.plot(xs, ys, color='gray',\n",
    "        label=f'{poly_fit[1]:.2f}+{poly_fit[0]:.2f}x')\n",
    "\n",
    "# 범례의 표시\n",
    "plt.legend(loc='upper left')\n",
    "\n",
    "plt.show()\n"
   ]
  },
  {
   "cell_type": "code",
   "execution_count": 214,
   "id": "dd5f5364",
   "metadata": {},
   "outputs": [
    {
     "data": {
      "text/plain": [
       "<matplotlib.collections.QuadMesh at 0x213122eb6d0>"
      ]
     },
     "execution_count": 214,
     "metadata": {},
     "output_type": "execute_result"
    },
    {
     "data": {
      "text/plain": [
       "Text(0.5, 0, 'english')"
      ]
     },
     "execution_count": 214,
     "metadata": {},
     "output_type": "execute_result"
    },
    {
     "data": {
      "text/plain": [
       "Text(0, 0.5, 'mathematics')"
      ]
     },
     "execution_count": 214,
     "metadata": {},
     "output_type": "execute_result"
    },
    {
     "data": {
      "text/plain": [
       "([<matplotlib.axis.XTick at 0x213123dc250>,\n",
       "  <matplotlib.axis.XTick at 0x213123dc220>,\n",
       "  <matplotlib.axis.XTick at 0x213123d01f0>,\n",
       "  <matplotlib.axis.XTick at 0x21312406c70>,\n",
       "  <matplotlib.axis.XTick at 0x2131240f400>,\n",
       "  <matplotlib.axis.XTick at 0x2131240fb50>,\n",
       "  <matplotlib.axis.XTick at 0x2131240fbb0>,\n",
       "  <matplotlib.axis.XTick at 0x2131241a1c0>,\n",
       "  <matplotlib.axis.XTick at 0x2131241a910>,\n",
       "  <matplotlib.axis.XTick at 0x2131241f160>],\n",
       " [Text(0, 0, ''),\n",
       "  Text(0, 0, ''),\n",
       "  Text(0, 0, ''),\n",
       "  Text(0, 0, ''),\n",
       "  Text(0, 0, ''),\n",
       "  Text(0, 0, ''),\n",
       "  Text(0, 0, ''),\n",
       "  Text(0, 0, ''),\n",
       "  Text(0, 0, ''),\n",
       "  Text(0, 0, '')])"
      ]
     },
     "execution_count": 214,
     "metadata": {},
     "output_type": "execute_result"
    },
    {
     "data": {
      "text/plain": [
       "([<matplotlib.axis.YTick at 0x213123e41f0>,\n",
       "  <matplotlib.axis.YTick at 0x213123dca30>,\n",
       "  <matplotlib.axis.YTick at 0x213123d88e0>,\n",
       "  <matplotlib.axis.YTick at 0x213124230a0>,\n",
       "  <matplotlib.axis.YTick at 0x2131241fb50>,\n",
       "  <matplotlib.axis.YTick at 0x2131241a7c0>,\n",
       "  <matplotlib.axis.YTick at 0x21312423640>,\n",
       "  <matplotlib.axis.YTick at 0x21312423d60>,\n",
       "  <matplotlib.axis.YTick at 0x213124304f0>],\n",
       " [Text(0, 0, ''),\n",
       "  Text(0, 0, ''),\n",
       "  Text(0, 0, ''),\n",
       "  Text(0, 0, ''),\n",
       "  Text(0, 0, ''),\n",
       "  Text(0, 0, ''),\n",
       "  Text(0, 0, ''),\n",
       "  Text(0, 0, ''),\n",
       "  Text(0, 0, '')])"
      ]
     },
     "execution_count": 214,
     "metadata": {},
     "output_type": "execute_result"
    },
    {
     "data": {
      "text/plain": [
       "<matplotlib.colorbar.Colorbar at 0x2131243edc0>"
      ]
     },
     "execution_count": 214,
     "metadata": {},
     "output_type": "execute_result"
    },
    {
     "data": {
      "image/png": "[encoded data removed]",
      "text/plain": [
       "<Figure size 432x288 with 2 Axes>"
      ]
     },
     "metadata": {
      "needs_background": "light"
     },
     "output_type": "display_data"
    }
   ],
   "source": [
    "c=plt.hist2d(df['english'],df['mathematics'],bins=(9,8),range=[(35,80),(55,95)])\n",
    "c[3]\n",
    "plt.xlabel('english')\n",
    "plt.ylabel('mathematics')\n",
    "plt.xticks(c[1])\n",
    "plt.yticks(c[2])\n",
    "plt.colorbar(c[3])\n",
    "plt.show()"
   ]
  },
  {
   "cell_type": "code",
   "execution_count": 224,
   "id": "e578f2a6",
   "metadata": {},
   "outputs": [
    {
     "data": {
      "text/plain": [
       "array([3, 1, 2])"
      ]
     },
     "execution_count": 224,
     "metadata": {},
     "output_type": "execute_result"
    }
   ],
   "source": [
    "np.random.choice([1,2,3],3)"
   ]
  },
  {
   "cell_type": "code",
   "execution_count": 225,
   "id": "c4a6d16c",
   "metadata": {},
   "outputs": [
    {
     "data": {
      "text/plain": [
       "array([1, 3, 2])"
      ]
     },
     "execution_count": 225,
     "metadata": {},
     "output_type": "execute_result"
    }
   ],
   "source": [
    "np.random.choice([1,2,3],3,replace=False)"
   ]
  },
  {
   "cell_type": "code",
   "execution_count": 226,
   "id": "c1736542",
   "metadata": {},
   "outputs": [
    {
     "data": {
      "text/plain": [
       "array([3, 2, 3])"
      ]
     },
     "execution_count": 226,
     "metadata": {},
     "output_type": "execute_result"
    }
   ],
   "source": [
    "np.random.seed(123)\n",
    "np.random.choice([1,2,3],3)"
   ]
  },
  {
   "cell_type": "code",
   "execution_count": 220,
   "id": "6c06172e",
   "metadata": {},
   "outputs": [
    {
     "data": {
      "text/plain": [
       "0    76\n",
       "1    55\n",
       "2    80\n",
       "3    80\n",
       "4    74\n",
       "5    61\n",
       "6    81\n",
       "7    76\n",
       "8    23\n",
       "9    80\n",
       "Name: score, dtype: int64"
      ]
     },
     "execution_count": 220,
     "metadata": {},
     "output_type": "execute_result"
    }
   ],
   "source": [
    "df = pd.read_csv('./data/ch4_scores400.csv')\n",
    "scores = df['score']\n",
    "scores[:10]\n"
   ]
  },
  {
   "cell_type": "code",
   "execution_count": 228,
   "id": "653d38f0",
   "metadata": {},
   "outputs": [
    {
     "data": {
      "text/plain": [
       "70.4"
      ]
     },
     "execution_count": 228,
     "metadata": {},
     "output_type": "execute_result"
    }
   ],
   "source": [
    "np.random.seed(0)\n",
    "sample=np.random.choice(scores,20)\n",
    "sample.mean()"
   ]
  },
  {
   "cell_type": "code",
   "execution_count": 229,
   "id": "442c0d6e",
   "metadata": {},
   "outputs": [
    {
     "data": {
      "text/plain": [
       "69.530"
      ]
     },
     "execution_count": 229,
     "metadata": {},
     "output_type": "execute_result"
    }
   ],
   "source": [
    "scores.mean()"
   ]
  },
  {
   "cell_type": "code",
   "execution_count": 232,
   "id": "c697c64d",
   "metadata": {},
   "outputs": [
    {
     "name": "stdout",
     "output_type": "stream",
     "text": [
      "1번째 무작위 추출로 얻은 데이터의 표본평균 69.15\n",
      "2번째 무작위 추출로 얻은 데이터의 표본평균 69.5\n",
      "3번째 무작위 추출로 얻은 데이터의 표본평균 71.35\n",
      "4번째 무작위 추출로 얻은 데이터의 표본평균 69.4\n",
      "5번째 무작위 추출로 얻은 데이터의 표본평균 71.5\n",
      "6번째 무작위 추출로 얻은 데이터의 표본평균 70.65\n",
      "7번째 무작위 추출로 얻은 데이터의 표본평균 69.95\n",
      "8번째 무작위 추출로 얻은 데이터의 표본평균 68.8\n",
      "9번째 무작위 추출로 얻은 데이터의 표본평균 69.15\n",
      "10번째 무작위 추출로 얻은 데이터의 표본평균 71.25\n"
     ]
    }
   ],
   "source": [
    "for i in range(10):\n",
    "    sample=np.random.choice(scores,20)\n",
    "    print(f'{i+1}번째 무작위 추출로 얻은 데이터의 표본평균 {sample.mean()}')"
   ]
  },
  {
   "cell_type": "code",
   "execution_count": 233,
   "id": "6388d5b1",
   "metadata": {},
   "outputs": [
    {
     "data": {
      "text/plain": [
       "[0.048, 0.095, 0.143, 0.190, 0.238, 0.286]"
      ]
     },
     "execution_count": 233,
     "metadata": {},
     "output_type": "execute_result"
    }
   ],
   "source": [
    "dice=[1,2,3,4,5,6]\n",
    "prob=[1/21,2/21,3/21,4/21,5/21,6/21]\n",
    "prob"
   ]
  },
  {
   "cell_type": "code",
   "execution_count": 235,
   "id": "69f09307",
   "metadata": {},
   "outputs": [
    {
     "data": {
      "text/plain": [
       "6"
      ]
     },
     "execution_count": 235,
     "metadata": {},
     "output_type": "execute_result"
    }
   ],
   "source": [
    "np.random.choice(dice,p=prob)"
   ]
  },
  {
   "cell_type": "code",
   "execution_count": 236,
   "id": "42c442ae",
   "metadata": {},
   "outputs": [
    {
     "data": {
      "text/plain": [
       "array([5, 6, 3, 5, 2, 5, 6, 6, 4, 6, 3, 6, 6, 6, 5, 6, 4, 6, 5, 1, 4, 3,\n",
       "       6, 5, 5, 5, 4, 2, 6, 3, 5, 3, 2, 6, 6, 6, 6, 6, 4, 2, 4, 3, 2, 2,\n",
       "       6, 1, 6, 3, 2, 2, 5, 3, 4, 5, 6, 6, 3, 2, 2, 4, 3, 4, 5, 5, 3, 4,\n",
       "       3, 6, 2, 5, 6, 6, 3, 4, 5, 3, 4, 3, 4, 1, 6, 2, 5, 4, 5, 6, 5, 1,\n",
       "       4, 5, 5, 5, 3, 2, 4, 6, 3, 6, 5, 4])"
      ]
     },
     "execution_count": 236,
     "metadata": {},
     "output_type": "execute_result"
    }
   ],
   "source": [
    "num_trial=100\n",
    "sample=np.random.choice(dice,num_trial,p=prob)\n",
    "sample"
   ]
  },
  {
   "cell_type": "code",
   "execution_count": 240,
   "id": "277a3ab1",
   "metadata": {},
   "outputs": [
    {
     "data": {
      "text/html": [
       "<div>\n",
       "<style scoped>\n",
       "    .dataframe tbody tr th:only-of-type {\n",
       "        vertical-align: middle;\n",
       "    }\n",
       "\n",
       "    .dataframe tbody tr th {\n",
       "        vertical-align: top;\n",
       "    }\n",
       "\n",
       "    .dataframe thead th {\n",
       "        text-align: right;\n",
       "    }\n",
       "</style>\n",
       "<table border=\"1\" class=\"dataframe\">\n",
       "  <thead>\n",
       "    <tr style=\"text-align: right;\">\n",
       "      <th></th>\n",
       "      <th>frequency</th>\n",
       "      <th>rel.freq</th>\n",
       "    </tr>\n",
       "    <tr>\n",
       "      <th>dice</th>\n",
       "      <th></th>\n",
       "      <th></th>\n",
       "    </tr>\n",
       "  </thead>\n",
       "  <tbody>\n",
       "    <tr>\n",
       "      <th>1</th>\n",
       "      <td>4</td>\n",
       "      <td>0.04</td>\n",
       "    </tr>\n",
       "    <tr>\n",
       "      <th>2</th>\n",
       "      <td>13</td>\n",
       "      <td>0.13</td>\n",
       "    </tr>\n",
       "    <tr>\n",
       "      <th>3</th>\n",
       "      <td>17</td>\n",
       "      <td>0.17</td>\n",
       "    </tr>\n",
       "    <tr>\n",
       "      <th>4</th>\n",
       "      <td>17</td>\n",
       "      <td>0.17</td>\n",
       "    </tr>\n",
       "    <tr>\n",
       "      <th>5</th>\n",
       "      <td>22</td>\n",
       "      <td>0.22</td>\n",
       "    </tr>\n",
       "    <tr>\n",
       "      <th>6</th>\n",
       "      <td>27</td>\n",
       "      <td>0.27</td>\n",
       "    </tr>\n",
       "  </tbody>\n",
       "</table>\n",
       "</div>"
      ],
      "text/plain": [
       "      frequency  rel.freq\n",
       "dice                     \n",
       "1             4      0.04\n",
       "2            13      0.13\n",
       "3            17      0.17\n",
       "4            17      0.17\n",
       "5            22      0.22\n",
       "6            27      0.27"
      ]
     },
     "execution_count": 240,
     "metadata": {},
     "output_type": "execute_result"
    }
   ],
   "source": [
    "freq,_=np.histogram(sample,bins=6,range=(1,7))\n",
    "pd.DataFrame({'frequency':freq,'rel.freq':freq/num_trial}, index=pd.Index(np.arange(1,7),name='dice'))"
   ]
  },
  {
   "cell_type": "code",
   "execution_count": 241,
   "id": "5ad9c0fb",
   "metadata": {},
   "outputs": [
    {
     "data": {
      "text/plain": [
       "(array([0.040, 0.130, 0.170, 0.170, 0.220, 0.270]),\n",
       " array([1.000, 2.000, 3.000, 4.000, 5.000, 6.000, 7.000]),\n",
       " <BarContainer object of 6 artists>)"
      ]
     },
     "execution_count": 241,
     "metadata": {},
     "output_type": "execute_result"
    },
    {
     "data": {
      "text/plain": [
       "<matplotlib.collections.LineCollection at 0x213124d1f10>"
      ]
     },
     "execution_count": 241,
     "metadata": {},
     "output_type": "execute_result"
    },
    {
     "data": {
      "text/plain": [
       "[<matplotlib.axis.XTick at 0x213124adc10>,\n",
       " <matplotlib.axis.XTick at 0x213124ada00>,\n",
       " <matplotlib.axis.XTick at 0x213124ad430>,\n",
       " <matplotlib.axis.XTick at 0x213124f4520>,\n",
       " <matplotlib.axis.XTick at 0x213124f4c70>,\n",
       " <matplotlib.axis.XTick at 0x213124f44c0>]"
      ]
     },
     "execution_count": 241,
     "metadata": {},
     "output_type": "execute_result"
    },
    {
     "data": {
      "text/plain": [
       "[Text(1.5, 0, '1'),\n",
       " Text(2.5, 0, '2'),\n",
       " Text(3.5, 0, '3'),\n",
       " Text(4.5, 0, '4'),\n",
       " Text(5.5, 0, '5'),\n",
       " Text(6.5, 0, '6')]"
      ]
     },
     "execution_count": 241,
     "metadata": {},
     "output_type": "execute_result"
    },
    {
     "data": {
      "text/plain": [
       "Text(0.5, 0, 'dice')"
      ]
     },
     "execution_count": 241,
     "metadata": {},
     "output_type": "execute_result"
    },
    {
     "data": {
      "text/plain": [
       "Text(0, 0.5, 'relative frequency')"
      ]
     },
     "execution_count": 241,
     "metadata": {},
     "output_type": "execute_result"
    },
    {
     "data": {
      "image/png": "[encoded data removed]",
      "text/plain": [
       "<Figure size 720x432 with 1 Axes>"
      ]
     },
     "metadata": {
      "needs_background": "light"
     },
     "output_type": "display_data"
    }
   ],
   "source": [
    "fig = plt.figure(figsize=(10, 6))\n",
    "ax = fig.add_subplot(111)\n",
    "ax.hist(sample, bins=6, range=(1, 7), density=True, rwidth=0.8)\n",
    "# 실제의 확률분포를 가로선으로 표시\n",
    "ax.hlines(prob, np.arange(1, 7), np.arange(2, 8), colors='gray')\n",
    "# 막대 그래프의 [1.5, 2.5, ..., 6.5]에 눈금을 표시\n",
    "ax.set_xticks(np.linspace(1.5, 6.5, 6))\n",
    "# 주사위 눈의 값은 [1, 2, 3, 4, 5, 6]\n",
    "ax.set_xticklabels(np.arange(1, 7))\n",
    "ax.set_xlabel('dice')\n",
    "ax.set_ylabel('relative frequency')\n",
    "plt.show()\n"
   ]
  },
  {
   "cell_type": "code",
   "execution_count": 242,
   "id": "cb37990e",
   "metadata": {},
   "outputs": [
    {
     "data": {
      "text/plain": [
       "(array([0.051, 0.096, 0.144, 0.192, 0.233, 0.284]),\n",
       " array([1.000, 2.000, 3.000, 4.000, 5.000, 6.000, 7.000]),\n",
       " <BarContainer object of 6 artists>)"
      ]
     },
     "execution_count": 242,
     "metadata": {},
     "output_type": "execute_result"
    },
    {
     "data": {
      "text/plain": [
       "<matplotlib.collections.LineCollection at 0x21312542e20>"
      ]
     },
     "execution_count": 242,
     "metadata": {},
     "output_type": "execute_result"
    },
    {
     "data": {
      "text/plain": [
       "Text(0.5, 0, 'dice')"
      ]
     },
     "execution_count": 242,
     "metadata": {},
     "output_type": "execute_result"
    },
    {
     "data": {
      "text/plain": [
       "Text(0, 0.5, 'relative frequency')"
      ]
     },
     "execution_count": 242,
     "metadata": {},
     "output_type": "execute_result"
    },
    {
     "data": {
      "image/png": "[encoded data removed]",
      "text/plain": [
       "<Figure size 720x432 with 1 Axes>"
      ]
     },
     "metadata": {
      "needs_background": "light"
     },
     "output_type": "display_data"
    }
   ],
   "source": [
    "num_trial = 10000\n",
    "sample = np.random.choice(dice, size=num_trial, p=prob)\n",
    "\n",
    "fig = plt.figure(figsize=(10, 6))\n",
    "ax = fig.add_subplot(111)\n",
    "ax.hist(sample, bins=6, range=(1, 7), density=True, rwidth=0.8)\n",
    "ax.hlines(prob, np.arange(1, 7), np.arange(2, 8), colors='gray')\n",
    "# ax.set_xticks(np.linspace(1.5, 6.5, 6))\n",
    "# ax.set_xticklabels(np.arange(1, 7))\n",
    "ax.set_xlabel('dice')\n",
    "ax.set_ylabel('relative frequency')\n",
    "plt.show()\n"
   ]
  },
  {
   "cell_type": "code",
   "execution_count": 243,
   "id": "b570ba46",
   "metadata": {},
   "outputs": [
    {
     "data": {
      "text/plain": [
       "(array([0.000, 0.000, 0.000, 0.000, 0.000, 0.000, 0.000, 0.000, 0.000,\n",
       "        0.000, 0.000, 0.000, 0.000, 0.000, 0.000, 0.000, 0.000, 0.000,\n",
       "        0.000, 0.000, 0.000, 0.000, 0.000, 0.003, 0.000, 0.000, 0.000,\n",
       "        0.000, 0.003, 0.003, 0.000, 0.003, 0.000, 0.000, 0.003, 0.000,\n",
       "        0.000, 0.000, 0.003, 0.000, 0.003, 0.005, 0.007, 0.007, 0.000,\n",
       "        0.013, 0.013, 0.007, 0.005, 0.015, 0.010, 0.000, 0.022, 0.003,\n",
       "        0.020, 0.025, 0.020, 0.025, 0.020, 0.013, 0.015, 0.033, 0.015,\n",
       "        0.035, 0.022, 0.020, 0.015, 0.033, 0.040, 0.028, 0.025, 0.018,\n",
       "        0.022, 0.020, 0.025, 0.018, 0.035, 0.025, 0.033, 0.025, 0.025,\n",
       "        0.020, 0.018, 0.022, 0.007, 0.015, 0.022, 0.013, 0.005, 0.007,\n",
       "        0.013, 0.020, 0.015, 0.010, 0.007, 0.000, 0.013, 0.005, 0.003,\n",
       "        0.013]),\n",
       " array([0.000, 1.000, 2.000, 3.000, 4.000, 5.000, 6.000, 7.000, 8.000,\n",
       "        9.000, 10.000, 11.000, 12.000, 13.000, 14.000, 15.000, 16.000,\n",
       "        17.000, 18.000, 19.000, 20.000, 21.000, 22.000, 23.000, 24.000,\n",
       "        25.000, 26.000, 27.000, 28.000, 29.000, 30.000, 31.000, 32.000,\n",
       "        33.000, 34.000, 35.000, 36.000, 37.000, 38.000, 39.000, 40.000,\n",
       "        41.000, 42.000, 43.000, 44.000, 45.000, 46.000, 47.000, 48.000,\n",
       "        49.000, 50.000, 51.000, 52.000, 53.000, 54.000, 55.000, 56.000,\n",
       "        57.000, 58.000, 59.000, 60.000, 61.000, 62.000, 63.000, 64.000,\n",
       "        65.000, 66.000, 67.000, 68.000, 69.000, 70.000, 71.000, 72.000,\n",
       "        73.000, 74.000, 75.000, 76.000, 77.000, 78.000, 79.000, 80.000,\n",
       "        81.000, 82.000, 83.000, 84.000, 85.000, 86.000, 87.000, 88.000,\n",
       "        89.000, 90.000, 91.000, 92.000, 93.000, 94.000, 95.000, 96.000,\n",
       "        97.000, 98.000, 99.000, 100.000]),\n",
       " <BarContainer object of 100 artists>)"
      ]
     },
     "execution_count": 243,
     "metadata": {},
     "output_type": "execute_result"
    },
    {
     "data": {
      "text/plain": [
       "(20.000, 100.000)"
      ]
     },
     "execution_count": 243,
     "metadata": {},
     "output_type": "execute_result"
    },
    {
     "data": {
      "text/plain": [
       "(0.000, 0.042)"
      ]
     },
     "execution_count": 243,
     "metadata": {},
     "output_type": "execute_result"
    },
    {
     "data": {
      "text/plain": [
       "Text(0.5, 0, 'score')"
      ]
     },
     "execution_count": 243,
     "metadata": {},
     "output_type": "execute_result"
    },
    {
     "data": {
      "text/plain": [
       "Text(0, 0.5, 'relative frequency')"
      ]
     },
     "execution_count": 243,
     "metadata": {},
     "output_type": "execute_result"
    },
    {
     "data": {
      "image/png": "[encoded data removed]",
      "text/plain": [
       "<Figure size 720x432 with 1 Axes>"
      ]
     },
     "metadata": {
      "needs_background": "light"
     },
     "output_type": "display_data"
    }
   ],
   "source": [
    "fig = plt.figure(figsize=(10, 6))\n",
    "ax = fig.add_subplot(111)\n",
    "ax.hist(scores, bins=100, range=(0, 100), density=True)\n",
    "ax.set_xlim(20, 100)\n",
    "ax.set_ylim(0, 0.042)\n",
    "ax.set_xlabel('score')\n",
    "ax.set_ylabel('relative frequency')\n",
    "plt.show()\n"
   ]
  },
  {
   "cell_type": "code",
   "execution_count": null,
   "id": "c4557c2a",
   "metadata": {},
   "outputs": [],
   "source": []
  },
  {
   "cell_type": "code",
   "execution_count": null,
   "id": "387aa6f2",
   "metadata": {},
   "outputs": [],
   "source": []
  },
  {
   "cell_type": "code",
   "execution_count": null,
   "id": "2b6b9283",
   "metadata": {},
   "outputs": [],
   "source": []
  },
  {
   "cell_type": "code",
   "execution_count": null,
   "id": "7c0c9a66",
   "metadata": {},
   "outputs": [],
   "source": []
  },
  {
   "cell_type": "code",
   "execution_count": null,
   "id": "d798d659",
   "metadata": {},
   "outputs": [],
   "source": []
  },
  {
   "cell_type": "code",
   "execution_count": null,
   "id": "48fae48e",
   "metadata": {},
   "outputs": [],
   "source": []
  },
  {
   "cell_type": "code",
   "execution_count": null,
   "id": "d5f61bb4",
   "metadata": {},
   "outputs": [],
   "source": []
  },
  {
   "cell_type": "code",
   "execution_count": null,
   "id": "766d69f9",
   "metadata": {},
   "outputs": [],
   "source": []
  },
  {
   "cell_type": "code",
   "execution_count": null,
   "id": "f580d3d6",
   "metadata": {},
   "outputs": [],
   "source": []
  },
  {
   "cell_type": "code",
   "execution_count": null,
   "id": "8909326b",
   "metadata": {},
   "outputs": [],
   "source": []
  },
  {
   "cell_type": "code",
   "execution_count": null,
   "id": "8fd4f361",
   "metadata": {},
   "outputs": [],
   "source": []
  },
  {
   "cell_type": "code",
   "execution_count": null,
   "id": "92f6466a",
   "metadata": {},
   "outputs": [],
   "source": []
  },
  {
   "cell_type": "code",
   "execution_count": null,
   "id": "8fd4391d",
   "metadata": {},
   "outputs": [],
   "source": []
  },
  {
   "cell_type": "code",
   "execution_count": null,
   "id": "6e84f1cb",
   "metadata": {},
   "outputs": [],
   "source": []
  },
  {
   "cell_type": "code",
   "execution_count": null,
   "id": "8da95830",
   "metadata": {},
   "outputs": [],
   "source": []
  },
  {
   "cell_type": "code",
   "execution_count": null,
   "id": "04554089",
   "metadata": {},
   "outputs": [],
   "source": []
  },
  {
   "cell_type": "code",
   "execution_count": null,
   "id": "ffb2feb1",
   "metadata": {},
   "outputs": [],
   "source": []
  },
  {
   "cell_type": "code",
   "execution_count": null,
   "id": "6d174269",
   "metadata": {},
   "outputs": [],
   "source": []
  },
  {
   "cell_type": "code",
   "execution_count": null,
   "id": "7144fd7f",
   "metadata": {},
   "outputs": [],
   "source": []
  },
  {
   "cell_type": "code",
   "execution_count": null,
   "id": "2fd47276",
   "metadata": {},
   "outputs": [],
   "source": []
  },
  {
   "cell_type": "code",
   "execution_count": null,
   "id": "909a8467",
   "metadata": {},
   "outputs": [],
   "source": []
  },
  {
   "cell_type": "code",
   "execution_count": null,
   "id": "21f35376",
   "metadata": {},
   "outputs": [],
   "source": []
  },
  {
   "cell_type": "code",
   "execution_count": null,
   "id": "bb8b3515",
   "metadata": {},
   "outputs": [],
   "source": []
  },
  {
   "cell_type": "code",
   "execution_count": null,
   "id": "b38b202a",
   "metadata": {},
   "outputs": [],
   "source": []
  },
  {
   "cell_type": "code",
   "execution_count": null,
   "id": "0adbafa4",
   "metadata": {},
   "outputs": [],
   "source": []
  },
  {
   "cell_type": "code",
   "execution_count": null,
   "id": "aed7fa4d",
   "metadata": {},
   "outputs": [],
   "source": []
  },
  {
   "cell_type": "code",
   "execution_count": null,
   "id": "c70a073d",
   "metadata": {},
   "outputs": [],
   "source": []
  },
  {
   "cell_type": "code",
   "execution_count": null,
   "id": "fbca3c1f",
   "metadata": {},
   "outputs": [],
   "source": []
  },
  {
   "cell_type": "code",
   "execution_count": null,
   "id": "20bce2e2",
   "metadata": {},
   "outputs": [],
   "source": []
  },
  {
   "cell_type": "code",
   "execution_count": null,
   "id": "a670a9ef",
   "metadata": {},
   "outputs": [],
   "source": []
  },
  {
   "cell_type": "code",
   "execution_count": null,
   "id": "b8ee7259",
   "metadata": {},
   "outputs": [],
   "source": []
  },
  {
   "cell_type": "code",
   "execution_count": null,
   "id": "442d7cf4",
   "metadata": {},
   "outputs": [],
   "source": []
  },
  {
   "cell_type": "code",
   "execution_count": null,
   "id": "e5c3c30e",
   "metadata": {},
   "outputs": [],
   "source": []
  },
  {
   "cell_type": "code",
   "execution_count": null,
   "id": "ef8ed490",
   "metadata": {},
   "outputs": [],
   "source": []
  },
  {
   "cell_type": "code",
   "execution_count": null,
   "id": "cb8ad373",
   "metadata": {},
   "outputs": [],
   "source": []
  },
  {
   "cell_type": "code",
   "execution_count": null,
   "id": "6a7eb9e5",
   "metadata": {},
   "outputs": [],
   "source": []
  },
  {
   "cell_type": "code",
   "execution_count": null,
   "id": "b384658f",
   "metadata": {},
   "outputs": [],
   "source": []
  },
  {
   "cell_type": "code",
   "execution_count": null,
   "id": "a8f41ac0",
   "metadata": {},
   "outputs": [],
   "source": []
  },
  {
   "cell_type": "code",
   "execution_count": null,
   "id": "6df2be80",
   "metadata": {},
   "outputs": [],
   "source": []
  },
  {
   "cell_type": "code",
   "execution_count": null,
   "id": "0db09c06",
   "metadata": {},
   "outputs": [],
   "source": []
  },
  {
   "cell_type": "code",
   "execution_count": null,
   "id": "ba107017",
   "metadata": {},
   "outputs": [],
   "source": []
  },
  {
   "cell_type": "code",
   "execution_count": null,
   "id": "35c5f1be",
   "metadata": {},
   "outputs": [],
   "source": []
  },
  {
   "cell_type": "code",
   "execution_count": null,
   "id": "0c35f0e5",
   "metadata": {},
   "outputs": [],
   "source": []
  },
  {
   "cell_type": "code",
   "execution_count": null,
   "id": "989c07f5",
   "metadata": {},
   "outputs": [],
   "source": []
  },
  {
   "cell_type": "code",
   "execution_count": null,
   "id": "63b1c252",
   "metadata": {},
   "outputs": [],
   "source": []
  },
  {
   "cell_type": "code",
   "execution_count": null,
   "id": "69cf9c0a",
   "metadata": {},
   "outputs": [],
   "source": []
  },
  {
   "cell_type": "code",
   "execution_count": null,
   "id": "918c3bac",
   "metadata": {},
   "outputs": [],
   "source": []
  },
  {
   "cell_type": "code",
   "execution_count": null,
   "id": "93cc2d9e",
   "metadata": {},
   "outputs": [],
   "source": []
  },
  {
   "cell_type": "code",
   "execution_count": null,
   "id": "123786ad",
   "metadata": {},
   "outputs": [],
   "source": []
  }
 ],
 "metadata": {
  "kernelspec": {
   "display_name": "Python 3 (ipykernel)",
   "language": "python",
   "name": "python3"
  },
  "language_info": {
   "codemirror_mode": {
    "name": "ipython",
    "version": 3
   },
   "file_extension": ".py",
   "mimetype": "text/x-python",
   "name": "python",
   "nbconvert_exporter": "python",
   "pygments_lexer": "ipython3",
   "version": "3.9.7"
  }
 },
 "nbformat": 4,
 "nbformat_minor": 5
}
