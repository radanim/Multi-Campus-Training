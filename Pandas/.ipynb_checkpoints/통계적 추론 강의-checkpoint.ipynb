{
 "cells": [
  {
   "cell_type": "code",
   "execution_count": 3,
   "id": "60a1cebb",
   "metadata": {},
   "outputs": [],
   "source": [
    "import numpy as np\n",
    "import pandas as pd\n",
    "from scipy import stats\n",
    "\n",
    "%precision 3\n",
    "np.random.seed(1111)"
   ]
  },
  {
   "cell_type": "code",
   "execution_count": 6,
   "id": "ed91ff02",
   "metadata": {},
   "outputs": [],
   "source": [
    "import matplotlib.pyplot as plt"
   ]
  },
  {
   "cell_type": "code",
   "execution_count": 7,
   "id": "5b5bc0b7",
   "metadata": {},
   "outputs": [],
   "source": [
    "#성적 데이터\n",
    "df = pd.read_csv('./data/ch4_scores400.csv')\n",
    "scores = np.array(df['score'])\n"
   ]
  },
  {
   "cell_type": "code",
   "execution_count": 8,
   "id": "be60261d",
   "metadata": {},
   "outputs": [
    {
     "ename": "SyntaxError",
     "evalue": "invalid syntax (Temp/ipykernel_85380/3635804659.py, line 1)",
     "output_type": "error",
     "traceback": [
      "\u001b[1;36m  File \u001b[1;32m\"C:\\Users\\낙원이\\AppData\\Local\\Temp/ipykernel_85380/3635804659.py\"\u001b[1;36m, line \u001b[1;32m1\u001b[0m\n\u001b[1;33m    **문제1**\u001b[0m\n\u001b[1;37m    ^\u001b[0m\n\u001b[1;31mSyntaxError\u001b[0m\u001b[1;31m:\u001b[0m invalid syntax\n"
     ]
    }
   ],
   "source": [
    "**문제1**\n",
    "표준정규분포로부터 뽑아 95% 신뢰구간을 구하는것을 20번 반복했을 때, 몇개의 신뢰구간이 모평균을 포함할지 확인"
   ]
  },
  {
   "cell_type": "code",
   "execution_count": 9,
   "id": "5d387650",
   "metadata": {},
   "outputs": [
    {
     "data": {
      "text/plain": [
       "(69.53, 206.6691)"
      ]
     },
     "execution_count": 9,
     "metadata": {},
     "output_type": "execute_result"
    }
   ],
   "source": [
    "# 성적데이터 모집단의 평균과 분산 계산\n",
    "p_mean=np.mean(scores)\n",
    "p_var=np.var(scores)\n",
    "\n",
    "p_mean, p_var"
   ]
  },
  {
   "cell_type": "code",
   "execution_count": 42,
   "id": "ce9f3d6a",
   "metadata": {},
   "outputs": [
    {
     "ename": "SyntaxError",
     "evalue": "positional argument follows keyword argument (Temp/ipykernel_85380/3797202412.py, line 5)",
     "output_type": "error",
     "traceback": [
      "\u001b[1;36m  File \u001b[1;32m\"C:\\Users\\낙원이\\AppData\\Local\\Temp/ipykernel_85380/3797202412.py\"\u001b[1;36m, line \u001b[1;32m5\u001b[0m\n\u001b[1;33m    plt.hist(scores, bins=100, range(0,100), density=True)\u001b[0m\n\u001b[1;37m                                                         ^\u001b[0m\n\u001b[1;31mSyntaxError\u001b[0m\u001b[1;31m:\u001b[0m positional argument follows keyword argument\n"
     ]
    }
   ],
   "source": [
    "#모집단의 분포\n",
    "xs=np.arange(101)\n",
    "rv=stats.norm(p_mean, np.sqrt(p_var))\n",
    "plt.plt(xs,rv.pdf(xs), color='gray') # 평균 69.53, 분산 206.67\n",
    "plt.hist(scores, bins=100, range(0,100), density=True)\n",
    "plt.show()"
   ]
  },
  {
   "cell_type": "code",
   "execution_count": 16,
   "id": "79a02d2e",
   "metadata": {},
   "outputs": [
    {
     "data": {
      "text/plain": [
       "array([[87, 64, 76, 89, 50, 67, 86, 62, 77, 99, 83, 64, 61, 64, 93, 61,\n",
       "        89, 78, 56, 45],\n",
       "       [72, 34, 74, 63, 65, 74, 85, 69, 59, 92, 52, 73, 79, 46, 65, 83,\n",
       "        61, 61, 58, 64],\n",
       "       [68, 76, 29, 68, 79, 57, 77, 90, 79, 85, 59, 68, 93, 68, 56, 86,\n",
       "        72, 52, 84, 41],\n",
       "       [77, 63, 61, 84, 92, 79, 91, 49, 83, 60, 63, 65, 70, 93, 63, 63,\n",
       "        61, 87, 74, 59],\n",
       "       [60, 93, 80, 89, 90, 62, 23, 29, 63, 82, 89, 68, 59, 86, 80, 54,\n",
       "        46, 73, 67, 69]], dtype=int64)"
      ]
     },
     "execution_count": 16,
     "metadata": {},
     "output_type": "execute_result"
    }
   ],
   "source": [
    "#sample 데이터 생성\n",
    "n_sam = 10000\n",
    "n=20\n",
    "samples = np.random.choice(scores, (n_sam,n))\n",
    "samples[:5]"
   ]
  },
  {
   "cell_type": "code",
   "execution_count": 20,
   "id": "f16d3184",
   "metadata": {},
   "outputs": [
    {
     "data": {
      "text/plain": [
       "1.9599639845400545"
      ]
     },
     "execution_count": 20,
     "metadata": {},
     "output_type": "execute_result"
    }
   ],
   "source": [
    "rv=stats.norm()\n",
    "rv.isf(0.025)"
   ]
  },
  {
   "cell_type": "code",
   "execution_count": 21,
   "id": "49e2c1b9",
   "metadata": {},
   "outputs": [
    {
     "data": {
      "text/plain": [
       "-1.959963984540054"
      ]
     },
     "execution_count": 21,
     "metadata": {},
     "output_type": "execute_result"
    }
   ],
   "source": [
    "rv.isf(0.975)"
   ]
  },
  {
   "cell_type": "code",
   "execution_count": 41,
   "id": "ec7cf224",
   "metadata": {},
   "outputs": [
    {
     "data": {
      "image/png": "[encoded data removed]",
      "text/plain": [
       "<Figure size 432x288 with 1 Axes>"
      ]
     },
     "metadata": {
      "needs_background": "light"
     },
     "output_type": "display_data"
    }
   ],
   "source": [
    "#모분산을 아는경우 95% 신뢰구간: 정규분포를 이용\n",
    "\n",
    "rv = stats.norm()\n",
    "n_samples = 20\n",
    "n=20\n",
    "\n",
    "plt.vlines(p_mean, 0, 21)\n",
    "for i in range(n_samples):\n",
    "    sample_=samples[i]\n",
    "    s_mean = np.mean(sample_)\n",
    "    lcl = s_mean - rv.isf(0.025)*np.sqrt(p_var/20)\n",
    "    ucl = s_mean + rv.isf(0.025)*np.sqrt(p_var/20)\n",
    "    #ucl = s_mean - rv.isf(0.975)*np.sqrt(n_var/20) 위 아래가 같음.\n",
    "    if lcl <= p_mean <= ucl:\n",
    "        plt.scatter(s_mean, n_samples-i, color='gray')\n",
    "        plt.hlines(n_samples-i,lcl,ucl,color='gray')\n",
    "    else:\n",
    "        plt.scatter(s_mean, n_samples-i, color='b')\n",
    "        plt.hlines(n_samples-i,lcl,ucl,color='b')\n",
    "\n",
    "plt.xticks([p_mean])\n",
    "plt.xlabel('population mean')\n",
    "plt.show()\n",
    "    "
   ]
  },
  {
   "cell_type": "code",
   "execution_count": 31,
   "id": "03d390bb",
   "metadata": {},
   "outputs": [
    {
     "data": {
      "text/plain": [
       "(70.2722831061354, 74.82771689386459)"
      ]
     },
     "execution_count": 31,
     "metadata": {},
     "output_type": "execute_result"
    }
   ],
   "source": [
    "#모분산을 모르는 경우 신뢰구간\n",
    "n=20\n",
    "alpha=0.25\n",
    "sample_=samples[0]\n",
    "s_mean=np.mean(sample_)\n",
    "s_var=np.var(sample_)\n",
    "rv=stats.t(df=n-1)\n",
    "lcl=s_mean - rv.isf(alpha)*np.sqrt(s_var/n)\n",
    "ucl=s_mean + rv.isf(alpha)*np.sqrt(s_var/n)\n",
    "lcl,ucl"
   ]
  },
  {
   "cell_type": "code",
   "execution_count": 39,
   "id": "2eeeeba8",
   "metadata": {},
   "outputs": [
    {
     "data": {
      "image/png": "[encoded data removed]",
      "text/plain": [
       "<Figure size 432x288 with 1 Axes>"
      ]
     },
     "metadata": {
      "needs_background": "light"
     },
     "output_type": "display_data"
    }
   ],
   "source": [
    "n_samples = 20\n",
    "n=20\n",
    "rv=stats.t(df=n-1)\n",
    "alpha=0.25\n",
    "\n",
    "plt.vlines(p_mean, 0, 21)\n",
    "for i in range(n_samples):\n",
    "    sample_=samples[i]\n",
    "    s_mean = np.mean(sample_)\n",
    "    lcl = s_mean - rv.isf(alpha)*np.sqrt(s_var/n)\n",
    "    ucl = s_mean + rv.isf(alpha)*np.sqrt(s_var/n)\n",
    "    #ucl = s_mean - rv.isf(0.975)*np.sqrt(n_var/20) 위 아래가 같음.\n",
    "    if lcl <= p_mean <= ucl:\n",
    "        plt.scatter(s_mean, n_samples-i, color='gray')\n",
    "        plt.hlines(n_samples-i,lcl,ucl,color='gray')\n",
    "    else:\n",
    "        plt.scatter(s_mean, n_samples-i, color='b')\n",
    "        plt.hlines(n_samples-i,lcl,ucl,color='b')\n",
    "\n",
    "plt.xticks([p_mean])\n",
    "plt.xlabel('population mean')\n",
    "plt.show()\n",
    "    "
   ]
  },
  {
   "cell_type": "code",
   "execution_count": 33,
   "id": "353449ce",
   "metadata": {},
   "outputs": [
    {
     "data": {
      "image/png": "[encoded data removed]",
      "text/plain": [
       "<Figure size 432x288 with 1 Axes>"
      ]
     },
     "metadata": {
      "needs_background": "light"
     },
     "output_type": "display_data"
    }
   ],
   "source": [
    "n_samples = 20\n",
    "n = 20\n",
    "rv = stats.t(df = n-1)\n",
    "alpha = 0.025\n",
    "plt.vlines(p_mean, 0, 21)\n",
    "for i in range(n_samples):\n",
    "    sample_ = samples[i]\n",
    "    s_mean = np.mean(sample_)\n",
    "    lcl = s_mean - rv.isf(alpha) * np.sqrt(s_var / n)\n",
    "    ucl = s_mean + rv.isf(alpha) * np.sqrt(s_var / n)\n",
    "#     ucl = s_mean - rv.isf(0.975) * np.sqrt(n_var / 20)\n",
    "    if lcl <= p_mean <= ucl:\n",
    "        plt.scatter(s_mean, n_samples-i, color = 'gray')\n",
    "        plt.hlines(n_samples - i, lcl, ucl, color = 'gray')\n",
    "    else:\n",
    "        plt.scatter(s_mean, n_samples-i, color = 'b')\n",
    "        plt.hlines(n_samples - i, lcl, ucl, color = 'b')\n",
    "\n",
    "plt.xticks([p_mean])\n",
    "plt.xlabel('population mean')\n",
    "plt.show()\n"
   ]
  },
  {
   "cell_type": "code",
   "execution_count": null,
   "id": "7a969ff4",
   "metadata": {},
   "outputs": [],
   "source": [
    "**문제2.**\n",
    "만 7세 어린이 중 부모의 동의를 얻은 학생 중 10명을 표본으로 추출.\n",
    "머리 둘레를 측정한 결과를 기준으로 모평균에 대한 95% 신뢰구간을 추정하시오."
   ]
  },
  {
   "cell_type": "code",
   "execution_count": 44,
   "id": "916a82e5",
   "metadata": {},
   "outputs": [
    {
     "name": "stdout",
     "output_type": "stream",
     "text": [
      "9\n"
     ]
    },
    {
     "data": {
      "text/plain": [
       "(506.07690144924425, 529.8115429952)"
      ]
     },
     "execution_count": 44,
     "metadata": {},
     "output_type": "execute_result"
    }
   ],
   "source": [
    "#표본 데이터\n",
    "data=[520.498,481,512,515,542,520,518,527,526]\n",
    "s_mean=np.mean(data)\n",
    "s_var=np.var(data)\n",
    "n=len(data)\n",
    "print(n)\n",
    "rv=stats.t(df=n-1)\n",
    "alpha=0.025\n",
    "lcl = s_mean - rv.isf(alpha)* np.sqrt(s_var/n)\n",
    "ucl = s_mean + rv.isf(alpha)* np.sqrt(s_var/n)\n",
    "lcl, ucl"
   ]
  },
  {
   "cell_type": "code",
   "execution_count": 45,
   "id": "85f01000",
   "metadata": {},
   "outputs": [
    {
     "data": {
      "text/plain": [
       "(507.85771762552326, 528.030726818921)"
      ]
     },
     "execution_count": 45,
     "metadata": {},
     "output_type": "execute_result"
    }
   ],
   "source": [
    "#정규분포를 이용한 경우 \n",
    "\n",
    "rv=stats.norm()\n",
    "alpha=0.025\n",
    "lcl = s_mean - rv.isf(alpha)* np.sqrt(s_var/n)\n",
    "ucl = s_mean + rv.isf(alpha)* np.sqrt(s_var/n)\n",
    "lcl, ucl"
   ]
  },
  {
   "cell_type": "code",
   "execution_count": 62,
   "id": "082fb850",
   "metadata": {},
   "outputs": [
    {
     "data": {
      "text/plain": [
       "array([122.02, 131.73, 130.6 , 131.82, 132.05, 126.12, 124.43, 132.89,\n",
       "       122.79, 129.95, 126.14, 134.45, 127.64, 125.68])"
      ]
     },
     "execution_count": 62,
     "metadata": {},
     "output_type": "execute_result"
    }
   ],
   "source": [
    "#감자 무게 측정데이터\n",
    "\n",
    "df=pd.read_csv('./data/ch11_potato.csv')\n",
    "sample=np.array(df['무게'])\n",
    "sample"
   ]
  },
  {
   "cell_type": "code",
   "execution_count": 63,
   "id": "19145596",
   "metadata": {},
   "outputs": [
    {
     "data": {
      "text/plain": [
       "128.4507142857143"
      ]
     },
     "execution_count": 63,
     "metadata": {},
     "output_type": "execute_result"
    }
   ],
   "source": [
    "# 표본 평균 확인\n",
    "s_mean=np.mean(sample)\n",
    "s_mean"
   ]
  },
  {
   "cell_type": "code",
   "execution_count": 64,
   "id": "e57b1f48",
   "metadata": {},
   "outputs": [
    {
     "data": {
      "text/plain": [
       "14.735449489795883"
      ]
     },
     "execution_count": 64,
     "metadata": {},
     "output_type": "execute_result"
    }
   ],
   "source": [
    "#표본 분산 확인\n",
    "s_var = np.var(sample)\n",
    "s_var"
   ]
  },
  {
   "cell_type": "code",
   "execution_count": 65,
   "id": "cbd51823",
   "metadata": {},
   "outputs": [
    {
     "data": {
      "text/plain": [
       "128.68118313069039"
      ]
     },
     "execution_count": 65,
     "metadata": {},
     "output_type": "execute_result"
    }
   ],
   "source": [
    "# 모분산=9\n",
    "rv=stats.norm(130,np.sqrt(9/14))\n",
    "rv.isf(0.95)"
   ]
  },
  {
   "cell_type": "code",
   "execution_count": 66,
   "id": "ae981b95",
   "metadata": {},
   "outputs": [
    {
     "data": {
      "text/plain": [
       "-1.932298779026813"
      ]
     },
     "execution_count": 66,
     "metadata": {},
     "output_type": "execute_result"
    }
   ],
   "source": [
    "#검정 통계량 Z\n",
    "Z=(s_mean-130)/np.sqrt(9/14)\n",
    "Z"
   ]
  },
  {
   "cell_type": "code",
   "execution_count": 67,
   "id": "860f2e27",
   "metadata": {},
   "outputs": [
    {
     "data": {
      "text/plain": [
       "(-1.959963984540054, 1.959963984540054)"
      ]
     },
     "execution_count": 67,
     "metadata": {},
     "output_type": "execute_result"
    }
   ],
   "source": [
    "#양측검정, 임계값: 표준 정규분포의 95% 구간에 따라 구할 수 있음\n",
    "rv=stats.norm()\n",
    "rv.interval(0.95)"
   ]
  },
  {
   "cell_type": "code",
   "execution_count": 68,
   "id": "8e95ab25",
   "metadata": {},
   "outputs": [
    {
     "ename": "TypeError",
     "evalue": "cdf() missing 1 required positional argument: 'x'",
     "output_type": "error",
     "traceback": [
      "\u001b[1;31m---------------------------------------------------------------------------\u001b[0m",
      "\u001b[1;31mTypeError\u001b[0m                                 Traceback (most recent call last)",
      "\u001b[1;32m~\\AppData\\Local\\Temp/ipykernel_85380/2969389942.py\u001b[0m in \u001b[0;36m<module>\u001b[1;34m\u001b[0m\n\u001b[0;32m      1\u001b[0m \u001b[1;31m# 양측검정의 p값\u001b[0m\u001b[1;33m\u001b[0m\u001b[1;33m\u001b[0m\u001b[0m\n\u001b[1;32m----> 2\u001b[1;33m \u001b[0mrv\u001b[0m\u001b[1;33m.\u001b[0m\u001b[0mcdf\u001b[0m\u001b[1;33m(\u001b[0m\u001b[1;33m)\u001b[0m\u001b[1;33m\u001b[0m\u001b[1;33m\u001b[0m\u001b[0m\n\u001b[0m",
      "\u001b[1;31mTypeError\u001b[0m: cdf() missing 1 required positional argument: 'x'"
     ]
    }
   ],
   "source": [
    "# 양측검정의 p값\n",
    "rv.cdf()"
   ]
  },
  {
   "cell_type": "code",
   "execution_count": 69,
   "id": "6ffd773c",
   "metadata": {},
   "outputs": [],
   "source": [
    "#모분산을 아는 경우 모평균에 대한 양측검정을 위한 함수 \n",
    "#정규분포를 기반\n",
    "\n",
    "def pmean_test(sample, mean0, p_var, alpha=0.05):\n",
    "    s_mean = np.mean(sample)\n",
    "    n = len(sample)\n",
    "    rv = stats.norm()\n",
    "    interval = rv.interval(1-alpha)\n",
    "\n",
    "    z = (s_mean - mean0) / np.sqrt(p_var/n)\n",
    "    if interval[0] <= z <= interval[1]:\n",
    "        print('귀무가설을 채택')\n",
    "    else:\n",
    "        print('귀무가설을 기각')\n",
    "\n",
    "    if z < 0:\n",
    "        p = rv.cdf(z) * 2\n",
    "    else:\n",
    "        p = (1 - rv.cdf(z)) * 2\n",
    "    print(f'p값은 {p:.3f}')\n"
   ]
  },
  {
   "cell_type": "code",
   "execution_count": 72,
   "id": "a6372ac7",
   "metadata": {},
   "outputs": [
    {
     "name": "stdout",
     "output_type": "stream",
     "text": [
      "귀무가설을 채택\n",
      "p값은 0.169\n"
     ]
    }
   ],
   "source": [
    "pmean_test(sample,130)"
   ]
  },
  {
   "cell_type": "code",
   "execution_count": 71,
   "id": "7a9ad480",
   "metadata": {},
   "outputs": [],
   "source": [
    "#양측검정\n",
    "\n",
    "def pmean_test(sample, mean0, alpha=0.05):\n",
    "    s_mean = np.mean(sample)\n",
    "    u_var = np.var(sample, ddof=1)\n",
    "    n = len(sample)\n",
    "    rv = stats.t(df=n-1)\n",
    "    interval = rv.interval(1-alpha) #임계값 계산\n",
    "\n",
    "    t = (s_mean - mean0) / np.sqrt(u_var/n)\n",
    "    if interval[0] <= t <= interval[1]:\n",
    "        print('귀무가설을 채택')\n",
    "    else:\n",
    "        print('귀무가설을 기각')\n",
    "\n",
    "    if t < 0:\n",
    "        p = rv.cdf(t) * 2\n",
    "    else:\n",
    "        p = (1 - rv.cdf(t)) * 2\n",
    "    print(f'p값은 {p:.3f}')\n"
   ]
  },
  {
   "cell_type": "code",
   "execution_count": 73,
   "id": "4a991ba5",
   "metadata": {},
   "outputs": [
    {
     "data": {
      "text/plain": [
       "(-1.4551960206404198, 0.16933464230414275)"
      ]
     },
     "execution_count": 73,
     "metadata": {},
     "output_type": "execute_result"
    }
   ],
   "source": [
    "t,p=stats.ttest_1samp(sample,130)\n",
    "t,p #통계량, p-value"
   ]
  },
  {
   "cell_type": "code",
   "execution_count": 95,
   "id": "e34e4697",
   "metadata": {},
   "outputs": [
    {
     "ename": "SyntaxError",
     "evalue": "invalid character '“' (U+201C) (Temp/ipykernel_85380/3869021607.py, line 1)",
     "output_type": "error",
     "traceback": [
      "\u001b[1;36m  File \u001b[1;32m\"C:\\Users\\낙원이\\AppData\\Local\\Temp/ipykernel_85380/3869021607.py\"\u001b[1;36m, line \u001b[1;32m1\u001b[0m\n\u001b[1;33m    “%d” % (500, 600)\u001b[0m\n\u001b[1;37m    ^\u001b[0m\n\u001b[1;31mSyntaxError\u001b[0m\u001b[1;31m:\u001b[0m invalid character '“' (U+201C)\n"
     ]
    }
   ],
   "source": [
    "“%d” % (500, 600)"
   ]
  },
  {
   "cell_type": "code",
   "execution_count": 96,
   "id": "f9f90294",
   "metadata": {},
   "outputs": [
    {
     "ename": "SyntaxError",
     "evalue": "invalid character '“' (U+201C) (Temp/ipykernel_85380/3081827166.py, line 1)",
     "output_type": "error",
     "traceback": [
      "\u001b[1;36m  File \u001b[1;32m\"C:\\Users\\낙원이\\AppData\\Local\\Temp/ipykernel_85380/3081827166.py\"\u001b[1;36m, line \u001b[1;32m1\u001b[0m\n\u001b[1;33m    print(“%d” % (500 + 500))\u001b[0m\n\u001b[1;37m          ^\u001b[0m\n\u001b[1;31mSyntaxError\u001b[0m\u001b[1;31m:\u001b[0m invalid character '“' (U+201C)\n"
     ]
    }
   ],
   "source": [
    "print(“%d” % (500 + 500))"
   ]
  },
  {
   "cell_type": "code",
   "execution_count": 99,
   "id": "c1887cfa",
   "metadata": {},
   "outputs": [
    {
     "name": "stdout",
     "output_type": "stream",
     "text": [
      "500 + 500\n"
     ]
    }
   ],
   "source": [
    "print(\"500 + 500\")"
   ]
  },
  {
   "cell_type": "code",
   "execution_count": 101,
   "id": "05f3e53d",
   "metadata": {},
   "outputs": [
    {
     "name": "stdout",
     "output_type": "stream",
     "text": [
      "1000\n"
     ]
    }
   ],
   "source": [
    "print(\"%d\" % (500 + 500))"
   ]
  },
  {
   "cell_type": "code",
   "execution_count": 105,
   "id": "5997b734",
   "metadata": {},
   "outputs": [
    {
     "ename": "TypeError",
     "evalue": "not all arguments converted during string formatting",
     "output_type": "error",
     "traceback": [
      "\u001b[1;31m---------------------------------------------------------------------------\u001b[0m",
      "\u001b[1;31mTypeError\u001b[0m                                 Traceback (most recent call last)",
      "\u001b[1;32m~\\AppData\\Local\\Temp/ipykernel_85380/2024070897.py\u001b[0m in \u001b[0;36m<module>\u001b[1;34m\u001b[0m\n\u001b[1;32m----> 1\u001b[1;33m \u001b[0mprint\u001b[0m\u001b[1;33m(\u001b[0m\u001b[1;34m\"%d\"\u001b[0m \u001b[1;33m%\u001b[0m \u001b[1;33m(\u001b[0m\u001b[1;36m500\u001b[0m\u001b[1;33m,\u001b[0m \u001b[1;36m600\u001b[0m\u001b[1;33m)\u001b[0m\u001b[1;33m)\u001b[0m\u001b[1;33m\u001b[0m\u001b[1;33m\u001b[0m\u001b[0m\n\u001b[0m",
      "\u001b[1;31mTypeError\u001b[0m: not all arguments converted during string formatting"
     ]
    }
   ],
   "source": [
    "print(\"%d\" % (500, 600))"
   ]
  },
  {
   "cell_type": "code",
   "execution_count": 107,
   "id": "6ae36999",
   "metadata": {},
   "outputs": [
    {
     "name": "stdout",
     "output_type": "stream",
     "text": [
      "700 30\n"
     ]
    }
   ],
   "source": [
    "a=30\n",
    "print(\"%d %d\" % (700, a))"
   ]
  },
  {
   "cell_type": "code",
   "execution_count": 108,
   "id": "19f339ee",
   "metadata": {},
   "outputs": [
    {
     "ename": "NameError",
     "evalue": "name 'b' is not defined",
     "output_type": "error",
     "traceback": [
      "\u001b[1;31m---------------------------------------------------------------------------\u001b[0m",
      "\u001b[1;31mNameError\u001b[0m                                 Traceback (most recent call last)",
      "\u001b[1;32m~\\AppData\\Local\\Temp/ipykernel_85380/905401003.py\u001b[0m in \u001b[0;36m<module>\u001b[1;34m\u001b[0m\n\u001b[1;32m----> 1\u001b[1;33m \u001b[0ma\u001b[0m\u001b[1;33m=\u001b[0m\u001b[0mb\u001b[0m\u001b[1;33m\u001b[0m\u001b[1;33m\u001b[0m\u001b[0m\n\u001b[0m",
      "\u001b[1;31mNameError\u001b[0m: name 'b' is not defined"
     ]
    }
   ],
   "source": [
    "a=b"
   ]
  },
  {
   "cell_type": "code",
   "execution_count": 114,
   "id": "2ffbf91d",
   "metadata": {},
   "outputs": [
    {
     "ename": "SyntaxError",
     "evalue": "EOL while scanning string literal (Temp/ipykernel_85380/3655150630.py, line 1)",
     "output_type": "error",
     "traceback": [
      "\u001b[1;36m  File \u001b[1;32m\"C:\\Users\\낙원이\\AppData\\Local\\Temp/ipykernel_85380/3655150630.py\"\u001b[1;36m, line \u001b[1;32m1\u001b[0m\n\u001b[1;33m    inStr,outStr='python',\"\u001b[0m\n\u001b[1;37m                           ^\u001b[0m\n\u001b[1;31mSyntaxError\u001b[0m\u001b[1;31m:\u001b[0m EOL while scanning string literal\n"
     ]
    }
   ],
   "source": [
    "inStr,outStr='python',\"\n",
    "strLen=len(inStr)\n",
    "for i in range(0,strLen)\n",
    "    outStr += inStr[strLen-i]\n",
    "print('내용을 거꾸로 출력: %s'%outStr)"
   ]
  },
  {
   "cell_type": "code",
   "execution_count": 115,
   "id": "bbae31f5",
   "metadata": {},
   "outputs": [],
   "source": [
    "import os"
   ]
  },
  {
   "cell_type": "code",
   "execution_count": 116,
   "id": "5468ab2c",
   "metadata": {},
   "outputs": [
    {
     "ename": "SyntaxError",
     "evalue": "invalid syntax (Temp/ipykernel_85380/3241216970.py, line 1)",
     "output_type": "error",
     "traceback": [
      "\u001b[1;36m  File \u001b[1;32m\"C:\\Users\\낙원이\\AppData\\Local\\Temp/ipykernel_85380/3241216970.py\"\u001b[1;36m, line \u001b[1;32m1\u001b[0m\n\u001b[1;33m    import os as *\u001b[0m\n\u001b[1;37m                 ^\u001b[0m\n\u001b[1;31mSyntaxError\u001b[0m\u001b[1;31m:\u001b[0m invalid syntax\n"
     ]
    }
   ],
   "source": [
    "import os as *"
   ]
  },
  {
   "cell_type": "code",
   "execution_count": 117,
   "id": "9ceb1ea1",
   "metadata": {},
   "outputs": [],
   "source": [
    "from os import listdir"
   ]
  },
  {
   "cell_type": "code",
   "execution_count": 118,
   "id": "f341f5d2",
   "metadata": {},
   "outputs": [],
   "source": [
    "from os import *"
   ]
  },
  {
   "cell_type": "code",
   "execution_count": 131,
   "id": "2e17c765",
   "metadata": {},
   "outputs": [
    {
     "data": {
      "text/plain": [
       "False"
      ]
     },
     "execution_count": 131,
     "metadata": {},
     "output_type": "execute_result"
    }
   ],
   "source": [
    "bool('b' == -1.23)"
   ]
  },
  {
   "cell_type": "code",
   "execution_count": 132,
   "id": "2ae98b31",
   "metadata": {},
   "outputs": [
    {
     "name": "stdout",
     "output_type": "stream",
     "text": [
      "(20, 2)\n"
     ]
    },
    {
     "data": {
      "text/html": [
       "<div>\n",
       "<style scoped>\n",
       "    .dataframe tbody tr th:only-of-type {\n",
       "        vertical-align: middle;\n",
       "    }\n",
       "\n",
       "    .dataframe tbody tr th {\n",
       "        vertical-align: top;\n",
       "    }\n",
       "\n",
       "    .dataframe thead th {\n",
       "        text-align: right;\n",
       "    }\n",
       "</style>\n",
       "<table border=\"1\" class=\"dataframe\">\n",
       "  <thead>\n",
       "    <tr style=\"text-align: right;\">\n",
       "      <th></th>\n",
       "      <th>전</th>\n",
       "      <th>후</th>\n",
       "    </tr>\n",
       "  </thead>\n",
       "  <tbody>\n",
       "    <tr>\n",
       "      <th>0</th>\n",
       "      <td>59</td>\n",
       "      <td>41</td>\n",
       "    </tr>\n",
       "    <tr>\n",
       "      <th>1</th>\n",
       "      <td>52</td>\n",
       "      <td>63</td>\n",
       "    </tr>\n",
       "    <tr>\n",
       "      <th>2</th>\n",
       "      <td>55</td>\n",
       "      <td>68</td>\n",
       "    </tr>\n",
       "    <tr>\n",
       "      <th>3</th>\n",
       "      <td>61</td>\n",
       "      <td>59</td>\n",
       "    </tr>\n",
       "    <tr>\n",
       "      <th>4</th>\n",
       "      <td>59</td>\n",
       "      <td>84</td>\n",
       "    </tr>\n",
       "  </tbody>\n",
       "</table>\n",
       "</div>"
      ],
      "text/plain": [
       "    전   후\n",
       "0  59  41\n",
       "1  52  63\n",
       "2  55  68\n",
       "3  61  59\n",
       "4  59  84"
      ]
     },
     "execution_count": 132,
     "metadata": {},
     "output_type": "execute_result"
    }
   ],
   "source": [
    "#대응표본 샘플데이터\n",
    "data=pd.read_csv('./data/ch11_training_rel.csv')\n",
    "print(data.shape)\n",
    "data.head()"
   ]
  },
  {
   "cell_type": "code",
   "execution_count": 133,
   "id": "a1ceab72",
   "metadata": {},
   "outputs": [
    {
     "data": {
      "text/html": [
       "<div>\n",
       "<style scoped>\n",
       "    .dataframe tbody tr th:only-of-type {\n",
       "        vertical-align: middle;\n",
       "    }\n",
       "\n",
       "    .dataframe tbody tr th {\n",
       "        vertical-align: top;\n",
       "    }\n",
       "\n",
       "    .dataframe thead th {\n",
       "        text-align: right;\n",
       "    }\n",
       "</style>\n",
       "<table border=\"1\" class=\"dataframe\">\n",
       "  <thead>\n",
       "    <tr style=\"text-align: right;\">\n",
       "      <th></th>\n",
       "      <th>전</th>\n",
       "      <th>후</th>\n",
       "    </tr>\n",
       "  </thead>\n",
       "  <tbody>\n",
       "    <tr>\n",
       "      <th>count</th>\n",
       "      <td>20.000000</td>\n",
       "      <td>20.000000</td>\n",
       "    </tr>\n",
       "    <tr>\n",
       "      <th>mean</th>\n",
       "      <td>52.850000</td>\n",
       "      <td>58.250000</td>\n",
       "    </tr>\n",
       "    <tr>\n",
       "      <th>std</th>\n",
       "      <td>4.295346</td>\n",
       "      <td>11.964311</td>\n",
       "    </tr>\n",
       "    <tr>\n",
       "      <th>min</th>\n",
       "      <td>45.000000</td>\n",
       "      <td>37.000000</td>\n",
       "    </tr>\n",
       "    <tr>\n",
       "      <th>25%</th>\n",
       "      <td>50.500000</td>\n",
       "      <td>51.750000</td>\n",
       "    </tr>\n",
       "    <tr>\n",
       "      <th>50%</th>\n",
       "      <td>52.000000</td>\n",
       "      <td>58.500000</td>\n",
       "    </tr>\n",
       "    <tr>\n",
       "      <th>75%</th>\n",
       "      <td>55.500000</td>\n",
       "      <td>65.750000</td>\n",
       "    </tr>\n",
       "    <tr>\n",
       "      <th>max</th>\n",
       "      <td>61.000000</td>\n",
       "      <td>84.000000</td>\n",
       "    </tr>\n",
       "  </tbody>\n",
       "</table>\n",
       "</div>"
      ],
      "text/plain": [
       "               전          후\n",
       "count  20.000000  20.000000\n",
       "mean   52.850000  58.250000\n",
       "std     4.295346  11.964311\n",
       "min    45.000000  37.000000\n",
       "25%    50.500000  51.750000\n",
       "50%    52.000000  58.500000\n",
       "75%    55.500000  65.750000\n",
       "max    61.000000  84.000000"
      ]
     },
     "execution_count": 133,
     "metadata": {},
     "output_type": "execute_result"
    }
   ],
   "source": [
    "# 기술통계\n",
    "data.describe()"
   ]
  },
  {
   "cell_type": "code",
   "execution_count": 135,
   "id": "e13ee024",
   "metadata": {},
   "outputs": [
    {
     "data": {
      "image/png": "[encoded data removed]",
      "text/plain": [
       "<Figure size 432x288 with 1 Axes>"
      ]
     },
     "metadata": {
      "needs_background": "light"
     },
     "output_type": "display_data"
    }
   ],
   "source": [
    "#데이터의 시각화: 상자그림표\n",
    "import matplotlib.pyplot as plt\n",
    "plt.boxplot(data)\n",
    "plt.show()"
   ]
  },
  {
   "cell_type": "code",
   "execution_count": 136,
   "id": "064f18bf",
   "metadata": {},
   "outputs": [
    {
     "data": {
      "text/plain": [
       "ShapiroResult(statistic=0.9670043587684631, pvalue=0.6907904148101807)"
      ]
     },
     "execution_count": 136,
     "metadata": {},
     "output_type": "execute_result"
    }
   ],
   "source": [
    "#정규성 검정\n",
    "stats.shapiro(data.전)"
   ]
  },
  {
   "cell_type": "code",
   "execution_count": 137,
   "id": "c0ddcb05",
   "metadata": {},
   "outputs": [
    {
     "data": {
      "text/plain": [
       "ShapiroResult(statistic=0.9786623120307922, pvalue=0.9156785011291504)"
      ]
     },
     "execution_count": 137,
     "metadata": {},
     "output_type": "execute_result"
    }
   ],
   "source": [
    "stats.shapiro(data.후)"
   ]
  },
  {
   "cell_type": "code",
   "execution_count": 138,
   "id": "0654d7db",
   "metadata": {},
   "outputs": [
    {
     "data": {
      "text/plain": [
       "0     18\n",
       "1    -11\n",
       "2    -13\n",
       "3      2\n",
       "4    -25\n",
       "5      8\n",
       "6     -5\n",
       "7     -3\n",
       "8    -19\n",
       "9    -18\n",
       "10    -6\n",
       "11    -8\n",
       "12     3\n",
       "13    13\n",
       "14    -2\n",
       "15    -6\n",
       "16   -16\n",
       "17   -16\n",
       "18    -2\n",
       "19    -2\n",
       "dtype: int64"
      ]
     },
     "execution_count": 138,
     "metadata": {},
     "output_type": "execute_result"
    }
   ],
   "source": [
    "diff=data.전-data.후\n",
    "diff"
   ]
  },
  {
   "cell_type": "code",
   "execution_count": 141,
   "id": "7cf30efd",
   "metadata": {},
   "outputs": [
    {
     "data": {
      "text/plain": [
       "ShapiroResult(statistic=0.9785391688346863, pvalue=0.9138697981834412)"
      ]
     },
     "execution_count": 141,
     "metadata": {},
     "output_type": "execute_result"
    }
   ],
   "source": [
    "stats.shapiro(diff)"
   ]
  },
  {
   "cell_type": "code",
   "execution_count": 142,
   "id": "fba4d9ff",
   "metadata": {},
   "outputs": [
    {
     "data": {
      "image/png": "[encoded data removed]",
      "text/plain": [
       "<Figure size 432x288 with 1 Axes>"
      ]
     },
     "metadata": {
      "needs_background": "light"
     },
     "output_type": "display_data"
    }
   ],
   "source": [
    "plt.boxplot(diff)\n",
    "plt.show()"
   ]
  },
  {
   "cell_type": "code",
   "execution_count": 140,
   "id": "b1515a28",
   "metadata": {},
   "outputs": [
    {
     "data": {
      "text/plain": [
       "Ttest_1sampResult(statistic=-2.204154108716127, pvalue=0.04004419061842953)"
      ]
     },
     "execution_count": 140,
     "metadata": {},
     "output_type": "execute_result"
    }
   ],
   "source": [
    "stats.ttest_1samp(data.전-data.후,0)"
   ]
  },
  {
   "cell_type": "code",
   "execution_count": 144,
   "id": "0976456e",
   "metadata": {},
   "outputs": [
    {
     "ename": "SyntaxError",
     "evalue": "invalid syntax (Temp/ipykernel_85380/1398283669.py, line 2)",
     "output_type": "error",
     "traceback": [
      "\u001b[1;36m  File \u001b[1;32m\"C:\\Users\\낙원이\\AppData\\Local\\Temp/ipykernel_85380/1398283669.py\"\u001b[1;36m, line \u001b[1;32m2\u001b[0m\n\u001b[1;33m    - 독립된 두 집단의 평균 비교\u001b[0m\n\u001b[1;37m          ^\u001b[0m\n\u001b[1;31mSyntaxError\u001b[0m\u001b[1;31m:\u001b[0m invalid syntax\n"
     ]
    }
   ],
   "source": [
    "#### 독립표본 t 검정\n",
    "- 독립된 두 집단의 평균 비교\n",
    "- 귀무가설: 두집단의 평균은 같다.\n",
    "- 대립가설: 두집단의 평균은 차이가 있다."
   ]
  },
  {
   "cell_type": "code",
   "execution_count": 145,
   "id": "4d8bcca6",
   "metadata": {},
   "outputs": [
    {
     "ename": "SyntaxError",
     "evalue": "invalid syntax (Temp/ipykernel_85380/3280254975.py, line 1)",
     "output_type": "error",
     "traceback": [
      "\u001b[1;36m  File \u001b[1;32m\"C:\\Users\\낙원이\\AppData\\Local\\Temp/ipykernel_85380/3280254975.py\"\u001b[1;36m, line \u001b[1;32m1\u001b[0m\n\u001b[1;33m    **예제 데이터**\u001b[0m\n\u001b[1;37m    ^\u001b[0m\n\u001b[1;31mSyntaxError\u001b[0m\u001b[1;31m:\u001b[0m invalid syntax\n"
     ]
    }
   ],
   "source": [
    "**예제 데이터**\n",
    "- 두 학급(A,B)에 근력운동을 수행하여 집중력 테스트\n",
    "- 귀무가설: 두 학급의 집중력 차이가 없다.\n",
    "- 대립가설: 두 학급의 집중력 차이가 있다.(양측검정)"
   ]
  },
  {
   "cell_type": "code",
   "execution_count": 147,
   "id": "8b8659d5",
   "metadata": {},
   "outputs": [
    {
     "data": {
      "text/plain": [
       "(20, 2)"
      ]
     },
     "execution_count": 147,
     "metadata": {},
     "output_type": "execute_result"
    }
   ],
   "source": [
    "data=pd.read_csv('./data/ch11_training_ind.csv')\n",
    "data.shape"
   ]
  },
  {
   "cell_type": "code",
   "execution_count": 148,
   "id": "a7fdf69a",
   "metadata": {},
   "outputs": [
    {
     "data": {
      "text/html": [
       "<div>\n",
       "<style scoped>\n",
       "    .dataframe tbody tr th:only-of-type {\n",
       "        vertical-align: middle;\n",
       "    }\n",
       "\n",
       "    .dataframe tbody tr th {\n",
       "        vertical-align: top;\n",
       "    }\n",
       "\n",
       "    .dataframe thead th {\n",
       "        text-align: right;\n",
       "    }\n",
       "</style>\n",
       "<table border=\"1\" class=\"dataframe\">\n",
       "  <thead>\n",
       "    <tr style=\"text-align: right;\">\n",
       "      <th></th>\n",
       "      <th>A</th>\n",
       "      <th>B</th>\n",
       "    </tr>\n",
       "  </thead>\n",
       "  <tbody>\n",
       "    <tr>\n",
       "      <th>0</th>\n",
       "      <td>47</td>\n",
       "      <td>49</td>\n",
       "    </tr>\n",
       "    <tr>\n",
       "      <th>1</th>\n",
       "      <td>50</td>\n",
       "      <td>52</td>\n",
       "    </tr>\n",
       "    <tr>\n",
       "      <th>2</th>\n",
       "      <td>37</td>\n",
       "      <td>54</td>\n",
       "    </tr>\n",
       "    <tr>\n",
       "      <th>3</th>\n",
       "      <td>60</td>\n",
       "      <td>48</td>\n",
       "    </tr>\n",
       "    <tr>\n",
       "      <th>4</th>\n",
       "      <td>39</td>\n",
       "      <td>51</td>\n",
       "    </tr>\n",
       "  </tbody>\n",
       "</table>\n",
       "</div>"
      ],
      "text/plain": [
       "    A   B\n",
       "0  47  49\n",
       "1  50  52\n",
       "2  37  54\n",
       "3  60  48\n",
       "4  39  51"
      ]
     },
     "execution_count": 148,
     "metadata": {},
     "output_type": "execute_result"
    }
   ],
   "source": [
    "data.head()"
   ]
  },
  {
   "cell_type": "code",
   "execution_count": 154,
   "id": "907db504",
   "metadata": {},
   "outputs": [
    {
     "data": {
      "image/png": "[encoded data removed]",
      "text/plain": [
       "<Figure size 432x288 with 1 Axes>"
      ]
     },
     "metadata": {
      "needs_background": "light"
     },
     "output_type": "display_data"
    }
   ],
   "source": [
    "plt.boxplot(data)\n",
    "plt.show()"
   ]
  },
  {
   "cell_type": "code",
   "execution_count": 153,
   "id": "0016268f",
   "metadata": {},
   "outputs": [],
   "source": [
    "#1. 정규성 검정"
   ]
  },
  {
   "cell_type": "code",
   "execution_count": 151,
   "id": "4a2ea536",
   "metadata": {},
   "outputs": [
    {
     "data": {
      "text/plain": [
       "ShapiroResult(statistic=0.9685941338539124, pvalue=0.7249506711959839)"
      ]
     },
     "execution_count": 151,
     "metadata": {},
     "output_type": "execute_result"
    }
   ],
   "source": [
    "#정규성 검정\n",
    "stats.shapiro(data.A)"
   ]
  },
  {
   "cell_type": "code",
   "execution_count": 150,
   "id": "0245bb54",
   "metadata": {},
   "outputs": [
    {
     "data": {
      "text/plain": [
       "ShapiroResult(statistic=0.9730017781257629, pvalue=0.8165717720985413)"
      ]
     },
     "execution_count": 150,
     "metadata": {},
     "output_type": "execute_result"
    }
   ],
   "source": [
    "stats.shapiro(data.B)"
   ]
  },
  {
   "cell_type": "code",
   "execution_count": null,
   "id": "d6e1f97a",
   "metadata": {},
   "outputs": [],
   "source": [
    "=> 두 학급의 데이터는 모두 정규성을 만족"
   ]
  },
  {
   "cell_type": "code",
   "execution_count": 159,
   "id": "15a66622",
   "metadata": {},
   "outputs": [
    {
     "ename": "SyntaxError",
     "evalue": "invalid syntax (Temp/ipykernel_85380/1239058502.py, line 1)",
     "output_type": "error",
     "traceback": [
      "\u001b[1;36m  File \u001b[1;32m\"C:\\Users\\낙원이\\AppData\\Local\\Temp/ipykernel_85380/1239058502.py\"\u001b[1;36m, line \u001b[1;32m1\u001b[0m\n\u001b[1;33m    ** 2.등분산성 검정 **\u001b[0m\n\u001b[1;37m    ^\u001b[0m\n\u001b[1;31mSyntaxError\u001b[0m\u001b[1;31m:\u001b[0m invalid syntax\n"
     ]
    }
   ],
   "source": [
    "** 2.등분산성 검정 **\n",
    "귀무가설: 두집단의 분산이 같다. "
   ]
  },
  {
   "cell_type": "code",
   "execution_count": 156,
   "id": "97eea736",
   "metadata": {},
   "outputs": [
    {
     "data": {
      "text/plain": [
       "LeveneResult(statistic=2.061573118077718, pvalue=0.15923550057222613)"
      ]
     },
     "execution_count": 156,
     "metadata": {},
     "output_type": "execute_result"
    }
   ],
   "source": [
    "stats.levene(data.A,data.B)"
   ]
  },
  {
   "cell_type": "code",
   "execution_count": null,
   "id": "49200618",
   "metadata": {},
   "outputs": [],
   "source": [
    "=> p값이 0.05보다 크므로 귀무가설을 기각하지 않음. 즉 두 집단의 분산은 같다.(등분산)"
   ]
  },
  {
   "cell_type": "code",
   "execution_count": null,
   "id": "5f3cb40b",
   "metadata": {},
   "outputs": [],
   "source": [
    "3. 독립표본 t-검정"
   ]
  },
  {
   "cell_type": "code",
   "execution_count": 162,
   "id": "4d6452df",
   "metadata": {},
   "outputs": [
    {
     "data": {
      "text/plain": [
       "Ttest_indResult(statistic=-1.7608157246524712, pvalue=0.08631600572195147)"
      ]
     },
     "execution_count": 162,
     "metadata": {},
     "output_type": "execute_result"
    }
   ],
   "source": [
    "#equal_var-False로 지정된 경우 웰치 방법 사용\n",
    "stats.ttest_ind(data.A, data.B, equal_var=True)\n",
    "#=> 귀무가설 채택: 두집단의 집중력 차이가 없다."
   ]
  },
  {
   "cell_type": "code",
   "execution_count": 160,
   "id": "81ec5ded",
   "metadata": {},
   "outputs": [
    {
     "data": {
      "text/plain": [
       "Ttest_indResult(statistic=-1.760815724652471, pvalue=0.08695731107259361)"
      ]
     },
     "execution_count": 160,
     "metadata": {},
     "output_type": "execute_result"
    }
   ],
   "source": [
    "stats.ttest_ind(data.A, data.B, equal_var=False)"
   ]
  },
  {
   "cell_type": "markdown",
   "id": "0f3ddb69",
   "metadata": {},
   "source": [
    "### 정규성을 만족하지 않는 경우\n",
    "1. 대응표본 t-test는 윌콕슨 부호순위검정을 적용\n",
    "    - stats.wilcoxon(전,후,)\n",
    "\n",
    "\n",
    "2. 독립표본 t-test는 맨휘트니 U검정 적용\n",
    "    - stats.mannwhitneyu(A,B,alternative='two-sided')"
   ]
  },
  {
   "cell_type": "markdown",
   "id": "e6521017",
   "metadata": {},
   "source": [
    "## 카이제곱 검정"
   ]
  },
  {
   "cell_type": "markdown",
   "id": "e3156c21",
   "metadata": {},
   "source": [
    "- 범주형 데이터에 대하여\n",
    "- 카이제곱 분포 근거\n",
    "\n",
    "1. 적합도 검정: 한 표본 데이터가 어떤 분포를 하는지 \n",
    "2. 동질성 검정: 두 범주형 데이터가 동일한 분포를 하는지?\n",
    "3. 독립성 검정: 두 범주형 데이터가 서로 관련성 있는지?(독립)"
   ]
  },
  {
   "cell_type": "code",
   "execution_count": null,
   "id": "7ca9389b",
   "metadata": {},
   "outputs": [],
   "source": [
    "** 독립성 검정 **\n"
   ]
  },
  {
   "cell_type": "code",
   "execution_count": 165,
   "id": "44816dd5",
   "metadata": {},
   "outputs": [],
   "source": [
    "import numpy as np\n",
    "import pandas as pd\n",
    "from scipy import stats\n",
    "\n",
    "%precision 3\n",
    "np.random.seed(1111)\n"
   ]
  },
  {
   "cell_type": "code",
   "execution_count": 166,
   "id": "d38d53f4",
   "metadata": {},
   "outputs": [
    {
     "data": {
      "text/plain": [
       "(1000, 2)"
      ]
     },
     "execution_count": 166,
     "metadata": {},
     "output_type": "execute_result"
    }
   ],
   "source": [
    "# 예제 데이터:\n",
    "data = pd.read_csv('./data/ch11_ad.csv')\n",
    "data.shape\n"
   ]
  },
  {
   "cell_type": "code",
   "execution_count": 167,
   "id": "6d38ea81",
   "metadata": {},
   "outputs": [
    {
     "data": {
      "text/html": [
       "<div>\n",
       "<style scoped>\n",
       "    .dataframe tbody tr th:only-of-type {\n",
       "        vertical-align: middle;\n",
       "    }\n",
       "\n",
       "    .dataframe tbody tr th {\n",
       "        vertical-align: top;\n",
       "    }\n",
       "\n",
       "    .dataframe thead th {\n",
       "        text-align: right;\n",
       "    }\n",
       "</style>\n",
       "<table border=\"1\" class=\"dataframe\">\n",
       "  <thead>\n",
       "    <tr style=\"text-align: right;\">\n",
       "      <th></th>\n",
       "      <th>광고</th>\n",
       "      <th>구입</th>\n",
       "    </tr>\n",
       "  </thead>\n",
       "  <tbody>\n",
       "    <tr>\n",
       "      <th>0</th>\n",
       "      <td>B</td>\n",
       "      <td>하지 않았다</td>\n",
       "    </tr>\n",
       "    <tr>\n",
       "      <th>1</th>\n",
       "      <td>B</td>\n",
       "      <td>하지 않았다</td>\n",
       "    </tr>\n",
       "    <tr>\n",
       "      <th>2</th>\n",
       "      <td>A</td>\n",
       "      <td>했다</td>\n",
       "    </tr>\n",
       "    <tr>\n",
       "      <th>3</th>\n",
       "      <td>A</td>\n",
       "      <td>했다</td>\n",
       "    </tr>\n",
       "    <tr>\n",
       "      <th>4</th>\n",
       "      <td>B</td>\n",
       "      <td>하지 않았다</td>\n",
       "    </tr>\n",
       "  </tbody>\n",
       "</table>\n",
       "</div>"
      ],
      "text/plain": [
       "  광고      구입\n",
       "0  B  하지 않았다\n",
       "1  B  하지 않았다\n",
       "2  A      했다\n",
       "3  A      했다\n",
       "4  B  하지 않았다"
      ]
     },
     "execution_count": 167,
     "metadata": {},
     "output_type": "execute_result"
    }
   ],
   "source": [
    "data.head()"
   ]
  },
  {
   "cell_type": "code",
   "execution_count": 168,
   "id": "0e8e718a",
   "metadata": {},
   "outputs": [
    {
     "data": {
      "text/html": [
       "<div>\n",
       "<style scoped>\n",
       "    .dataframe tbody tr th:only-of-type {\n",
       "        vertical-align: middle;\n",
       "    }\n",
       "\n",
       "    .dataframe tbody tr th {\n",
       "        vertical-align: top;\n",
       "    }\n",
       "\n",
       "    .dataframe thead th {\n",
       "        text-align: right;\n",
       "    }\n",
       "</style>\n",
       "<table border=\"1\" class=\"dataframe\">\n",
       "  <thead>\n",
       "    <tr style=\"text-align: right;\">\n",
       "      <th>구입</th>\n",
       "      <th>하지 않았다</th>\n",
       "      <th>했다</th>\n",
       "    </tr>\n",
       "    <tr>\n",
       "      <th>광고</th>\n",
       "      <th></th>\n",
       "      <th></th>\n",
       "    </tr>\n",
       "  </thead>\n",
       "  <tbody>\n",
       "    <tr>\n",
       "      <th>A</th>\n",
       "      <td>351</td>\n",
       "      <td>49</td>\n",
       "    </tr>\n",
       "    <tr>\n",
       "      <th>B</th>\n",
       "      <td>549</td>\n",
       "      <td>51</td>\n",
       "    </tr>\n",
       "  </tbody>\n",
       "</table>\n",
       "</div>"
      ],
      "text/plain": [
       "구입  하지 않았다  했다\n",
       "광고            \n",
       "A      351  49\n",
       "B      549  51"
      ]
     },
     "execution_count": 168,
     "metadata": {},
     "output_type": "execute_result"
    }
   ],
   "source": [
    "# 교차표 생성\n",
    "cross=pd.crosstab(data.광고, data.구입)\n",
    "cross"
   ]
  },
  {
   "cell_type": "code",
   "execution_count": 171,
   "id": "bd8ebef4",
   "metadata": {},
   "outputs": [],
   "source": [
    "# 카이제곱 독립성 검정\n",
    "stat,p,df,exp_tab=stats.chi2_contingency(cross, correction=False)"
   ]
  },
  {
   "cell_type": "code",
   "execution_count": 172,
   "id": "7d3535ff",
   "metadata": {},
   "outputs": [
    {
     "data": {
      "text/plain": [
       "3.75"
      ]
     },
     "execution_count": 172,
     "metadata": {},
     "output_type": "execute_result"
    }
   ],
   "source": [
    "stat"
   ]
  },
  {
   "cell_type": "code",
   "execution_count": 173,
   "id": "839811f2",
   "metadata": {},
   "outputs": [
    {
     "data": {
      "text/plain": [
       "0.052807511416113395"
      ]
     },
     "execution_count": 173,
     "metadata": {},
     "output_type": "execute_result"
    }
   ],
   "source": [
    "p"
   ]
  },
  {
   "cell_type": "code",
   "execution_count": 174,
   "id": "84830012",
   "metadata": {},
   "outputs": [
    {
     "data": {
      "text/plain": [
       "1"
      ]
     },
     "execution_count": 174,
     "metadata": {},
     "output_type": "execute_result"
    }
   ],
   "source": [
    "df"
   ]
  },
  {
   "cell_type": "code",
   "execution_count": 175,
   "id": "a61ee7b9",
   "metadata": {},
   "outputs": [
    {
     "data": {
      "text/plain": [
       "array([[360.,  40.],\n",
       "       [540.,  60.]])"
      ]
     },
     "execution_count": 175,
     "metadata": {},
     "output_type": "execute_result"
    }
   ],
   "source": [
    "exp_tab"
   ]
  },
  {
   "cell_type": "code",
   "execution_count": null,
   "id": "f1a74e24",
   "metadata": {},
   "outputs": [],
   "source": []
  },
  {
   "cell_type": "code",
   "execution_count": null,
   "id": "f43065a2",
   "metadata": {},
   "outputs": [],
   "source": []
  },
  {
   "cell_type": "code",
   "execution_count": null,
   "id": "175bb27a",
   "metadata": {},
   "outputs": [],
   "source": []
  },
  {
   "cell_type": "code",
   "execution_count": null,
   "id": "da93f28c",
   "metadata": {},
   "outputs": [],
   "source": []
  },
  {
   "cell_type": "code",
   "execution_count": null,
   "id": "a442b197",
   "metadata": {},
   "outputs": [],
   "source": []
  },
  {
   "cell_type": "code",
   "execution_count": null,
   "id": "9873e23b",
   "metadata": {},
   "outputs": [],
   "source": []
  },
  {
   "cell_type": "code",
   "execution_count": null,
   "id": "fa2ed94c",
   "metadata": {},
   "outputs": [],
   "source": []
  },
  {
   "cell_type": "code",
   "execution_count": null,
   "id": "77aaa558",
   "metadata": {},
   "outputs": [],
   "source": []
  },
  {
   "cell_type": "code",
   "execution_count": null,
   "id": "20528c14",
   "metadata": {},
   "outputs": [],
   "source": []
  },
  {
   "cell_type": "code",
   "execution_count": null,
   "id": "c562e01e",
   "metadata": {},
   "outputs": [],
   "source": []
  }
 ],
 "metadata": {
  "kernelspec": {
   "display_name": "Python 3 (ipykernel)",
   "language": "python",
   "name": "python3"
  },
  "language_info": {
   "codemirror_mode": {
    "name": "ipython",
    "version": 3
   },
   "file_extension": ".py",
   "mimetype": "text/x-python",
   "name": "python",
   "nbconvert_exporter": "python",
   "pygments_lexer": "ipython3",
   "version": "3.9.7"
  }
 },
 "nbformat": 4,
 "nbformat_minor": 5
}
